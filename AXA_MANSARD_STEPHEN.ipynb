{
 "cells": [
  {
   "cell_type": "code",
   "execution_count": 1,
   "metadata": {},
   "outputs": [],
   "source": [
    "import pandas as pd\n",
    "import numpy as np\n",
    "import matplotlib.pyplot as plt\n",
    "import seaborn as sns\n",
    "import warnings\n",
    "warnings.filterwarnings(\"ignore\")\n",
    "%matplotlib inline"
   ]
  },
  {
   "cell_type": "code",
   "execution_count": 2,
   "metadata": {},
   "outputs": [],
   "source": [
    "train = pd.read_csv('train_data.csv')\n",
    "test = pd.read_csv('test_data.csv')"
   ]
  },
  {
   "cell_type": "code",
   "execution_count": 3,
   "metadata": {},
   "outputs": [
    {
     "data": {
      "text/html": [
       "<div>\n",
       "<style scoped>\n",
       "    .dataframe tbody tr th:only-of-type {\n",
       "        vertical-align: middle;\n",
       "    }\n",
       "\n",
       "    .dataframe tbody tr th {\n",
       "        vertical-align: top;\n",
       "    }\n",
       "\n",
       "    .dataframe thead th {\n",
       "        text-align: right;\n",
       "    }\n",
       "</style>\n",
       "<table border=\"1\" class=\"dataframe\">\n",
       "  <thead>\n",
       "    <tr style=\"text-align: right;\">\n",
       "      <th></th>\n",
       "      <th>Customer Id</th>\n",
       "      <th>YearOfObservation</th>\n",
       "      <th>Insured_Period</th>\n",
       "      <th>Residential</th>\n",
       "      <th>Building_Painted</th>\n",
       "      <th>Building_Fenced</th>\n",
       "      <th>Garden</th>\n",
       "      <th>Settlement</th>\n",
       "      <th>Building Dimension</th>\n",
       "      <th>Building_Type</th>\n",
       "      <th>Date_of_Occupancy</th>\n",
       "      <th>NumberOfWindows</th>\n",
       "      <th>Geo_Code</th>\n",
       "      <th>Claim</th>\n",
       "    </tr>\n",
       "  </thead>\n",
       "  <tbody>\n",
       "    <tr>\n",
       "      <th>0</th>\n",
       "      <td>H14663</td>\n",
       "      <td>2013</td>\n",
       "      <td>1.0</td>\n",
       "      <td>0</td>\n",
       "      <td>N</td>\n",
       "      <td>V</td>\n",
       "      <td>V</td>\n",
       "      <td>U</td>\n",
       "      <td>290.0</td>\n",
       "      <td>1</td>\n",
       "      <td>1960.0</td>\n",
       "      <td>.</td>\n",
       "      <td>1053</td>\n",
       "      <td>0</td>\n",
       "    </tr>\n",
       "    <tr>\n",
       "      <th>1</th>\n",
       "      <td>H2037</td>\n",
       "      <td>2015</td>\n",
       "      <td>1.0</td>\n",
       "      <td>0</td>\n",
       "      <td>V</td>\n",
       "      <td>N</td>\n",
       "      <td>O</td>\n",
       "      <td>R</td>\n",
       "      <td>490.0</td>\n",
       "      <td>1</td>\n",
       "      <td>1850.0</td>\n",
       "      <td>4</td>\n",
       "      <td>1053</td>\n",
       "      <td>0</td>\n",
       "    </tr>\n",
       "    <tr>\n",
       "      <th>2</th>\n",
       "      <td>H3802</td>\n",
       "      <td>2014</td>\n",
       "      <td>1.0</td>\n",
       "      <td>0</td>\n",
       "      <td>N</td>\n",
       "      <td>V</td>\n",
       "      <td>V</td>\n",
       "      <td>U</td>\n",
       "      <td>595.0</td>\n",
       "      <td>1</td>\n",
       "      <td>1960.0</td>\n",
       "      <td>.</td>\n",
       "      <td>1053</td>\n",
       "      <td>0</td>\n",
       "    </tr>\n",
       "    <tr>\n",
       "      <th>3</th>\n",
       "      <td>H3834</td>\n",
       "      <td>2013</td>\n",
       "      <td>1.0</td>\n",
       "      <td>0</td>\n",
       "      <td>V</td>\n",
       "      <td>V</td>\n",
       "      <td>V</td>\n",
       "      <td>U</td>\n",
       "      <td>2840.0</td>\n",
       "      <td>1</td>\n",
       "      <td>1960.0</td>\n",
       "      <td>.</td>\n",
       "      <td>1053</td>\n",
       "      <td>0</td>\n",
       "    </tr>\n",
       "    <tr>\n",
       "      <th>4</th>\n",
       "      <td>H5053</td>\n",
       "      <td>2014</td>\n",
       "      <td>1.0</td>\n",
       "      <td>0</td>\n",
       "      <td>V</td>\n",
       "      <td>N</td>\n",
       "      <td>O</td>\n",
       "      <td>R</td>\n",
       "      <td>680.0</td>\n",
       "      <td>1</td>\n",
       "      <td>1800.0</td>\n",
       "      <td>3</td>\n",
       "      <td>1053</td>\n",
       "      <td>0</td>\n",
       "    </tr>\n",
       "  </tbody>\n",
       "</table>\n",
       "</div>"
      ],
      "text/plain": [
       "  Customer Id  YearOfObservation  Insured_Period  Residential  \\\n",
       "0      H14663               2013             1.0            0   \n",
       "1       H2037               2015             1.0            0   \n",
       "2       H3802               2014             1.0            0   \n",
       "3       H3834               2013             1.0            0   \n",
       "4       H5053               2014             1.0            0   \n",
       "\n",
       "  Building_Painted Building_Fenced Garden Settlement  Building Dimension  \\\n",
       "0                N               V      V          U               290.0   \n",
       "1                V               N      O          R               490.0   \n",
       "2                N               V      V          U               595.0   \n",
       "3                V               V      V          U              2840.0   \n",
       "4                V               N      O          R               680.0   \n",
       "\n",
       "   Building_Type  Date_of_Occupancy NumberOfWindows Geo_Code  Claim  \n",
       "0              1             1960.0               .     1053      0  \n",
       "1              1             1850.0               4     1053      0  \n",
       "2              1             1960.0               .     1053      0  \n",
       "3              1             1960.0               .     1053      0  \n",
       "4              1             1800.0               3     1053      0  "
      ]
     },
     "execution_count": 3,
     "metadata": {},
     "output_type": "execute_result"
    }
   ],
   "source": [
    "train.head()"
   ]
  },
  {
   "cell_type": "code",
   "execution_count": 4,
   "metadata": {},
   "outputs": [
    {
     "name": "stdout",
     "output_type": "stream",
     "text": [
      "<class 'pandas.core.frame.DataFrame'>\n",
      "RangeIndex: 3069 entries, 0 to 3068\n",
      "Data columns (total 13 columns):\n",
      "Customer Id           3069 non-null object\n",
      "YearOfObservation     3069 non-null int64\n",
      "Insured_Period        3069 non-null float64\n",
      "Residential           3069 non-null int64\n",
      "Building_Painted      3069 non-null object\n",
      "Building_Fenced       3069 non-null object\n",
      "Garden                3065 non-null object\n",
      "Settlement            3069 non-null object\n",
      "Building Dimension    3056 non-null float64\n",
      "Building_Type         3069 non-null int64\n",
      "Date_of_Occupancy     2341 non-null float64\n",
      "NumberOfWindows       3069 non-null object\n",
      "Geo_Code              3056 non-null object\n",
      "dtypes: float64(3), int64(3), object(7)\n",
      "memory usage: 311.8+ KB\n"
     ]
    }
   ],
   "source": [
    "test.info()"
   ]
  },
  {
   "cell_type": "code",
   "execution_count": 5,
   "metadata": {},
   "outputs": [
    {
     "data": {
      "text/plain": [
       "Customer Id             0\n",
       "YearOfObservation       0\n",
       "Insured_Period          0\n",
       "Residential             0\n",
       "Building_Painted        0\n",
       "Building_Fenced         0\n",
       "Garden                  4\n",
       "Settlement              0\n",
       "Building Dimension     13\n",
       "Building_Type           0\n",
       "Date_of_Occupancy     728\n",
       "NumberOfWindows         0\n",
       "Geo_Code               13\n",
       "dtype: int64"
      ]
     },
     "execution_count": 5,
     "metadata": {},
     "output_type": "execute_result"
    }
   ],
   "source": [
    "test.isnull().sum()"
   ]
  },
  {
   "cell_type": "code",
   "execution_count": 6,
   "metadata": {},
   "outputs": [
    {
     "data": {
      "text/plain": [
       "Customer Id             0\n",
       "YearOfObservation       0\n",
       "Insured_Period          0\n",
       "Residential             0\n",
       "Building_Painted        0\n",
       "Building_Fenced         0\n",
       "Garden                  7\n",
       "Settlement              0\n",
       "Building Dimension    106\n",
       "Building_Type           0\n",
       "Date_of_Occupancy     508\n",
       "NumberOfWindows         0\n",
       "Geo_Code              102\n",
       "Claim                   0\n",
       "dtype: int64"
      ]
     },
     "execution_count": 6,
     "metadata": {},
     "output_type": "execute_result"
    }
   ],
   "source": [
    "train.isnull().sum()"
   ]
  },
  {
   "cell_type": "code",
   "execution_count": 7,
   "metadata": {},
   "outputs": [
    {
     "data": {
      "text/html": [
       "<div>\n",
       "<style scoped>\n",
       "    .dataframe tbody tr th:only-of-type {\n",
       "        vertical-align: middle;\n",
       "    }\n",
       "\n",
       "    .dataframe tbody tr th {\n",
       "        vertical-align: top;\n",
       "    }\n",
       "\n",
       "    .dataframe thead th {\n",
       "        text-align: right;\n",
       "    }\n",
       "</style>\n",
       "<table border=\"1\" class=\"dataframe\">\n",
       "  <thead>\n",
       "    <tr style=\"text-align: right;\">\n",
       "      <th></th>\n",
       "      <th>YearOfObservation</th>\n",
       "      <th>Insured_Period</th>\n",
       "      <th>Residential</th>\n",
       "      <th>Building Dimension</th>\n",
       "      <th>Building_Type</th>\n",
       "      <th>Date_of_Occupancy</th>\n",
       "      <th>Claim</th>\n",
       "    </tr>\n",
       "  </thead>\n",
       "  <tbody>\n",
       "    <tr>\n",
       "      <th>count</th>\n",
       "      <td>7160.000000</td>\n",
       "      <td>7160.000000</td>\n",
       "      <td>7160.000000</td>\n",
       "      <td>7054.000000</td>\n",
       "      <td>7160.000000</td>\n",
       "      <td>6652.000000</td>\n",
       "      <td>7160.000000</td>\n",
       "    </tr>\n",
       "    <tr>\n",
       "      <th>mean</th>\n",
       "      <td>2013.669553</td>\n",
       "      <td>0.909758</td>\n",
       "      <td>0.305447</td>\n",
       "      <td>1883.727530</td>\n",
       "      <td>2.186034</td>\n",
       "      <td>1964.456404</td>\n",
       "      <td>0.228212</td>\n",
       "    </tr>\n",
       "    <tr>\n",
       "      <th>std</th>\n",
       "      <td>1.383769</td>\n",
       "      <td>0.239756</td>\n",
       "      <td>0.460629</td>\n",
       "      <td>2278.157745</td>\n",
       "      <td>0.940632</td>\n",
       "      <td>36.002014</td>\n",
       "      <td>0.419709</td>\n",
       "    </tr>\n",
       "    <tr>\n",
       "      <th>min</th>\n",
       "      <td>2012.000000</td>\n",
       "      <td>0.000000</td>\n",
       "      <td>0.000000</td>\n",
       "      <td>1.000000</td>\n",
       "      <td>1.000000</td>\n",
       "      <td>1545.000000</td>\n",
       "      <td>0.000000</td>\n",
       "    </tr>\n",
       "    <tr>\n",
       "      <th>25%</th>\n",
       "      <td>2012.000000</td>\n",
       "      <td>0.997268</td>\n",
       "      <td>0.000000</td>\n",
       "      <td>528.000000</td>\n",
       "      <td>2.000000</td>\n",
       "      <td>1960.000000</td>\n",
       "      <td>0.000000</td>\n",
       "    </tr>\n",
       "    <tr>\n",
       "      <th>50%</th>\n",
       "      <td>2013.000000</td>\n",
       "      <td>1.000000</td>\n",
       "      <td>0.000000</td>\n",
       "      <td>1083.000000</td>\n",
       "      <td>2.000000</td>\n",
       "      <td>1970.000000</td>\n",
       "      <td>0.000000</td>\n",
       "    </tr>\n",
       "    <tr>\n",
       "      <th>75%</th>\n",
       "      <td>2015.000000</td>\n",
       "      <td>1.000000</td>\n",
       "      <td>1.000000</td>\n",
       "      <td>2289.750000</td>\n",
       "      <td>3.000000</td>\n",
       "      <td>1980.000000</td>\n",
       "      <td>0.000000</td>\n",
       "    </tr>\n",
       "    <tr>\n",
       "      <th>max</th>\n",
       "      <td>2016.000000</td>\n",
       "      <td>1.000000</td>\n",
       "      <td>1.000000</td>\n",
       "      <td>20940.000000</td>\n",
       "      <td>4.000000</td>\n",
       "      <td>2016.000000</td>\n",
       "      <td>1.000000</td>\n",
       "    </tr>\n",
       "  </tbody>\n",
       "</table>\n",
       "</div>"
      ],
      "text/plain": [
       "       YearOfObservation  Insured_Period  Residential  Building Dimension  \\\n",
       "count        7160.000000     7160.000000  7160.000000         7054.000000   \n",
       "mean         2013.669553        0.909758     0.305447         1883.727530   \n",
       "std             1.383769        0.239756     0.460629         2278.157745   \n",
       "min          2012.000000        0.000000     0.000000            1.000000   \n",
       "25%          2012.000000        0.997268     0.000000          528.000000   \n",
       "50%          2013.000000        1.000000     0.000000         1083.000000   \n",
       "75%          2015.000000        1.000000     1.000000         2289.750000   \n",
       "max          2016.000000        1.000000     1.000000        20940.000000   \n",
       "\n",
       "       Building_Type  Date_of_Occupancy        Claim  \n",
       "count    7160.000000        6652.000000  7160.000000  \n",
       "mean        2.186034        1964.456404     0.228212  \n",
       "std         0.940632          36.002014     0.419709  \n",
       "min         1.000000        1545.000000     0.000000  \n",
       "25%         2.000000        1960.000000     0.000000  \n",
       "50%         2.000000        1970.000000     0.000000  \n",
       "75%         3.000000        1980.000000     0.000000  \n",
       "max         4.000000        2016.000000     1.000000  "
      ]
     },
     "execution_count": 7,
     "metadata": {},
     "output_type": "execute_result"
    }
   ],
   "source": [
    "train.describe()"
   ]
  },
  {
   "cell_type": "code",
   "execution_count": 8,
   "metadata": {},
   "outputs": [
    {
     "data": {
      "text/plain": [
       "(3069, 13)"
      ]
     },
     "execution_count": 8,
     "metadata": {},
     "output_type": "execute_result"
    }
   ],
   "source": [
    "test.shape"
   ]
  },
  {
   "cell_type": "code",
   "execution_count": 9,
   "metadata": {},
   "outputs": [
    {
     "data": {
      "text/plain": [
       "(7160, 14)"
      ]
     },
     "execution_count": 9,
     "metadata": {},
     "output_type": "execute_result"
    }
   ],
   "source": [
    "train.shape"
   ]
  },
  {
   "cell_type": "code",
   "execution_count": 10,
   "metadata": {},
   "outputs": [
    {
     "data": {
      "text/plain": [
       "10229"
      ]
     },
     "execution_count": 10,
     "metadata": {},
     "output_type": "execute_result"
    }
   ],
   "source": [
    "len(train) + len(test)"
   ]
  },
  {
   "cell_type": "code",
   "execution_count": 11,
   "metadata": {},
   "outputs": [],
   "source": [
    "columns = ['Customer Id', 'YearOfObservation', 'Insured_Period','Residential','Building_Painted', 'Building_Fenced',\n",
    "          'Garden', 'Settlement', 'Building Dimension', 'Building_Type', 'Date_of_Occupancy', 'NumberOfWindows',\n",
    "           'Geo_Code']\n",
    "def uniqueness(dataset, columns):\n",
    "    for col in columns:\n",
    "        key = dataset[col].value_counts().count()\n",
    "        print('..................')\n",
    "        print(col + ' ' + 'Column:', key)"
   ]
  },
  {
   "cell_type": "code",
   "execution_count": 12,
   "metadata": {},
   "outputs": [
    {
     "name": "stdout",
     "output_type": "stream",
     "text": [
      "..................\n",
      "Customer Id Column: 7160\n",
      "..................\n",
      "YearOfObservation Column: 5\n",
      "..................\n",
      "Insured_Period Column: 401\n",
      "..................\n",
      "Residential Column: 2\n",
      "..................\n",
      "Building_Painted Column: 2\n",
      "..................\n",
      "Building_Fenced Column: 2\n",
      "..................\n",
      "Garden Column: 2\n",
      "..................\n",
      "Settlement Column: 2\n",
      "..................\n",
      "Building Dimension Column: 2043\n",
      "..................\n",
      "Building_Type Column: 4\n",
      "..................\n",
      "Date_of_Occupancy Column: 134\n",
      "..................\n",
      "NumberOfWindows Column: 11\n",
      "..................\n",
      "Geo_Code Column: 1307\n"
     ]
    }
   ],
   "source": [
    "uniqueness(train, columns)"
   ]
  },
  {
   "cell_type": "code",
   "execution_count": 13,
   "metadata": {},
   "outputs": [
    {
     "name": "stdout",
     "output_type": "stream",
     "text": [
      "..................\n",
      "Customer Id Column: 3069\n",
      "..................\n",
      "YearOfObservation Column: 5\n",
      "..................\n",
      "Insured_Period Column: 198\n",
      "..................\n",
      "Residential Column: 2\n",
      "..................\n",
      "Building_Painted Column: 2\n",
      "..................\n",
      "Building_Fenced Column: 2\n",
      "..................\n",
      "Garden Column: 2\n",
      "..................\n",
      "Settlement Column: 2\n",
      "..................\n",
      "Building Dimension Column: 982\n",
      "..................\n",
      "Building_Type Column: 4\n",
      "..................\n",
      "Date_of_Occupancy Column: 89\n",
      "..................\n",
      "NumberOfWindows Column: 11\n",
      "..................\n",
      "Geo_Code Column: 697\n"
     ]
    }
   ],
   "source": [
    "uniqueness(test, columns)"
   ]
  },
  {
   "cell_type": "markdown",
   "metadata": {},
   "source": [
    "# VISUALIZATION"
   ]
  },
  {
   "cell_type": "code",
   "execution_count": 14,
   "metadata": {},
   "outputs": [
    {
     "data": {
      "text/plain": [
       "<matplotlib.axes._subplots.AxesSubplot at 0x26b8ba30898>"
      ]
     },
     "execution_count": 14,
     "metadata": {},
     "output_type": "execute_result"
    },
    {
     "data": {
      "image/png": "[encoded data removed]",
      "text/plain": [
       "<Figure size 432x288 with 1 Axes>"
      ]
     },
     "metadata": {
      "needs_background": "light"
     },
     "output_type": "display_data"
    }
   ],
   "source": [
    "sns.countplot(train['Building_Painted'], hue='Claim', data=train)"
   ]
  },
  {
   "cell_type": "code",
   "execution_count": 15,
   "metadata": {},
   "outputs": [
    {
     "data": {
      "text/plain": [
       "<matplotlib.axes._subplots.AxesSubplot at 0x26b8bb855c0>"
      ]
     },
     "execution_count": 15,
     "metadata": {},
     "output_type": "execute_result"
    },
    {
     "data": {
      "image/png": "[encoded data removed]",
      "text/plain": [
       "<Figure size 432x288 with 1 Axes>"
      ]
     },
     "metadata": {
      "needs_background": "light"
     },
     "output_type": "display_data"
    }
   ],
   "source": [
    "sns.countplot(train['Building_Fenced'], hue='Claim', data=train)"
   ]
  },
  {
   "cell_type": "code",
   "execution_count": 16,
   "metadata": {},
   "outputs": [
    {
     "data": {
      "text/plain": [
       "<matplotlib.axes._subplots.AxesSubplot at 0x26b8bbfcb38>"
      ]
     },
     "execution_count": 16,
     "metadata": {},
     "output_type": "execute_result"
    },
    {
     "data": {
      "image/png": "[encoded data removed]",
      "text/plain": [
       "<Figure size 432x288 with 1 Axes>"
      ]
     },
     "metadata": {
      "needs_background": "light"
     },
     "output_type": "display_data"
    }
   ],
   "source": [
    "sns.countplot(train['Garden'], hue='Claim', data=train)"
   ]
  },
  {
   "cell_type": "code",
   "execution_count": 17,
   "metadata": {},
   "outputs": [
    {
     "data": {
      "text/plain": [
       "<matplotlib.axes._subplots.AxesSubplot at 0x26b8bc48908>"
      ]
     },
     "execution_count": 17,
     "metadata": {},
     "output_type": "execute_result"
    },
    {
     "data": {
      "image/png": "[encoded data removed]",
      "text/plain": [
       "<Figure size 432x288 with 1 Axes>"
      ]
     },
     "metadata": {
      "needs_background": "light"
     },
     "output_type": "display_data"
    }
   ],
   "source": [
    "sns.countplot(train['Settlement'], hue='Claim', data=train)"
   ]
  },
  {
   "cell_type": "code",
   "execution_count": 18,
   "metadata": {},
   "outputs": [
    {
     "data": {
      "text/plain": [
       "<matplotlib.axes._subplots.AxesSubplot at 0x26b8bc48f98>"
      ]
     },
     "execution_count": 18,
     "metadata": {},
     "output_type": "execute_result"
    },
    {
     "data": {
      "image/png": "[encoded data removed]",
      "text/plain": [
       "<Figure size 432x288 with 1 Axes>"
      ]
     },
     "metadata": {
      "needs_background": "light"
     },
     "output_type": "display_data"
    }
   ],
   "source": [
    "train['Building Dimension'].hist()"
   ]
  },
  {
   "cell_type": "code",
   "execution_count": 19,
   "metadata": {},
   "outputs": [
    {
     "data": {
      "text/plain": [
       "V    2240\n",
       "N     829\n",
       "Name: Building_Fenced, dtype: int64"
      ]
     },
     "execution_count": 19,
     "metadata": {},
     "output_type": "execute_result"
    }
   ],
   "source": [
    "test['Building_Fenced'].value_counts(dropna=False)"
   ]
  },
  {
   "cell_type": "code",
   "execution_count": 20,
   "metadata": {},
   "outputs": [
    {
     "data": {
      "text/plain": [
       "V    1684\n",
       "N    1385\n",
       "Name: Building_Painted, dtype: int64"
      ]
     },
     "execution_count": 20,
     "metadata": {},
     "output_type": "execute_result"
    }
   ],
   "source": [
    "test['Building_Painted'].value_counts(dropna=False)"
   ]
  },
  {
   "cell_type": "code",
   "execution_count": 21,
   "metadata": {},
   "outputs": [
    {
     "data": {
      "text/plain": [
       "0    4973\n",
       "1    2187\n",
       "Name: Residential, dtype: int64"
      ]
     },
     "execution_count": 21,
     "metadata": {},
     "output_type": "execute_result"
    }
   ],
   "source": [
    "train['Residential'].value_counts(dropna=False)"
   ]
  },
  {
   "cell_type": "code",
   "execution_count": 22,
   "metadata": {},
   "outputs": [
    {
     "data": {
      "text/plain": [
       "0    2381\n",
       "1     688\n",
       "Name: Residential, dtype: int64"
      ]
     },
     "execution_count": 22,
     "metadata": {},
     "output_type": "execute_result"
    }
   ],
   "source": [
    "test['Residential'].value_counts(dropna=False)"
   ]
  },
  {
   "cell_type": "code",
   "execution_count": 23,
   "metadata": {},
   "outputs": [
    {
     "data": {
      "text/plain": [
       "O      3602\n",
       "V      3551\n",
       "NaN       7\n",
       "Name: Garden, dtype: int64"
      ]
     },
     "execution_count": 23,
     "metadata": {},
     "output_type": "execute_result"
    }
   ],
   "source": [
    "train['Garden'].value_counts(dropna=False)"
   ]
  },
  {
   "cell_type": "code",
   "execution_count": 24,
   "metadata": {},
   "outputs": [
    {
     "data": {
      "text/plain": [
       "V      2240\n",
       "O       825\n",
       "NaN       4\n",
       "Name: Garden, dtype: int64"
      ]
     },
     "execution_count": 24,
     "metadata": {},
     "output_type": "execute_result"
    }
   ],
   "source": [
    "test['Garden'].value_counts(dropna=False)"
   ]
  },
  {
   "cell_type": "code",
   "execution_count": 25,
   "metadata": {},
   "outputs": [
    {
     "data": {
      "text/plain": [
       "<bound method IndexOpsMixin.value_counts of 0        290.0\n",
       "1        490.0\n",
       "2        595.0\n",
       "3       2840.0\n",
       "4        680.0\n",
       "         ...  \n",
       "7155       NaN\n",
       "7156       NaN\n",
       "7157       NaN\n",
       "7158       NaN\n",
       "7159       NaN\n",
       "Name: Building Dimension, Length: 7160, dtype: float64>"
      ]
     },
     "execution_count": 25,
     "metadata": {},
     "output_type": "execute_result"
    }
   ],
   "source": [
    "train['Building Dimension'].value_counts"
   ]
  },
  {
   "cell_type": "code",
   "execution_count": 26,
   "metadata": {},
   "outputs": [
    {
     "data": {
      "text/plain": [
       "400.0      68\n",
       "450.0      67\n",
       "300.0      62\n",
       "350.0      61\n",
       "600.0      58\n",
       "           ..\n",
       "61.0        1\n",
       "508.0       1\n",
       "13028.0     1\n",
       "313.0       1\n",
       "2205.0      1\n",
       "Name: Building Dimension, Length: 982, dtype: int64"
      ]
     },
     "execution_count": 26,
     "metadata": {},
     "output_type": "execute_result"
    }
   ],
   "source": [
    "test['Building Dimension'].value_counts()"
   ]
  },
  {
   "cell_type": "code",
   "execution_count": 27,
   "metadata": {},
   "outputs": [
    {
     "data": {
      "text/plain": [
       "1960.0    1818\n",
       "1980.0    1155\n",
       "1988.0     530\n",
       "1900.0     371\n",
       "1970.0     285\n",
       "          ... \n",
       "1908.0       1\n",
       "1946.0       1\n",
       "1939.0       1\n",
       "1931.0       1\n",
       "1927.0       1\n",
       "Name: Date_of_Occupancy, Length: 134, dtype: int64"
      ]
     },
     "execution_count": 27,
     "metadata": {},
     "output_type": "execute_result"
    }
   ],
   "source": [
    "train['Date_of_Occupancy'].value_counts()"
   ]
  },
  {
   "cell_type": "code",
   "execution_count": 28,
   "metadata": {},
   "outputs": [
    {
     "data": {
      "text/plain": [
       "6083     113\n",
       "6088      95\n",
       "2B033     74\n",
       "13206     68\n",
       "13204     61\n",
       "        ... \n",
       "67268      1\n",
       "77057      1\n",
       "54549      1\n",
       "13019      1\n",
       "14117      1\n",
       "Name: Geo_Code, Length: 697, dtype: int64"
      ]
     },
     "execution_count": 28,
     "metadata": {},
     "output_type": "execute_result"
    }
   ],
   "source": [
    "test['Geo_Code'].value_counts()"
   ]
  },
  {
   "cell_type": "code",
   "execution_count": 29,
   "metadata": {},
   "outputs": [
    {
     "data": {
      "text/html": [
       "<div>\n",
       "<style scoped>\n",
       "    .dataframe tbody tr th:only-of-type {\n",
       "        vertical-align: middle;\n",
       "    }\n",
       "\n",
       "    .dataframe tbody tr th {\n",
       "        vertical-align: top;\n",
       "    }\n",
       "\n",
       "    .dataframe thead th {\n",
       "        text-align: right;\n",
       "    }\n",
       "</style>\n",
       "<table border=\"1\" class=\"dataframe\">\n",
       "  <thead>\n",
       "    <tr style=\"text-align: right;\">\n",
       "      <th></th>\n",
       "      <th>Geo_Code</th>\n",
       "    </tr>\n",
       "  </thead>\n",
       "  <tbody>\n",
       "    <tr>\n",
       "      <th>6088</th>\n",
       "      <td>143</td>\n",
       "    </tr>\n",
       "    <tr>\n",
       "      <th>33063</th>\n",
       "      <td>137</td>\n",
       "    </tr>\n",
       "    <tr>\n",
       "      <th>6083</th>\n",
       "      <td>113</td>\n",
       "    </tr>\n",
       "    <tr>\n",
       "      <th>13206</th>\n",
       "      <td>98</td>\n",
       "    </tr>\n",
       "    <tr>\n",
       "      <th>31555</th>\n",
       "      <td>87</td>\n",
       "    </tr>\n",
       "    <tr>\n",
       "      <th>...</th>\n",
       "      <td>...</td>\n",
       "    </tr>\n",
       "    <tr>\n",
       "      <th>69290</th>\n",
       "      <td>1</td>\n",
       "    </tr>\n",
       "    <tr>\n",
       "      <th>57430</th>\n",
       "      <td>1</td>\n",
       "    </tr>\n",
       "    <tr>\n",
       "      <th>91044</th>\n",
       "      <td>1</td>\n",
       "    </tr>\n",
       "    <tr>\n",
       "      <th>83130</th>\n",
       "      <td>1</td>\n",
       "    </tr>\n",
       "    <tr>\n",
       "      <th>76254</th>\n",
       "      <td>1</td>\n",
       "    </tr>\n",
       "  </tbody>\n",
       "</table>\n",
       "<p>1307 rows × 1 columns</p>\n",
       "</div>"
      ],
      "text/plain": [
       "       Geo_Code\n",
       "6088        143\n",
       "33063       137\n",
       "6083        113\n",
       "13206        98\n",
       "31555        87\n",
       "...         ...\n",
       "69290         1\n",
       "57430         1\n",
       "91044         1\n",
       "83130         1\n",
       "76254         1\n",
       "\n",
       "[1307 rows x 1 columns]"
      ]
     },
     "execution_count": 29,
     "metadata": {},
     "output_type": "execute_result"
    }
   ],
   "source": [
    "train['Geo_Code'].value_counts().to_frame()"
   ]
  },
  {
   "cell_type": "code",
   "execution_count": 30,
   "metadata": {},
   "outputs": [],
   "source": [
    "train.Garden.fillna(train['Garden'].mode()[0], inplace =True)\n",
    "test.Garden.fillna(test['Garden'].mode()[0], inplace =True)"
   ]
  },
  {
   "cell_type": "code",
   "execution_count": 31,
   "metadata": {},
   "outputs": [
    {
     "data": {
      "text/plain": [
       "V    2244\n",
       "O     825\n",
       "Name: Garden, dtype: int64"
      ]
     },
     "execution_count": 31,
     "metadata": {},
     "output_type": "execute_result"
    }
   ],
   "source": [
    "test['Garden'].value_counts(dropna=False)"
   ]
  },
  {
   "cell_type": "code",
   "execution_count": 32,
   "metadata": {},
   "outputs": [],
   "source": [
    "train.Geo_Code.fillna(train['Geo_Code'].mode()[0], inplace =True)\n",
    "test.Geo_Code.fillna(test['Geo_Code'].mode()[0], inplace =True)"
   ]
  },
  {
   "cell_type": "code",
   "execution_count": 33,
   "metadata": {},
   "outputs": [
    {
     "data": {
      "text/plain": [
       "0"
      ]
     },
     "execution_count": 33,
     "metadata": {},
     "output_type": "execute_result"
    }
   ],
   "source": [
    "test['Geo_Code'].isna().sum()"
   ]
  },
  {
   "cell_type": "code",
   "execution_count": 34,
   "metadata": {},
   "outputs": [],
   "source": [
    "train['Building Dimension'].fillna(train['Building Dimension'].mode()[0], inplace =True)\n",
    "test['Building Dimension'].fillna(test['Building Dimension'].mode()[0], inplace =True)"
   ]
  },
  {
   "cell_type": "code",
   "execution_count": 35,
   "metadata": {},
   "outputs": [
    {
     "data": {
      "text/plain": [
       "0"
      ]
     },
     "execution_count": 35,
     "metadata": {},
     "output_type": "execute_result"
    }
   ],
   "source": [
    "train['Building Dimension'].isna().sum()"
   ]
  },
  {
   "cell_type": "code",
   "execution_count": 36,
   "metadata": {},
   "outputs": [],
   "source": [
    "train['Date_of_Occupancy'].fillna(train['Date_of_Occupancy'].mode()[0], inplace =True)\n",
    "test['Date_of_Occupancy'].fillna(test['Date_of_Occupancy'].mode()[0], inplace =True)"
   ]
  },
  {
   "cell_type": "code",
   "execution_count": 37,
   "metadata": {},
   "outputs": [
    {
     "data": {
      "text/plain": [
       "0"
      ]
     },
     "execution_count": 37,
     "metadata": {},
     "output_type": "execute_result"
    }
   ],
   "source": [
    "train['Date_of_Occupancy'].isna().sum()"
   ]
  },
  {
   "cell_type": "code",
   "execution_count": 38,
   "metadata": {},
   "outputs": [
    {
     "data": {
      "text/plain": [
       "array([2013, 2015, 2014, 2012, 2016], dtype=int64)"
      ]
     },
     "execution_count": 38,
     "metadata": {},
     "output_type": "execute_result"
    }
   ],
   "source": [
    "train.YearOfObservation.unique()"
   ]
  },
  {
   "cell_type": "code",
   "execution_count": 39,
   "metadata": {},
   "outputs": [
    {
     "data": {
      "text/plain": [
       "2019"
      ]
     },
     "execution_count": 39,
     "metadata": {},
     "output_type": "execute_result"
    }
   ],
   "source": [
    "from datetime import date\n",
    "import datetime\n",
    "pd.Timestamp('now').year"
   ]
  },
  {
   "cell_type": "code",
   "execution_count": 40,
   "metadata": {},
   "outputs": [],
   "source": [
    "train['Occupancy_duration'] = pd.Timestamp('now').year - train['Date_of_Occupancy']\n",
    "test['Occupancy_duration'] = pd.Timestamp('now').year - test['Date_of_Occupancy']"
   ]
  },
  {
   "cell_type": "code",
   "execution_count": 41,
   "metadata": {},
   "outputs": [
    {
     "data": {
      "text/html": [
       "<div>\n",
       "<style scoped>\n",
       "    .dataframe tbody tr th:only-of-type {\n",
       "        vertical-align: middle;\n",
       "    }\n",
       "\n",
       "    .dataframe tbody tr th {\n",
       "        vertical-align: top;\n",
       "    }\n",
       "\n",
       "    .dataframe thead th {\n",
       "        text-align: right;\n",
       "    }\n",
       "</style>\n",
       "<table border=\"1\" class=\"dataframe\">\n",
       "  <thead>\n",
       "    <tr style=\"text-align: right;\">\n",
       "      <th></th>\n",
       "      <th>Customer Id</th>\n",
       "      <th>YearOfObservation</th>\n",
       "      <th>Insured_Period</th>\n",
       "      <th>Residential</th>\n",
       "      <th>Building_Painted</th>\n",
       "      <th>Building_Fenced</th>\n",
       "      <th>Garden</th>\n",
       "      <th>Settlement</th>\n",
       "      <th>Building Dimension</th>\n",
       "      <th>Building_Type</th>\n",
       "      <th>Date_of_Occupancy</th>\n",
       "      <th>NumberOfWindows</th>\n",
       "      <th>Geo_Code</th>\n",
       "      <th>Claim</th>\n",
       "      <th>Occupancy_duration</th>\n",
       "    </tr>\n",
       "  </thead>\n",
       "  <tbody>\n",
       "    <tr>\n",
       "      <th>0</th>\n",
       "      <td>H14663</td>\n",
       "      <td>2013</td>\n",
       "      <td>1.0</td>\n",
       "      <td>0</td>\n",
       "      <td>N</td>\n",
       "      <td>V</td>\n",
       "      <td>V</td>\n",
       "      <td>U</td>\n",
       "      <td>290.0</td>\n",
       "      <td>1</td>\n",
       "      <td>1960.0</td>\n",
       "      <td>.</td>\n",
       "      <td>1053</td>\n",
       "      <td>0</td>\n",
       "      <td>59.0</td>\n",
       "    </tr>\n",
       "    <tr>\n",
       "      <th>1</th>\n",
       "      <td>H2037</td>\n",
       "      <td>2015</td>\n",
       "      <td>1.0</td>\n",
       "      <td>0</td>\n",
       "      <td>V</td>\n",
       "      <td>N</td>\n",
       "      <td>O</td>\n",
       "      <td>R</td>\n",
       "      <td>490.0</td>\n",
       "      <td>1</td>\n",
       "      <td>1850.0</td>\n",
       "      <td>4</td>\n",
       "      <td>1053</td>\n",
       "      <td>0</td>\n",
       "      <td>169.0</td>\n",
       "    </tr>\n",
       "    <tr>\n",
       "      <th>2</th>\n",
       "      <td>H3802</td>\n",
       "      <td>2014</td>\n",
       "      <td>1.0</td>\n",
       "      <td>0</td>\n",
       "      <td>N</td>\n",
       "      <td>V</td>\n",
       "      <td>V</td>\n",
       "      <td>U</td>\n",
       "      <td>595.0</td>\n",
       "      <td>1</td>\n",
       "      <td>1960.0</td>\n",
       "      <td>.</td>\n",
       "      <td>1053</td>\n",
       "      <td>0</td>\n",
       "      <td>59.0</td>\n",
       "    </tr>\n",
       "    <tr>\n",
       "      <th>3</th>\n",
       "      <td>H3834</td>\n",
       "      <td>2013</td>\n",
       "      <td>1.0</td>\n",
       "      <td>0</td>\n",
       "      <td>V</td>\n",
       "      <td>V</td>\n",
       "      <td>V</td>\n",
       "      <td>U</td>\n",
       "      <td>2840.0</td>\n",
       "      <td>1</td>\n",
       "      <td>1960.0</td>\n",
       "      <td>.</td>\n",
       "      <td>1053</td>\n",
       "      <td>0</td>\n",
       "      <td>59.0</td>\n",
       "    </tr>\n",
       "    <tr>\n",
       "      <th>4</th>\n",
       "      <td>H5053</td>\n",
       "      <td>2014</td>\n",
       "      <td>1.0</td>\n",
       "      <td>0</td>\n",
       "      <td>V</td>\n",
       "      <td>N</td>\n",
       "      <td>O</td>\n",
       "      <td>R</td>\n",
       "      <td>680.0</td>\n",
       "      <td>1</td>\n",
       "      <td>1800.0</td>\n",
       "      <td>3</td>\n",
       "      <td>1053</td>\n",
       "      <td>0</td>\n",
       "      <td>219.0</td>\n",
       "    </tr>\n",
       "  </tbody>\n",
       "</table>\n",
       "</div>"
      ],
      "text/plain": [
       "  Customer Id  YearOfObservation  Insured_Period  Residential  \\\n",
       "0      H14663               2013             1.0            0   \n",
       "1       H2037               2015             1.0            0   \n",
       "2       H3802               2014             1.0            0   \n",
       "3       H3834               2013             1.0            0   \n",
       "4       H5053               2014             1.0            0   \n",
       "\n",
       "  Building_Painted Building_Fenced Garden Settlement  Building Dimension  \\\n",
       "0                N               V      V          U               290.0   \n",
       "1                V               N      O          R               490.0   \n",
       "2                N               V      V          U               595.0   \n",
       "3                V               V      V          U              2840.0   \n",
       "4                V               N      O          R               680.0   \n",
       "\n",
       "   Building_Type  Date_of_Occupancy NumberOfWindows Geo_Code  Claim  \\\n",
       "0              1             1960.0               .     1053      0   \n",
       "1              1             1850.0               4     1053      0   \n",
       "2              1             1960.0               .     1053      0   \n",
       "3              1             1960.0               .     1053      0   \n",
       "4              1             1800.0               3     1053      0   \n",
       "\n",
       "   Occupancy_duration  \n",
       "0                59.0  \n",
       "1               169.0  \n",
       "2                59.0  \n",
       "3                59.0  \n",
       "4               219.0  "
      ]
     },
     "execution_count": 41,
     "metadata": {},
     "output_type": "execute_result"
    }
   ],
   "source": [
    "train.head()"
   ]
  },
  {
   "cell_type": "code",
   "execution_count": 42,
   "metadata": {},
   "outputs": [
    {
     "data": {
      "text/plain": [
       "array(['   .', '4', '3', '2', '5', '>=10', '6', '7', '9', '8', '1'],\n",
       "      dtype=object)"
      ]
     },
     "execution_count": 42,
     "metadata": {},
     "output_type": "execute_result"
    }
   ],
   "source": [
    "train['NumberOfWindows'].unique()"
   ]
  },
  {
   "cell_type": "code",
   "execution_count": 43,
   "metadata": {},
   "outputs": [
    {
     "data": {
      "text/plain": [
       "array(['   .', '4', '3', '2', '5', '10', '6', '7', '9', '8', '1'],\n",
       "      dtype=object)"
      ]
     },
     "execution_count": 43,
     "metadata": {},
     "output_type": "execute_result"
    }
   ],
   "source": [
    "train['NumberOfWindows'].replace({'>=10':'10'}, inplace = True)\n",
    "train['NumberOfWindows'].unique()"
   ]
  },
  {
   "cell_type": "code",
   "execution_count": 44,
   "metadata": {},
   "outputs": [
    {
     "data": {
      "text/plain": [
       "array(['3', '   .', '2', '4', '9', '5', '6', '8', '10', '7', '1'],\n",
       "      dtype=object)"
      ]
     },
     "execution_count": 44,
     "metadata": {},
     "output_type": "execute_result"
    }
   ],
   "source": [
    "test['NumberOfWindows'].replace({'>=10':'10'}, inplace = True)\n",
    "test['NumberOfWindows'].unique()"
   ]
  },
  {
   "cell_type": "code",
   "execution_count": 45,
   "metadata": {},
   "outputs": [
    {
     "name": "stdout",
     "output_type": "stream",
     "text": [
      "<class 'pandas.core.frame.DataFrame'>\n",
      "RangeIndex: 7160 entries, 0 to 7159\n",
      "Data columns (total 15 columns):\n",
      "Customer Id           7160 non-null object\n",
      "YearOfObservation     7160 non-null int64\n",
      "Insured_Period        7160 non-null float64\n",
      "Residential           7160 non-null int64\n",
      "Building_Painted      7160 non-null object\n",
      "Building_Fenced       7160 non-null object\n",
      "Garden                7160 non-null object\n",
      "Settlement            7160 non-null object\n",
      "Building Dimension    7160 non-null float64\n",
      "Building_Type         7160 non-null int64\n",
      "Date_of_Occupancy     7160 non-null float64\n",
      "NumberOfWindows       7160 non-null object\n",
      "Geo_Code              7160 non-null object\n",
      "Claim                 7160 non-null int64\n",
      "Occupancy_duration    7160 non-null float64\n",
      "dtypes: float64(4), int64(4), object(7)\n",
      "memory usage: 839.2+ KB\n"
     ]
    }
   ],
   "source": [
    "train.info()"
   ]
  },
  {
   "cell_type": "code",
   "execution_count": 46,
   "metadata": {},
   "outputs": [
    {
     "data": {
      "text/plain": [
       "Customer Id            object\n",
       "YearOfObservation       int64\n",
       "Insured_Period        float64\n",
       "Residential             int64\n",
       "Building_Painted       object\n",
       "Building_Fenced        object\n",
       "Garden                 object\n",
       "Settlement             object\n",
       "Building Dimension    float64\n",
       "Building_Type           int64\n",
       "Date_of_Occupancy     float64\n",
       "NumberOfWindows        object\n",
       "Geo_Code               object\n",
       "Occupancy_duration    float64\n",
       "dtype: object"
      ]
     },
     "execution_count": 46,
     "metadata": {},
     "output_type": "execute_result"
    }
   ],
   "source": [
    "test.dtypes"
   ]
  },
  {
   "cell_type": "code",
   "execution_count": 47,
   "metadata": {},
   "outputs": [
    {
     "data": {
      "text/plain": [
       "Customer Id            object\n",
       "YearOfObservation       int64\n",
       "Insured_Period        float64\n",
       "Residential             int64\n",
       "Building_Painted       object\n",
       "Building_Fenced        object\n",
       "Garden                 object\n",
       "Settlement             object\n",
       "Building Dimension    float64\n",
       "Building_Type           int64\n",
       "Date_of_Occupancy     float64\n",
       "NumberOfWindows        object\n",
       "Geo_Code               object\n",
       "Claim                   int64\n",
       "Occupancy_duration    float64\n",
       "dtype: object"
      ]
     },
     "execution_count": 47,
     "metadata": {},
     "output_type": "execute_result"
    }
   ],
   "source": [
    "train.dtypes"
   ]
  },
  {
   "cell_type": "code",
   "execution_count": 48,
   "metadata": {},
   "outputs": [
    {
     "data": {
      "text/plain": [
       "2012    1858\n",
       "2013    1811\n",
       "2014    1373\n",
       "2015    1075\n",
       "2016    1043\n",
       "Name: YearOfObservation, dtype: int64"
      ]
     },
     "execution_count": 48,
     "metadata": {},
     "output_type": "execute_result"
    }
   ],
   "source": [
    "train['YearOfObservation'].value_counts()"
   ]
  },
  {
   "cell_type": "code",
   "execution_count": 49,
   "metadata": {},
   "outputs": [],
   "source": [
    "test['YearOfObservation'] = test['YearOfObservation'].replace({0:2011})\n",
    "train['YearOfObservation'] = train['YearOfObservation'].replace({0:2011})"
   ]
  },
  {
   "cell_type": "code",
   "execution_count": 50,
   "metadata": {},
   "outputs": [],
   "source": [
    "test['Observed_years'] = pd.Timestamp('now').year - test['YearOfObservation']\n",
    "train['Observed_years'] = pd.Timestamp('now').year - train['YearOfObservation']"
   ]
  },
  {
   "cell_type": "code",
   "execution_count": 51,
   "metadata": {},
   "outputs": [
    {
     "data": {
      "text/plain": [
       "array([6, 4, 5, 7, 3], dtype=int64)"
      ]
     },
     "execution_count": 51,
     "metadata": {},
     "output_type": "execute_result"
    }
   ],
   "source": [
    "train['Observed_years'].unique()"
   ]
  },
  {
   "cell_type": "code",
   "execution_count": 52,
   "metadata": {},
   "outputs": [],
   "source": [
    "def insurance_fxn(x):\n",
    "    if x >= 0.800:\n",
    "        return 'one year'\n",
    "    elif x >= 0.490 and x < 0.800:\n",
    "        return 'half a year'\n",
    "    else:\n",
    "        return 'quarter'"
   ]
  },
  {
   "cell_type": "code",
   "execution_count": 53,
   "metadata": {},
   "outputs": [],
   "source": [
    "train['insurance_duration'] = train['Insured_Period'].apply(insurance_fxn)\n",
    "#train['Insured_Period'].unique()"
   ]
  },
  {
   "cell_type": "code",
   "execution_count": 54,
   "metadata": {},
   "outputs": [],
   "source": [
    "def insurance_fxn(x):\n",
    "    if x >= 0.800:\n",
    "        return 'one year'\n",
    "    elif x >= 0.490 and x < 0.800:\n",
    "        return 'half a year'\n",
    "    else:\n",
    "        return 'quarter'"
   ]
  },
  {
   "cell_type": "code",
   "execution_count": 55,
   "metadata": {},
   "outputs": [],
   "source": [
    "test['insurance_duration'] = test['Insured_Period'].apply(insurance_fxn)"
   ]
  },
  {
   "cell_type": "code",
   "execution_count": 56,
   "metadata": {},
   "outputs": [
    {
     "data": {
      "text/plain": [
       "0    5526\n",
       "1    1634\n",
       "Name: Claim, dtype: int64"
      ]
     },
     "execution_count": 56,
     "metadata": {},
     "output_type": "execute_result"
    }
   ],
   "source": [
    "train['Claim'].value_counts()"
   ]
  },
  {
   "cell_type": "code",
   "execution_count": 57,
   "metadata": {},
   "outputs": [],
   "source": [
    "from sklearn.preprocessing import LabelEncoder\n",
    "labelencoder_test = LabelEncoder()\n",
    "test['Garden'] = labelencoder_test.fit_transform(test['Garden'])"
   ]
  },
  {
   "cell_type": "code",
   "execution_count": 58,
   "metadata": {},
   "outputs": [],
   "source": [
    "from sklearn.preprocessing import LabelEncoder\n",
    "labelencoder_train = LabelEncoder()\n",
    "train['Garden'] = labelencoder_train.fit_transform(train['Garden'])"
   ]
  },
  {
   "cell_type": "code",
   "execution_count": 59,
   "metadata": {},
   "outputs": [],
   "source": [
    "from sklearn.preprocessing import LabelEncoder\n",
    "labelencoder_test = LabelEncoder()\n",
    "test['Building_Fenced'] = labelencoder_test.fit_transform(test['Building_Fenced'])"
   ]
  },
  {
   "cell_type": "code",
   "execution_count": 60,
   "metadata": {},
   "outputs": [],
   "source": [
    "from sklearn.preprocessing import LabelEncoder\n",
    "labelencoder_train = LabelEncoder()\n",
    "train['Building_Fenced'] = labelencoder_train.fit_transform(train['Building_Fenced'])"
   ]
  },
  {
   "cell_type": "code",
   "execution_count": 61,
   "metadata": {},
   "outputs": [],
   "source": [
    "from sklearn.preprocessing import LabelEncoder\n",
    "labelencoder_test = LabelEncoder()\n",
    "test['Building_Painted'] = labelencoder_test.fit_transform(test['Building_Painted'])"
   ]
  },
  {
   "cell_type": "code",
   "execution_count": 62,
   "metadata": {},
   "outputs": [],
   "source": [
    "from sklearn.preprocessing import LabelEncoder\n",
    "labelencoder_train = LabelEncoder()\n",
    "train['Building_Painted'] = labelencoder_train.fit_transform(train['Building_Painted'])"
   ]
  },
  {
   "cell_type": "code",
   "execution_count": 63,
   "metadata": {},
   "outputs": [],
   "source": [
    "from sklearn.preprocessing import LabelEncoder\n",
    "labelencoder_train = LabelEncoder()\n",
    "train['Settlement'] = labelencoder_train.fit_transform(train['Settlement'])"
   ]
  },
  {
   "cell_type": "code",
   "execution_count": 64,
   "metadata": {},
   "outputs": [],
   "source": [
    "from sklearn.preprocessing import LabelEncoder\n",
    "labelencoder_test = LabelEncoder()\n",
    "test['Settlement'] = labelencoder_test.fit_transform(test['Settlement'])"
   ]
  },
  {
   "cell_type": "code",
   "execution_count": 65,
   "metadata": {},
   "outputs": [],
   "source": [
    "train['ageing'] = train['YearOfObservation']-train['Date_of_Occupancy']\n",
    "test['ageing'] = test['YearOfObservation']-test['Date_of_Occupancy']"
   ]
  },
  {
   "cell_type": "code",
   "execution_count": 66,
   "metadata": {},
   "outputs": [],
   "source": [
    "def fifties(x):\n",
    "    if x >= 50:\n",
    "        return 0\n",
    "    else:\n",
    "        return 1\n",
    "train['aged_50'] =train['ageing'].apply(fifties)"
   ]
  },
  {
   "cell_type": "code",
   "execution_count": 67,
   "metadata": {},
   "outputs": [],
   "source": [
    "def fifties(x):\n",
    "    if x >= 50:\n",
    "        return 0\n",
    "    else:\n",
    "        return 1\n",
    "test['aged_50'] =test['ageing'].apply(fifties)"
   ]
  },
  {
   "cell_type": "code",
   "execution_count": 68,
   "metadata": {},
   "outputs": [],
   "source": [
    "X = train.drop(['Claim'], axis =1)\n",
    "y = train.Claim"
   ]
  },
  {
   "cell_type": "code",
   "execution_count": 69,
   "metadata": {},
   "outputs": [
    {
     "name": "stdout",
     "output_type": "stream",
     "text": [
      "<class 'pandas.core.frame.DataFrame'>\n",
      "RangeIndex: 7160 entries, 0 to 7159\n",
      "Data columns (total 19 columns):\n",
      "Customer Id           7160 non-null object\n",
      "YearOfObservation     7160 non-null int64\n",
      "Insured_Period        7160 non-null float64\n",
      "Residential           7160 non-null int64\n",
      "Building_Painted      7160 non-null int32\n",
      "Building_Fenced       7160 non-null int32\n",
      "Garden                7160 non-null int32\n",
      "Settlement            7160 non-null int32\n",
      "Building Dimension    7160 non-null float64\n",
      "Building_Type         7160 non-null int64\n",
      "Date_of_Occupancy     7160 non-null float64\n",
      "NumberOfWindows       7160 non-null object\n",
      "Geo_Code              7160 non-null object\n",
      "Claim                 7160 non-null int64\n",
      "Occupancy_duration    7160 non-null float64\n",
      "Observed_years        7160 non-null int64\n",
      "insurance_duration    7160 non-null object\n",
      "ageing                7160 non-null float64\n",
      "aged_50               7160 non-null int64\n",
      "dtypes: float64(5), int32(4), int64(6), object(4)\n",
      "memory usage: 951.1+ KB\n"
     ]
    }
   ],
   "source": [
    "train.info()"
   ]
  },
  {
   "cell_type": "code",
   "execution_count": 70,
   "metadata": {},
   "outputs": [],
   "source": [
    "from sklearn.model_selection import train_test_split\n",
    "X_train,X_test,y_train,y_test = train_test_split(X,y, test_size=0.15, random_state =42)"
   ]
  },
  {
   "cell_type": "code",
   "execution_count": 71,
   "metadata": {},
   "outputs": [],
   "source": [
    "from catboost import CatBoostClassifier, Pool, cv\n",
    "classifier = CatBoostClassifier()"
   ]
  },
  {
   "cell_type": "code",
   "execution_count": 72,
   "metadata": {},
   "outputs": [
    {
     "data": {
      "text/plain": [
       "array([ 0,  1,  3,  4,  5,  6,  7,  9, 11, 12, 14, 15, 17], dtype=int64)"
      ]
     },
     "execution_count": 72,
     "metadata": {},
     "output_type": "execute_result"
    }
   ],
   "source": [
    "cate_features_index = np.where(X.dtypes != float) [0]; cate_features_index"
   ]
  },
  {
   "cell_type": "code",
   "execution_count": 73,
   "metadata": {},
   "outputs": [],
   "source": [
    "#classifier = CatBoostClassifier(iterations=1000, depth=7, learning_rate=0.04, eval_metric ='AUC',use_best_model=True, random_seed=42)\n",
    "#classifier.fit(X,y,cat_features=cate_features_index,eval_set=(X,y))"
   ]
  },
  {
   "cell_type": "code",
   "execution_count": 74,
   "metadata": {},
   "outputs": [
    {
     "name": "stdout",
     "output_type": "stream",
     "text": [
      "0:\tlearn: 0.7717877\ttest: 0.7717877\tbest: 0.7717877 (0)\ttotal: 129ms\tremaining: 2m 9s\n",
      "1:\tlearn: 0.7723464\ttest: 0.7716480\tbest: 0.7717877 (0)\ttotal: 191ms\tremaining: 1m 35s\n",
      "2:\tlearn: 0.7747207\ttest: 0.7744413\tbest: 0.7744413 (2)\ttotal: 269ms\tremaining: 1m 29s\n",
      "3:\tlearn: 0.7745810\ttest: 0.7743017\tbest: 0.7744413 (2)\ttotal: 347ms\tremaining: 1m 26s\n",
      "4:\tlearn: 0.7738827\ttest: 0.7733240\tbest: 0.7744413 (2)\ttotal: 436ms\tremaining: 1m 26s\n",
      "5:\tlearn: 0.7719274\ttest: 0.7717877\tbest: 0.7744413 (2)\ttotal: 506ms\tremaining: 1m 23s\n",
      "6:\tlearn: 0.7733240\ttest: 0.7729050\tbest: 0.7744413 (2)\ttotal: 568ms\tremaining: 1m 20s\n",
      "7:\tlearn: 0.7734637\ttest: 0.7731844\tbest: 0.7744413 (2)\ttotal: 649ms\tremaining: 1m 20s\n",
      "8:\tlearn: 0.7772346\ttest: 0.7769553\tbest: 0.7769553 (8)\ttotal: 726ms\tremaining: 1m 19s\n",
      "9:\tlearn: 0.7744413\ttest: 0.7736034\tbest: 0.7769553 (8)\ttotal: 832ms\tremaining: 1m 22s\n",
      "10:\tlearn: 0.7745810\ttest: 0.7738827\tbest: 0.7769553 (8)\ttotal: 912ms\tremaining: 1m 21s\n",
      "11:\tlearn: 0.7797486\ttest: 0.7790503\tbest: 0.7790503 (11)\ttotal: 1.01s\tremaining: 1m 23s\n",
      "12:\tlearn: 0.7800279\ttest: 0.7800279\tbest: 0.7800279 (12)\ttotal: 1.18s\tremaining: 1m 29s\n",
      "13:\tlearn: 0.7794693\ttest: 0.7791899\tbest: 0.7800279 (12)\ttotal: 1.48s\tremaining: 1m 43s\n",
      "14:\tlearn: 0.7801676\ttest: 0.7803073\tbest: 0.7803073 (14)\ttotal: 1.67s\tremaining: 1m 49s\n",
      "15:\tlearn: 0.7801676\ttest: 0.7794693\tbest: 0.7803073 (14)\ttotal: 1.75s\tremaining: 1m 47s\n",
      "16:\tlearn: 0.7814246\ttest: 0.7804469\tbest: 0.7804469 (16)\ttotal: 1.87s\tremaining: 1m 48s\n",
      "17:\tlearn: 0.7829609\ttest: 0.7819832\tbest: 0.7819832 (17)\ttotal: 2.08s\tremaining: 1m 53s\n",
      "18:\tlearn: 0.7828212\ttest: 0.7821229\tbest: 0.7821229 (18)\ttotal: 2.26s\tremaining: 1m 56s\n",
      "19:\tlearn: 0.7824022\ttest: 0.7821229\tbest: 0.7821229 (18)\ttotal: 2.35s\tremaining: 1m 55s\n",
      "20:\tlearn: 0.7839385\ttest: 0.7826816\tbest: 0.7826816 (20)\ttotal: 2.4s\tremaining: 1m 52s\n",
      "21:\tlearn: 0.7831006\ttest: 0.7824022\tbest: 0.7826816 (20)\ttotal: 2.43s\tremaining: 1m 48s\n",
      "22:\tlearn: 0.7835196\ttest: 0.7826816\tbest: 0.7826816 (20)\ttotal: 2.5s\tremaining: 1m 46s\n",
      "23:\tlearn: 0.7851955\ttest: 0.7846369\tbest: 0.7846369 (23)\ttotal: 2.55s\tremaining: 1m 43s\n",
      "24:\tlearn: 0.7864525\ttest: 0.7863128\tbest: 0.7863128 (24)\ttotal: 2.62s\tremaining: 1m 42s\n",
      "25:\tlearn: 0.7863128\ttest: 0.7857542\tbest: 0.7863128 (24)\ttotal: 2.7s\tremaining: 1m 41s\n",
      "26:\tlearn: 0.7871508\ttest: 0.7861732\tbest: 0.7863128 (24)\ttotal: 2.79s\tremaining: 1m 40s\n",
      "27:\tlearn: 0.7858939\ttest: 0.7851955\tbest: 0.7863128 (24)\ttotal: 2.87s\tremaining: 1m 39s\n",
      "28:\tlearn: 0.7868715\ttest: 0.7858939\tbest: 0.7863128 (24)\ttotal: 2.92s\tremaining: 1m 37s\n",
      "29:\tlearn: 0.7865922\ttest: 0.7857542\tbest: 0.7863128 (24)\ttotal: 2.96s\tremaining: 1m 35s\n",
      "30:\tlearn: 0.7865922\ttest: 0.7863128\tbest: 0.7863128 (24)\ttotal: 3.04s\tremaining: 1m 35s\n",
      "31:\tlearn: 0.7881285\ttest: 0.7895251\tbest: 0.7895251 (31)\ttotal: 3.11s\tremaining: 1m 34s\n",
      "32:\tlearn: 0.7895251\ttest: 0.7902235\tbest: 0.7902235 (32)\ttotal: 3.18s\tremaining: 1m 33s\n",
      "33:\tlearn: 0.7898045\ttest: 0.7902235\tbest: 0.7902235 (32)\ttotal: 3.26s\tremaining: 1m 32s\n",
      "34:\tlearn: 0.7900838\ttest: 0.7900838\tbest: 0.7902235 (32)\ttotal: 3.35s\tremaining: 1m 32s\n",
      "35:\tlearn: 0.7902235\ttest: 0.7902235\tbest: 0.7902235 (32)\ttotal: 3.43s\tremaining: 1m 31s\n",
      "36:\tlearn: 0.7903631\ttest: 0.7903631\tbest: 0.7903631 (36)\ttotal: 3.52s\tremaining: 1m 31s\n",
      "37:\tlearn: 0.7909218\ttest: 0.7906425\tbest: 0.7906425 (37)\ttotal: 3.59s\tremaining: 1m 30s\n",
      "38:\tlearn: 0.7906425\ttest: 0.7906425\tbest: 0.7906425 (37)\ttotal: 3.68s\tremaining: 1m 30s\n",
      "39:\tlearn: 0.7910615\ttest: 0.7912011\tbest: 0.7912011 (39)\ttotal: 3.79s\tremaining: 1m 30s\n",
      "40:\tlearn: 0.7914804\ttest: 0.7907821\tbest: 0.7912011 (39)\ttotal: 3.89s\tremaining: 1m 30s\n",
      "41:\tlearn: 0.7916201\ttest: 0.7907821\tbest: 0.7912011 (39)\ttotal: 3.92s\tremaining: 1m 29s\n",
      "42:\tlearn: 0.7914804\ttest: 0.7905028\tbest: 0.7912011 (39)\ttotal: 3.96s\tremaining: 1m 28s\n",
      "43:\tlearn: 0.7914804\ttest: 0.7905028\tbest: 0.7912011 (39)\ttotal: 4.31s\tremaining: 1m 33s\n",
      "44:\tlearn: 0.7913408\ttest: 0.7905028\tbest: 0.7912011 (39)\ttotal: 4.4s\tremaining: 1m 33s\n",
      "45:\tlearn: 0.7912011\ttest: 0.7906425\tbest: 0.7912011 (39)\ttotal: 4.45s\tremaining: 1m 32s\n",
      "46:\tlearn: 0.7916201\ttest: 0.7914804\tbest: 0.7914804 (46)\ttotal: 4.5s\tremaining: 1m 31s\n",
      "47:\tlearn: 0.7917598\ttest: 0.7912011\tbest: 0.7914804 (46)\ttotal: 4.58s\tremaining: 1m 30s\n",
      "48:\tlearn: 0.7918994\ttest: 0.7912011\tbest: 0.7914804 (46)\ttotal: 4.62s\tremaining: 1m 29s\n",
      "49:\tlearn: 0.7918994\ttest: 0.7912011\tbest: 0.7914804 (46)\ttotal: 4.65s\tremaining: 1m 28s\n",
      "50:\tlearn: 0.7920391\ttest: 0.7917598\tbest: 0.7917598 (50)\ttotal: 4.71s\tremaining: 1m 27s\n",
      "51:\tlearn: 0.7920391\ttest: 0.7917598\tbest: 0.7917598 (50)\ttotal: 4.73s\tremaining: 1m 26s\n",
      "52:\tlearn: 0.7921788\ttest: 0.7920391\tbest: 0.7920391 (52)\ttotal: 4.8s\tremaining: 1m 25s\n",
      "53:\tlearn: 0.7921788\ttest: 0.7918994\tbest: 0.7920391 (52)\ttotal: 4.88s\tremaining: 1m 25s\n",
      "54:\tlearn: 0.7917598\ttest: 0.7924581\tbest: 0.7924581 (54)\ttotal: 4.96s\tremaining: 1m 25s\n",
      "55:\tlearn: 0.7917598\ttest: 0.7924581\tbest: 0.7924581 (54)\ttotal: 5.01s\tremaining: 1m 24s\n",
      "56:\tlearn: 0.7921788\ttest: 0.7925978\tbest: 0.7925978 (56)\ttotal: 5.07s\tremaining: 1m 23s\n",
      "57:\tlearn: 0.7921788\ttest: 0.7923184\tbest: 0.7925978 (56)\ttotal: 5.1s\tremaining: 1m 22s\n",
      "58:\tlearn: 0.7921788\ttest: 0.7923184\tbest: 0.7925978 (56)\ttotal: 5.12s\tremaining: 1m 21s\n",
      "59:\tlearn: 0.7921788\ttest: 0.7925978\tbest: 0.7925978 (56)\ttotal: 5.2s\tremaining: 1m 21s\n",
      "60:\tlearn: 0.7921788\ttest: 0.7925978\tbest: 0.7925978 (56)\ttotal: 5.27s\tremaining: 1m 21s\n",
      "61:\tlearn: 0.7917598\ttest: 0.7920391\tbest: 0.7925978 (56)\ttotal: 5.34s\tremaining: 1m 20s\n",
      "62:\tlearn: 0.7920391\ttest: 0.7921788\tbest: 0.7925978 (56)\ttotal: 5.41s\tremaining: 1m 20s\n",
      "63:\tlearn: 0.7921788\ttest: 0.7918994\tbest: 0.7925978 (56)\ttotal: 5.49s\tremaining: 1m 20s\n",
      "64:\tlearn: 0.7921788\ttest: 0.7920391\tbest: 0.7925978 (56)\ttotal: 5.56s\tremaining: 1m 19s\n",
      "65:\tlearn: 0.7920391\ttest: 0.7916201\tbest: 0.7925978 (56)\ttotal: 5.63s\tremaining: 1m 19s\n",
      "66:\tlearn: 0.7920391\ttest: 0.7920391\tbest: 0.7925978 (56)\ttotal: 5.71s\tremaining: 1m 19s\n",
      "67:\tlearn: 0.7920391\ttest: 0.7917598\tbest: 0.7925978 (56)\ttotal: 5.77s\tremaining: 1m 19s\n",
      "68:\tlearn: 0.7917598\ttest: 0.7920391\tbest: 0.7925978 (56)\ttotal: 5.84s\tremaining: 1m 18s\n",
      "69:\tlearn: 0.7923184\ttest: 0.7924581\tbest: 0.7925978 (56)\ttotal: 5.91s\tremaining: 1m 18s\n",
      "70:\tlearn: 0.7923184\ttest: 0.7921788\tbest: 0.7925978 (56)\ttotal: 5.99s\tremaining: 1m 18s\n",
      "71:\tlearn: 0.7920391\ttest: 0.7921788\tbest: 0.7925978 (56)\ttotal: 6.03s\tremaining: 1m 17s\n",
      "72:\tlearn: 0.7920391\ttest: 0.7924581\tbest: 0.7925978 (56)\ttotal: 6.07s\tremaining: 1m 17s\n",
      "73:\tlearn: 0.7918994\ttest: 0.7924581\tbest: 0.7925978 (56)\ttotal: 6.13s\tremaining: 1m 16s\n",
      "74:\tlearn: 0.7925978\ttest: 0.7923184\tbest: 0.7925978 (56)\ttotal: 6.17s\tremaining: 1m 16s\n",
      "75:\tlearn: 0.7924581\ttest: 0.7923184\tbest: 0.7925978 (56)\ttotal: 6.24s\tremaining: 1m 15s\n",
      "76:\tlearn: 0.7927374\ttest: 0.7924581\tbest: 0.7925978 (56)\ttotal: 6.32s\tremaining: 1m 15s\n",
      "77:\tlearn: 0.7924581\ttest: 0.7921788\tbest: 0.7925978 (56)\ttotal: 6.39s\tremaining: 1m 15s\n",
      "78:\tlearn: 0.7924581\ttest: 0.7924581\tbest: 0.7925978 (56)\ttotal: 6.44s\tremaining: 1m 15s\n",
      "79:\tlearn: 0.7925978\ttest: 0.7925978\tbest: 0.7925978 (56)\ttotal: 6.51s\tremaining: 1m 14s\n",
      "80:\tlearn: 0.7921788\ttest: 0.7928771\tbest: 0.7928771 (80)\ttotal: 6.58s\tremaining: 1m 14s\n",
      "81:\tlearn: 0.7923184\ttest: 0.7927374\tbest: 0.7928771 (80)\ttotal: 6.62s\tremaining: 1m 14s\n",
      "82:\tlearn: 0.7924581\ttest: 0.7928771\tbest: 0.7928771 (80)\ttotal: 6.68s\tremaining: 1m 13s\n",
      "83:\tlearn: 0.7924581\ttest: 0.7928771\tbest: 0.7928771 (80)\ttotal: 6.72s\tremaining: 1m 13s\n",
      "84:\tlearn: 0.7925978\ttest: 0.7928771\tbest: 0.7928771 (80)\ttotal: 6.77s\tremaining: 1m 12s\n",
      "85:\tlearn: 0.7923184\ttest: 0.7928771\tbest: 0.7928771 (80)\ttotal: 6.82s\tremaining: 1m 12s\n",
      "86:\tlearn: 0.7920391\ttest: 0.7932961\tbest: 0.7932961 (86)\ttotal: 6.85s\tremaining: 1m 11s\n",
      "87:\tlearn: 0.7925978\ttest: 0.7932961\tbest: 0.7932961 (86)\ttotal: 6.92s\tremaining: 1m 11s\n",
      "88:\tlearn: 0.7927374\ttest: 0.7924581\tbest: 0.7932961 (86)\ttotal: 6.98s\tremaining: 1m 11s\n",
      "89:\tlearn: 0.7927374\ttest: 0.7924581\tbest: 0.7932961 (86)\ttotal: 7.05s\tremaining: 1m 11s\n",
      "90:\tlearn: 0.7927374\ttest: 0.7924581\tbest: 0.7932961 (86)\ttotal: 7.12s\tremaining: 1m 11s\n",
      "91:\tlearn: 0.7928771\ttest: 0.7920391\tbest: 0.7932961 (86)\ttotal: 7.19s\tremaining: 1m 10s\n",
      "92:\tlearn: 0.7928771\ttest: 0.7921788\tbest: 0.7932961 (86)\ttotal: 7.27s\tremaining: 1m 10s\n",
      "93:\tlearn: 0.7928771\ttest: 0.7921788\tbest: 0.7932961 (86)\ttotal: 7.32s\tremaining: 1m 10s\n",
      "94:\tlearn: 0.7928771\ttest: 0.7921788\tbest: 0.7932961 (86)\ttotal: 7.35s\tremaining: 1m 10s\n",
      "95:\tlearn: 0.7928771\ttest: 0.7921788\tbest: 0.7932961 (86)\ttotal: 7.39s\tremaining: 1m 9s\n",
      "96:\tlearn: 0.7928771\ttest: 0.7921788\tbest: 0.7932961 (86)\ttotal: 7.43s\tremaining: 1m 9s\n"
     ]
    },
    {
     "name": "stdout",
     "output_type": "stream",
     "text": [
      "97:\tlearn: 0.7935754\ttest: 0.7920391\tbest: 0.7932961 (86)\ttotal: 7.49s\tremaining: 1m 8s\n",
      "98:\tlearn: 0.7935754\ttest: 0.7920391\tbest: 0.7932961 (86)\ttotal: 7.54s\tremaining: 1m 8s\n",
      "99:\tlearn: 0.7934358\ttest: 0.7921788\tbest: 0.7932961 (86)\ttotal: 7.6s\tremaining: 1m 8s\n",
      "100:\tlearn: 0.7930168\ttest: 0.7921788\tbest: 0.7932961 (86)\ttotal: 7.68s\tremaining: 1m 8s\n",
      "101:\tlearn: 0.7931564\ttest: 0.7920391\tbest: 0.7932961 (86)\ttotal: 7.75s\tremaining: 1m 8s\n",
      "102:\tlearn: 0.7935754\ttest: 0.7930168\tbest: 0.7932961 (86)\ttotal: 7.84s\tremaining: 1m 8s\n",
      "103:\tlearn: 0.7931564\ttest: 0.7927374\tbest: 0.7932961 (86)\ttotal: 7.92s\tremaining: 1m 8s\n",
      "104:\tlearn: 0.7932961\ttest: 0.7927374\tbest: 0.7932961 (86)\ttotal: 7.97s\tremaining: 1m 7s\n",
      "105:\tlearn: 0.7932961\ttest: 0.7927374\tbest: 0.7932961 (86)\ttotal: 8.04s\tremaining: 1m 7s\n",
      "106:\tlearn: 0.7937151\ttest: 0.7930168\tbest: 0.7932961 (86)\ttotal: 8.11s\tremaining: 1m 7s\n",
      "107:\tlearn: 0.7939944\ttest: 0.7928771\tbest: 0.7932961 (86)\ttotal: 8.18s\tremaining: 1m 7s\n",
      "108:\tlearn: 0.7941341\ttest: 0.7930168\tbest: 0.7932961 (86)\ttotal: 8.25s\tremaining: 1m 7s\n",
      "109:\tlearn: 0.7942737\ttest: 0.7928771\tbest: 0.7932961 (86)\ttotal: 8.32s\tremaining: 1m 7s\n",
      "110:\tlearn: 0.7944134\ttest: 0.7928771\tbest: 0.7932961 (86)\ttotal: 8.38s\tremaining: 1m 7s\n",
      "111:\tlearn: 0.7944134\ttest: 0.7930168\tbest: 0.7932961 (86)\ttotal: 8.46s\tremaining: 1m 7s\n",
      "112:\tlearn: 0.7944134\ttest: 0.7930168\tbest: 0.7932961 (86)\ttotal: 8.52s\tremaining: 1m 6s\n",
      "113:\tlearn: 0.7944134\ttest: 0.7932961\tbest: 0.7932961 (86)\ttotal: 8.59s\tremaining: 1m 6s\n",
      "114:\tlearn: 0.7944134\ttest: 0.7931564\tbest: 0.7932961 (86)\ttotal: 8.64s\tremaining: 1m 6s\n",
      "115:\tlearn: 0.7944134\ttest: 0.7931564\tbest: 0.7932961 (86)\ttotal: 8.69s\tremaining: 1m 6s\n",
      "116:\tlearn: 0.7945531\ttest: 0.7931564\tbest: 0.7932961 (86)\ttotal: 8.77s\tremaining: 1m 6s\n",
      "117:\tlearn: 0.7951117\ttest: 0.7931564\tbest: 0.7932961 (86)\ttotal: 8.85s\tremaining: 1m 6s\n",
      "118:\tlearn: 0.7951117\ttest: 0.7931564\tbest: 0.7932961 (86)\ttotal: 8.9s\tremaining: 1m 5s\n",
      "119:\tlearn: 0.7949721\ttest: 0.7931564\tbest: 0.7932961 (86)\ttotal: 8.94s\tremaining: 1m 5s\n",
      "120:\tlearn: 0.7949721\ttest: 0.7942737\tbest: 0.7942737 (120)\ttotal: 9.02s\tremaining: 1m 5s\n",
      "121:\tlearn: 0.7952514\ttest: 0.7938547\tbest: 0.7942737 (120)\ttotal: 9.09s\tremaining: 1m 5s\n",
      "122:\tlearn: 0.7953911\ttest: 0.7937151\tbest: 0.7942737 (120)\ttotal: 9.16s\tremaining: 1m 5s\n",
      "123:\tlearn: 0.7953911\ttest: 0.7937151\tbest: 0.7942737 (120)\ttotal: 9.23s\tremaining: 1m 5s\n",
      "124:\tlearn: 0.7949721\ttest: 0.7937151\tbest: 0.7942737 (120)\ttotal: 9.31s\tremaining: 1m 5s\n",
      "125:\tlearn: 0.7952514\ttest: 0.7939944\tbest: 0.7942737 (120)\ttotal: 9.38s\tremaining: 1m 5s\n",
      "126:\tlearn: 0.7952514\ttest: 0.7937151\tbest: 0.7942737 (120)\ttotal: 9.45s\tremaining: 1m 4s\n",
      "127:\tlearn: 0.7952514\ttest: 0.7938547\tbest: 0.7942737 (120)\ttotal: 9.53s\tremaining: 1m 4s\n",
      "128:\tlearn: 0.7955307\ttest: 0.7937151\tbest: 0.7942737 (120)\ttotal: 9.6s\tremaining: 1m 4s\n",
      "129:\tlearn: 0.7953911\ttest: 0.7937151\tbest: 0.7942737 (120)\ttotal: 9.68s\tremaining: 1m 4s\n",
      "130:\tlearn: 0.7949721\ttest: 0.7941341\tbest: 0.7942737 (120)\ttotal: 9.75s\tremaining: 1m 4s\n",
      "131:\tlearn: 0.7949721\ttest: 0.7948324\tbest: 0.7948324 (131)\ttotal: 9.82s\tremaining: 1m 4s\n",
      "132:\tlearn: 0.7951117\ttest: 0.7948324\tbest: 0.7948324 (131)\ttotal: 9.88s\tremaining: 1m 4s\n",
      "133:\tlearn: 0.7951117\ttest: 0.7946927\tbest: 0.7948324 (131)\ttotal: 9.94s\tremaining: 1m 4s\n",
      "134:\tlearn: 0.7951117\ttest: 0.7946927\tbest: 0.7948324 (131)\ttotal: 10s\tremaining: 1m 4s\n",
      "135:\tlearn: 0.7949721\ttest: 0.7944134\tbest: 0.7948324 (131)\ttotal: 10.1s\tremaining: 1m 4s\n",
      "136:\tlearn: 0.7949721\ttest: 0.7944134\tbest: 0.7948324 (131)\ttotal: 10.1s\tremaining: 1m 3s\n",
      "137:\tlearn: 0.7949721\ttest: 0.7945531\tbest: 0.7948324 (131)\ttotal: 10.2s\tremaining: 1m 3s\n",
      "138:\tlearn: 0.7949721\ttest: 0.7948324\tbest: 0.7948324 (131)\ttotal: 10.3s\tremaining: 1m 3s\n",
      "139:\tlearn: 0.7949721\ttest: 0.7946927\tbest: 0.7948324 (131)\ttotal: 10.3s\tremaining: 1m 3s\n",
      "140:\tlearn: 0.7949721\ttest: 0.7949721\tbest: 0.7949721 (140)\ttotal: 10.4s\tremaining: 1m 3s\n",
      "141:\tlearn: 0.7951117\ttest: 0.7949721\tbest: 0.7949721 (140)\ttotal: 10.5s\tremaining: 1m 3s\n",
      "142:\tlearn: 0.7951117\ttest: 0.7948324\tbest: 0.7949721 (140)\ttotal: 10.6s\tremaining: 1m 3s\n",
      "143:\tlearn: 0.7956704\ttest: 0.7944134\tbest: 0.7949721 (140)\ttotal: 10.6s\tremaining: 1m 3s\n",
      "144:\tlearn: 0.7958101\ttest: 0.7946927\tbest: 0.7949721 (140)\ttotal: 10.7s\tremaining: 1m 3s\n",
      "145:\tlearn: 0.7958101\ttest: 0.7946927\tbest: 0.7949721 (140)\ttotal: 10.8s\tremaining: 1m 3s\n",
      "146:\tlearn: 0.7960894\ttest: 0.7949721\tbest: 0.7949721 (140)\ttotal: 10.9s\tremaining: 1m 3s\n",
      "147:\tlearn: 0.7962291\ttest: 0.7946927\tbest: 0.7949721 (140)\ttotal: 10.9s\tremaining: 1m 2s\n",
      "148:\tlearn: 0.7963687\ttest: 0.7946927\tbest: 0.7949721 (140)\ttotal: 11s\tremaining: 1m 2s\n",
      "149:\tlearn: 0.7966480\ttest: 0.7946927\tbest: 0.7949721 (140)\ttotal: 11.1s\tremaining: 1m 2s\n",
      "150:\tlearn: 0.7965084\ttest: 0.7946927\tbest: 0.7949721 (140)\ttotal: 11.1s\tremaining: 1m 2s\n",
      "151:\tlearn: 0.7966480\ttest: 0.7946927\tbest: 0.7949721 (140)\ttotal: 11.2s\tremaining: 1m 2s\n",
      "152:\tlearn: 0.7966480\ttest: 0.7949721\tbest: 0.7949721 (140)\ttotal: 11.3s\tremaining: 1m 2s\n",
      "153:\tlearn: 0.7966480\ttest: 0.7949721\tbest: 0.7949721 (140)\ttotal: 11.4s\tremaining: 1m 2s\n",
      "154:\tlearn: 0.7965084\ttest: 0.7948324\tbest: 0.7949721 (140)\ttotal: 11.4s\tremaining: 1m 2s\n",
      "155:\tlearn: 0.7963687\ttest: 0.7948324\tbest: 0.7949721 (140)\ttotal: 11.5s\tremaining: 1m 2s\n",
      "156:\tlearn: 0.7969274\ttest: 0.7952514\tbest: 0.7952514 (156)\ttotal: 11.6s\tremaining: 1m 2s\n",
      "157:\tlearn: 0.7967877\ttest: 0.7952514\tbest: 0.7952514 (156)\ttotal: 11.7s\tremaining: 1m 2s\n",
      "158:\tlearn: 0.7969274\ttest: 0.7953911\tbest: 0.7953911 (158)\ttotal: 11.7s\tremaining: 1m 2s\n",
      "159:\tlearn: 0.7967877\ttest: 0.7951117\tbest: 0.7953911 (158)\ttotal: 11.8s\tremaining: 1m 2s\n",
      "160:\tlearn: 0.7967877\ttest: 0.7949721\tbest: 0.7953911 (158)\ttotal: 11.9s\tremaining: 1m 1s\n",
      "161:\tlearn: 0.7970670\ttest: 0.7949721\tbest: 0.7953911 (158)\ttotal: 12s\tremaining: 1m 1s\n",
      "162:\tlearn: 0.7972067\ttest: 0.7949721\tbest: 0.7953911 (158)\ttotal: 12s\tremaining: 1m 1s\n",
      "163:\tlearn: 0.7972067\ttest: 0.7948324\tbest: 0.7953911 (158)\ttotal: 12.1s\tremaining: 1m 1s\n",
      "164:\tlearn: 0.7970670\ttest: 0.7946927\tbest: 0.7953911 (158)\ttotal: 12.2s\tremaining: 1m 1s\n",
      "165:\tlearn: 0.7970670\ttest: 0.7946927\tbest: 0.7953911 (158)\ttotal: 12.2s\tremaining: 1m 1s\n",
      "166:\tlearn: 0.7969274\ttest: 0.7948324\tbest: 0.7953911 (158)\ttotal: 12.3s\tremaining: 1m 1s\n",
      "167:\tlearn: 0.7973464\ttest: 0.7955307\tbest: 0.7955307 (167)\ttotal: 12.4s\tremaining: 1m 1s\n",
      "168:\tlearn: 0.7973464\ttest: 0.7952514\tbest: 0.7955307 (167)\ttotal: 12.5s\tremaining: 1m 1s\n",
      "169:\tlearn: 0.7974860\ttest: 0.7953911\tbest: 0.7955307 (167)\ttotal: 12.5s\tremaining: 1m 1s\n",
      "170:\tlearn: 0.7972067\ttest: 0.7956704\tbest: 0.7956704 (170)\ttotal: 12.6s\tremaining: 1m 1s\n",
      "171:\tlearn: 0.7972067\ttest: 0.7956704\tbest: 0.7956704 (170)\ttotal: 12.7s\tremaining: 1m 1s\n",
      "172:\tlearn: 0.7973464\ttest: 0.7956704\tbest: 0.7956704 (170)\ttotal: 12.8s\tremaining: 1m\n",
      "173:\tlearn: 0.7974860\ttest: 0.7959497\tbest: 0.7959497 (173)\ttotal: 12.8s\tremaining: 1m\n",
      "174:\tlearn: 0.7974860\ttest: 0.7959497\tbest: 0.7959497 (173)\ttotal: 12.9s\tremaining: 1m\n",
      "175:\tlearn: 0.7979050\ttest: 0.7956704\tbest: 0.7959497 (173)\ttotal: 13s\tremaining: 1m\n",
      "176:\tlearn: 0.7976257\ttest: 0.7955307\tbest: 0.7959497 (173)\ttotal: 13s\tremaining: 1m\n",
      "177:\tlearn: 0.7974860\ttest: 0.7959497\tbest: 0.7959497 (173)\ttotal: 13.1s\tremaining: 1m\n",
      "178:\tlearn: 0.7977654\ttest: 0.7960894\tbest: 0.7960894 (178)\ttotal: 13.2s\tremaining: 1m\n",
      "179:\tlearn: 0.7983240\ttest: 0.7960894\tbest: 0.7960894 (178)\ttotal: 13.2s\tremaining: 1m\n",
      "180:\tlearn: 0.7984637\ttest: 0.7959497\tbest: 0.7960894 (178)\ttotal: 13.3s\tremaining: 1m\n",
      "181:\tlearn: 0.7979050\ttest: 0.7959497\tbest: 0.7960894 (178)\ttotal: 13.4s\tremaining: 1m\n",
      "182:\tlearn: 0.7979050\ttest: 0.7959497\tbest: 0.7960894 (178)\ttotal: 13.5s\tremaining: 1m\n",
      "183:\tlearn: 0.7981844\ttest: 0.7959497\tbest: 0.7960894 (178)\ttotal: 13.5s\tremaining: 1m\n",
      "184:\tlearn: 0.7981844\ttest: 0.7958101\tbest: 0.7960894 (178)\ttotal: 13.6s\tremaining: 60s\n",
      "185:\tlearn: 0.7981844\ttest: 0.7962291\tbest: 0.7962291 (185)\ttotal: 13.7s\tremaining: 59.9s\n",
      "186:\tlearn: 0.7979050\ttest: 0.7959497\tbest: 0.7962291 (185)\ttotal: 13.8s\tremaining: 59.9s\n",
      "187:\tlearn: 0.7981844\ttest: 0.7958101\tbest: 0.7962291 (185)\ttotal: 13.8s\tremaining: 59.8s\n",
      "188:\tlearn: 0.7980447\ttest: 0.7958101\tbest: 0.7962291 (185)\ttotal: 13.9s\tremaining: 59.7s\n",
      "189:\tlearn: 0.7986034\ttest: 0.7963687\tbest: 0.7963687 (189)\ttotal: 14s\tremaining: 59.6s\n"
     ]
    },
    {
     "name": "stdout",
     "output_type": "stream",
     "text": [
      "190:\tlearn: 0.7986034\ttest: 0.7951117\tbest: 0.7963687 (189)\ttotal: 14.1s\tremaining: 59.6s\n",
      "191:\tlearn: 0.7990223\ttest: 0.7955307\tbest: 0.7963687 (189)\ttotal: 14.1s\tremaining: 59.5s\n",
      "192:\tlearn: 0.7987430\ttest: 0.7956704\tbest: 0.7963687 (189)\ttotal: 14.2s\tremaining: 59.4s\n",
      "193:\tlearn: 0.7990223\ttest: 0.7952514\tbest: 0.7963687 (189)\ttotal: 14.3s\tremaining: 59.2s\n",
      "194:\tlearn: 0.7987430\ttest: 0.7956704\tbest: 0.7963687 (189)\ttotal: 14.3s\tremaining: 59.1s\n",
      "195:\tlearn: 0.7987430\ttest: 0.7956704\tbest: 0.7963687 (189)\ttotal: 14.4s\tremaining: 59s\n",
      "196:\tlearn: 0.7987430\ttest: 0.7956704\tbest: 0.7963687 (189)\ttotal: 14.5s\tremaining: 58.9s\n",
      "197:\tlearn: 0.7987430\ttest: 0.7959497\tbest: 0.7963687 (189)\ttotal: 14.5s\tremaining: 58.8s\n",
      "198:\tlearn: 0.7987430\ttest: 0.7962291\tbest: 0.7963687 (189)\ttotal: 14.6s\tremaining: 58.8s\n",
      "199:\tlearn: 0.7988827\ttest: 0.7959497\tbest: 0.7963687 (189)\ttotal: 14.7s\tremaining: 58.7s\n",
      "200:\tlearn: 0.7987430\ttest: 0.7958101\tbest: 0.7963687 (189)\ttotal: 14.8s\tremaining: 58.6s\n",
      "201:\tlearn: 0.7988827\ttest: 0.7963687\tbest: 0.7963687 (189)\ttotal: 14.8s\tremaining: 58.6s\n",
      "202:\tlearn: 0.7993017\ttest: 0.7963687\tbest: 0.7963687 (189)\ttotal: 14.9s\tremaining: 58.5s\n",
      "203:\tlearn: 0.7993017\ttest: 0.7966480\tbest: 0.7966480 (203)\ttotal: 15s\tremaining: 58.3s\n",
      "204:\tlearn: 0.7993017\ttest: 0.7965084\tbest: 0.7966480 (203)\ttotal: 15s\tremaining: 58.2s\n",
      "205:\tlearn: 0.7991620\ttest: 0.7966480\tbest: 0.7966480 (203)\ttotal: 15.1s\tremaining: 58.2s\n",
      "206:\tlearn: 0.7991620\ttest: 0.7966480\tbest: 0.7966480 (203)\ttotal: 15.2s\tremaining: 58.1s\n",
      "207:\tlearn: 0.7988827\ttest: 0.7960894\tbest: 0.7966480 (203)\ttotal: 15.2s\tremaining: 58s\n",
      "208:\tlearn: 0.7988827\ttest: 0.7960894\tbest: 0.7966480 (203)\ttotal: 15.3s\tremaining: 58s\n",
      "209:\tlearn: 0.7991620\ttest: 0.7962291\tbest: 0.7966480 (203)\ttotal: 15.4s\tremaining: 58s\n",
      "210:\tlearn: 0.7993017\ttest: 0.7963687\tbest: 0.7966480 (203)\ttotal: 15.5s\tremaining: 57.9s\n",
      "211:\tlearn: 0.7991620\ttest: 0.7963687\tbest: 0.7966480 (203)\ttotal: 15.6s\tremaining: 57.9s\n",
      "212:\tlearn: 0.7993017\ttest: 0.7962291\tbest: 0.7966480 (203)\ttotal: 15.6s\tremaining: 57.8s\n",
      "213:\tlearn: 0.7994413\ttest: 0.7962291\tbest: 0.7966480 (203)\ttotal: 15.7s\tremaining: 57.8s\n",
      "214:\tlearn: 0.7991620\ttest: 0.7962291\tbest: 0.7966480 (203)\ttotal: 15.8s\tremaining: 57.7s\n",
      "215:\tlearn: 0.8000000\ttest: 0.7965084\tbest: 0.7966480 (203)\ttotal: 15.9s\tremaining: 57.7s\n",
      "216:\tlearn: 0.7995810\ttest: 0.7963687\tbest: 0.7966480 (203)\ttotal: 16s\tremaining: 57.6s\n",
      "217:\tlearn: 0.7998603\ttest: 0.7963687\tbest: 0.7966480 (203)\ttotal: 16s\tremaining: 57.6s\n",
      "218:\tlearn: 0.7998603\ttest: 0.7966480\tbest: 0.7966480 (203)\ttotal: 16.1s\tremaining: 57.5s\n",
      "219:\tlearn: 0.7998603\ttest: 0.7966480\tbest: 0.7966480 (203)\ttotal: 16.2s\tremaining: 57.4s\n",
      "220:\tlearn: 0.8000000\ttest: 0.7969274\tbest: 0.7969274 (220)\ttotal: 16.3s\tremaining: 57.4s\n",
      "221:\tlearn: 0.8000000\ttest: 0.7969274\tbest: 0.7969274 (220)\ttotal: 16.3s\tremaining: 57.3s\n",
      "222:\tlearn: 0.8002793\ttest: 0.7969274\tbest: 0.7969274 (220)\ttotal: 16.4s\tremaining: 57.2s\n",
      "223:\tlearn: 0.7998603\ttest: 0.7966480\tbest: 0.7969274 (220)\ttotal: 16.5s\tremaining: 57.2s\n",
      "224:\tlearn: 0.8000000\ttest: 0.7966480\tbest: 0.7969274 (220)\ttotal: 16.6s\tremaining: 57.2s\n",
      "225:\tlearn: 0.7998603\ttest: 0.7966480\tbest: 0.7969274 (220)\ttotal: 16.7s\tremaining: 57.1s\n",
      "226:\tlearn: 0.8000000\ttest: 0.7966480\tbest: 0.7969274 (220)\ttotal: 16.8s\tremaining: 57.1s\n",
      "227:\tlearn: 0.7997207\ttest: 0.7970670\tbest: 0.7970670 (227)\ttotal: 16.8s\tremaining: 57s\n",
      "228:\tlearn: 0.7998603\ttest: 0.7972067\tbest: 0.7972067 (228)\ttotal: 16.9s\tremaining: 57s\n",
      "229:\tlearn: 0.8000000\ttest: 0.7974860\tbest: 0.7974860 (229)\ttotal: 17s\tremaining: 57s\n",
      "230:\tlearn: 0.8000000\ttest: 0.7974860\tbest: 0.7974860 (229)\ttotal: 17.1s\tremaining: 57s\n",
      "231:\tlearn: 0.8000000\ttest: 0.7974860\tbest: 0.7974860 (229)\ttotal: 17.2s\tremaining: 56.9s\n",
      "232:\tlearn: 0.8000000\ttest: 0.7974860\tbest: 0.7974860 (229)\ttotal: 17.3s\tremaining: 56.9s\n",
      "233:\tlearn: 0.8000000\ttest: 0.7973464\tbest: 0.7974860 (229)\ttotal: 17.4s\tremaining: 56.8s\n",
      "234:\tlearn: 0.8001397\ttest: 0.7972067\tbest: 0.7974860 (229)\ttotal: 17.4s\tremaining: 56.7s\n",
      "235:\tlearn: 0.8001397\ttest: 0.7972067\tbest: 0.7974860 (229)\ttotal: 17.5s\tremaining: 56.7s\n",
      "236:\tlearn: 0.8001397\ttest: 0.7970670\tbest: 0.7974860 (229)\ttotal: 17.6s\tremaining: 56.6s\n",
      "237:\tlearn: 0.8002793\ttest: 0.7970670\tbest: 0.7974860 (229)\ttotal: 17.7s\tremaining: 56.5s\n",
      "238:\tlearn: 0.8001397\ttest: 0.7970670\tbest: 0.7974860 (229)\ttotal: 17.7s\tremaining: 56.5s\n",
      "239:\tlearn: 0.8004190\ttest: 0.7972067\tbest: 0.7974860 (229)\ttotal: 17.8s\tremaining: 56.5s\n",
      "240:\tlearn: 0.8002793\ttest: 0.7973464\tbest: 0.7974860 (229)\ttotal: 17.9s\tremaining: 56.5s\n",
      "241:\tlearn: 0.8002793\ttest: 0.7974860\tbest: 0.7974860 (229)\ttotal: 18s\tremaining: 56.4s\n",
      "242:\tlearn: 0.8002793\ttest: 0.7974860\tbest: 0.7974860 (229)\ttotal: 18.1s\tremaining: 56.3s\n",
      "243:\tlearn: 0.8002793\ttest: 0.7973464\tbest: 0.7974860 (229)\ttotal: 18.2s\tremaining: 56.3s\n",
      "244:\tlearn: 0.8005587\ttest: 0.7974860\tbest: 0.7974860 (229)\ttotal: 18.2s\tremaining: 56.2s\n",
      "245:\tlearn: 0.8004190\ttest: 0.7973464\tbest: 0.7974860 (229)\ttotal: 18.3s\tremaining: 56.2s\n",
      "246:\tlearn: 0.8005587\ttest: 0.7974860\tbest: 0.7974860 (229)\ttotal: 18.4s\tremaining: 56.2s\n",
      "247:\tlearn: 0.8005587\ttest: 0.7974860\tbest: 0.7974860 (229)\ttotal: 18.5s\tremaining: 56.1s\n",
      "248:\tlearn: 0.8006983\ttest: 0.7973464\tbest: 0.7974860 (229)\ttotal: 18.6s\tremaining: 56.1s\n",
      "249:\tlearn: 0.8009777\ttest: 0.7973464\tbest: 0.7974860 (229)\ttotal: 18.6s\tremaining: 55.9s\n",
      "250:\tlearn: 0.8009777\ttest: 0.7973464\tbest: 0.7974860 (229)\ttotal: 18.7s\tremaining: 55.9s\n",
      "251:\tlearn: 0.8006983\ttest: 0.7973464\tbest: 0.7974860 (229)\ttotal: 18.8s\tremaining: 55.8s\n",
      "252:\tlearn: 0.8006983\ttest: 0.7973464\tbest: 0.7974860 (229)\ttotal: 18.9s\tremaining: 55.8s\n",
      "253:\tlearn: 0.8006983\ttest: 0.7976257\tbest: 0.7976257 (253)\ttotal: 19s\tremaining: 55.8s\n",
      "254:\tlearn: 0.8006983\ttest: 0.7977654\tbest: 0.7977654 (254)\ttotal: 19.1s\tremaining: 55.7s\n",
      "255:\tlearn: 0.8008380\ttest: 0.7977654\tbest: 0.7977654 (254)\ttotal: 19.2s\tremaining: 55.7s\n",
      "256:\tlearn: 0.8009777\ttest: 0.7976257\tbest: 0.7977654 (254)\ttotal: 19.3s\tremaining: 55.7s\n",
      "257:\tlearn: 0.8009777\ttest: 0.7977654\tbest: 0.7977654 (254)\ttotal: 19.3s\tremaining: 55.6s\n",
      "258:\tlearn: 0.8008380\ttest: 0.7976257\tbest: 0.7977654 (254)\ttotal: 19.4s\tremaining: 55.5s\n",
      "259:\tlearn: 0.8008380\ttest: 0.7976257\tbest: 0.7977654 (254)\ttotal: 19.6s\tremaining: 55.7s\n",
      "260:\tlearn: 0.8008380\ttest: 0.7977654\tbest: 0.7977654 (254)\ttotal: 19.7s\tremaining: 55.8s\n",
      "261:\tlearn: 0.8008380\ttest: 0.7976257\tbest: 0.7977654 (254)\ttotal: 19.8s\tremaining: 55.8s\n",
      "262:\tlearn: 0.8009777\ttest: 0.7977654\tbest: 0.7977654 (254)\ttotal: 19.9s\tremaining: 55.7s\n",
      "263:\tlearn: 0.8011173\ttest: 0.7977654\tbest: 0.7977654 (254)\ttotal: 19.9s\tremaining: 55.6s\n",
      "264:\tlearn: 0.8011173\ttest: 0.7976257\tbest: 0.7977654 (254)\ttotal: 20s\tremaining: 55.6s\n",
      "265:\tlearn: 0.8012570\ttest: 0.7973464\tbest: 0.7977654 (254)\ttotal: 20.1s\tremaining: 55.5s\n",
      "266:\tlearn: 0.8013966\ttest: 0.7973464\tbest: 0.7977654 (254)\ttotal: 20.2s\tremaining: 55.4s\n",
      "267:\tlearn: 0.8013966\ttest: 0.7973464\tbest: 0.7977654 (254)\ttotal: 20.3s\tremaining: 55.4s\n",
      "268:\tlearn: 0.8011173\ttest: 0.7974860\tbest: 0.7977654 (254)\ttotal: 20.3s\tremaining: 55.3s\n",
      "269:\tlearn: 0.8013966\ttest: 0.7974860\tbest: 0.7977654 (254)\ttotal: 20.4s\tremaining: 55.2s\n",
      "270:\tlearn: 0.8011173\ttest: 0.7979050\tbest: 0.7979050 (270)\ttotal: 20.5s\tremaining: 55.1s\n",
      "271:\tlearn: 0.8011173\ttest: 0.7974860\tbest: 0.7979050 (270)\ttotal: 20.6s\tremaining: 55.1s\n",
      "272:\tlearn: 0.8013966\ttest: 0.7972067\tbest: 0.7979050 (270)\ttotal: 20.6s\tremaining: 55s\n",
      "273:\tlearn: 0.8015363\ttest: 0.7970670\tbest: 0.7979050 (270)\ttotal: 20.7s\tremaining: 54.9s\n",
      "274:\tlearn: 0.8016760\ttest: 0.7970670\tbest: 0.7979050 (270)\ttotal: 20.8s\tremaining: 54.8s\n",
      "275:\tlearn: 0.8016760\ttest: 0.7969274\tbest: 0.7979050 (270)\ttotal: 20.9s\tremaining: 54.7s\n",
      "276:\tlearn: 0.8016760\ttest: 0.7969274\tbest: 0.7979050 (270)\ttotal: 20.9s\tremaining: 54.6s\n",
      "277:\tlearn: 0.8013966\ttest: 0.7974860\tbest: 0.7979050 (270)\ttotal: 21s\tremaining: 54.5s\n",
      "278:\tlearn: 0.8016760\ttest: 0.7973464\tbest: 0.7979050 (270)\ttotal: 21.1s\tremaining: 54.5s\n",
      "279:\tlearn: 0.8011173\ttest: 0.7977654\tbest: 0.7979050 (270)\ttotal: 21.2s\tremaining: 54.4s\n",
      "280:\tlearn: 0.8011173\ttest: 0.7977654\tbest: 0.7979050 (270)\ttotal: 21.2s\tremaining: 54.3s\n",
      "281:\tlearn: 0.8012570\ttest: 0.7977654\tbest: 0.7979050 (270)\ttotal: 21.3s\tremaining: 54.3s\n"
     ]
    },
    {
     "name": "stdout",
     "output_type": "stream",
     "text": [
      "282:\tlearn: 0.8013966\ttest: 0.7979050\tbest: 0.7979050 (270)\ttotal: 21.4s\tremaining: 54.2s\n",
      "283:\tlearn: 0.8012570\ttest: 0.7977654\tbest: 0.7979050 (270)\ttotal: 21.5s\tremaining: 54.1s\n",
      "284:\tlearn: 0.8012570\ttest: 0.7977654\tbest: 0.7979050 (270)\ttotal: 21.5s\tremaining: 54s\n",
      "285:\tlearn: 0.8013966\ttest: 0.7977654\tbest: 0.7979050 (270)\ttotal: 21.6s\tremaining: 53.9s\n",
      "286:\tlearn: 0.8013966\ttest: 0.7977654\tbest: 0.7979050 (270)\ttotal: 21.7s\tremaining: 53.9s\n",
      "287:\tlearn: 0.8015363\ttest: 0.7977654\tbest: 0.7979050 (270)\ttotal: 21.8s\tremaining: 53.8s\n",
      "288:\tlearn: 0.8019553\ttest: 0.7977654\tbest: 0.7979050 (270)\ttotal: 21.8s\tremaining: 53.7s\n",
      "289:\tlearn: 0.8018156\ttest: 0.7979050\tbest: 0.7979050 (270)\ttotal: 21.9s\tremaining: 53.6s\n",
      "290:\tlearn: 0.8016760\ttest: 0.7980447\tbest: 0.7980447 (290)\ttotal: 22s\tremaining: 53.6s\n",
      "291:\tlearn: 0.8018156\ttest: 0.7981844\tbest: 0.7981844 (291)\ttotal: 22.1s\tremaining: 53.6s\n",
      "292:\tlearn: 0.8018156\ttest: 0.7980447\tbest: 0.7981844 (291)\ttotal: 22.2s\tremaining: 53.5s\n",
      "293:\tlearn: 0.8018156\ttest: 0.7980447\tbest: 0.7981844 (291)\ttotal: 22.3s\tremaining: 53.5s\n",
      "294:\tlearn: 0.8018156\ttest: 0.7980447\tbest: 0.7981844 (291)\ttotal: 22.4s\tremaining: 53.5s\n",
      "295:\tlearn: 0.8023743\ttest: 0.7983240\tbest: 0.7983240 (295)\ttotal: 22.5s\tremaining: 53.4s\n",
      "296:\tlearn: 0.8029330\ttest: 0.7981844\tbest: 0.7983240 (295)\ttotal: 22.5s\tremaining: 53.3s\n",
      "297:\tlearn: 0.8029330\ttest: 0.7980447\tbest: 0.7983240 (295)\ttotal: 22.6s\tremaining: 53.3s\n",
      "298:\tlearn: 0.8029330\ttest: 0.7983240\tbest: 0.7983240 (295)\ttotal: 22.7s\tremaining: 53.2s\n",
      "299:\tlearn: 0.8030726\ttest: 0.7981844\tbest: 0.7983240 (295)\ttotal: 22.8s\tremaining: 53.2s\n",
      "300:\tlearn: 0.8029330\ttest: 0.7981844\tbest: 0.7983240 (295)\ttotal: 22.9s\tremaining: 53.1s\n",
      "301:\tlearn: 0.8029330\ttest: 0.7981844\tbest: 0.7983240 (295)\ttotal: 22.9s\tremaining: 53s\n",
      "302:\tlearn: 0.8030726\ttest: 0.7983240\tbest: 0.7983240 (295)\ttotal: 23s\tremaining: 53s\n",
      "303:\tlearn: 0.8029330\ttest: 0.7983240\tbest: 0.7983240 (295)\ttotal: 23.1s\tremaining: 52.9s\n",
      "304:\tlearn: 0.8029330\ttest: 0.7983240\tbest: 0.7983240 (295)\ttotal: 23.2s\tremaining: 52.9s\n",
      "305:\tlearn: 0.8033520\ttest: 0.7983240\tbest: 0.7983240 (295)\ttotal: 23.3s\tremaining: 52.8s\n",
      "306:\tlearn: 0.8030726\ttest: 0.7983240\tbest: 0.7983240 (295)\ttotal: 23.4s\tremaining: 52.8s\n",
      "307:\tlearn: 0.8030726\ttest: 0.7984637\tbest: 0.7984637 (307)\ttotal: 23.4s\tremaining: 52.7s\n",
      "308:\tlearn: 0.8032123\ttest: 0.7983240\tbest: 0.7984637 (307)\ttotal: 23.5s\tremaining: 52.6s\n",
      "309:\tlearn: 0.8030726\ttest: 0.7983240\tbest: 0.7984637 (307)\ttotal: 23.6s\tremaining: 52.5s\n",
      "310:\tlearn: 0.8033520\ttest: 0.7983240\tbest: 0.7984637 (307)\ttotal: 23.6s\tremaining: 52.4s\n",
      "311:\tlearn: 0.8033520\ttest: 0.7986034\tbest: 0.7986034 (311)\ttotal: 23.7s\tremaining: 52.3s\n",
      "312:\tlearn: 0.8032123\ttest: 0.7986034\tbest: 0.7986034 (311)\ttotal: 23.8s\tremaining: 52.3s\n",
      "313:\tlearn: 0.8032123\ttest: 0.7987430\tbest: 0.7987430 (313)\ttotal: 23.9s\tremaining: 52.2s\n",
      "314:\tlearn: 0.8033520\ttest: 0.7987430\tbest: 0.7987430 (313)\ttotal: 24s\tremaining: 52.1s\n",
      "315:\tlearn: 0.8033520\ttest: 0.7987430\tbest: 0.7987430 (313)\ttotal: 24s\tremaining: 52s\n",
      "316:\tlearn: 0.8037709\ttest: 0.7984637\tbest: 0.7987430 (313)\ttotal: 24.1s\tremaining: 52s\n",
      "317:\tlearn: 0.8036313\ttest: 0.7984637\tbest: 0.7987430 (313)\ttotal: 24.2s\tremaining: 51.9s\n",
      "318:\tlearn: 0.8037709\ttest: 0.7984637\tbest: 0.7987430 (313)\ttotal: 24.3s\tremaining: 51.9s\n",
      "319:\tlearn: 0.8037709\ttest: 0.7984637\tbest: 0.7987430 (313)\ttotal: 24.4s\tremaining: 51.8s\n",
      "320:\tlearn: 0.8041899\ttest: 0.7986034\tbest: 0.7987430 (313)\ttotal: 24.5s\tremaining: 51.7s\n",
      "321:\tlearn: 0.8044693\ttest: 0.7983240\tbest: 0.7987430 (313)\ttotal: 24.5s\tremaining: 51.6s\n",
      "322:\tlearn: 0.8044693\ttest: 0.7983240\tbest: 0.7987430 (313)\ttotal: 24.6s\tremaining: 51.5s\n",
      "323:\tlearn: 0.8044693\ttest: 0.7983240\tbest: 0.7987430 (313)\ttotal: 24.7s\tremaining: 51.5s\n",
      "324:\tlearn: 0.8040503\ttest: 0.7983240\tbest: 0.7987430 (313)\ttotal: 24.7s\tremaining: 51.4s\n",
      "325:\tlearn: 0.8043296\ttest: 0.7984637\tbest: 0.7987430 (313)\ttotal: 24.8s\tremaining: 51.3s\n",
      "326:\tlearn: 0.8043296\ttest: 0.7984637\tbest: 0.7987430 (313)\ttotal: 24.9s\tremaining: 51.2s\n",
      "327:\tlearn: 0.8043296\ttest: 0.7986034\tbest: 0.7987430 (313)\ttotal: 25s\tremaining: 51.2s\n",
      "328:\tlearn: 0.8043296\ttest: 0.7986034\tbest: 0.7987430 (313)\ttotal: 25.2s\tremaining: 51.4s\n",
      "329:\tlearn: 0.8047486\ttest: 0.7988827\tbest: 0.7988827 (329)\ttotal: 25.3s\tremaining: 51.4s\n",
      "330:\tlearn: 0.8047486\ttest: 0.7988827\tbest: 0.7988827 (329)\ttotal: 25.4s\tremaining: 51.3s\n",
      "331:\tlearn: 0.8047486\ttest: 0.7988827\tbest: 0.7988827 (329)\ttotal: 25.5s\tremaining: 51.3s\n",
      "332:\tlearn: 0.8047486\ttest: 0.7991620\tbest: 0.7991620 (332)\ttotal: 25.6s\tremaining: 51.2s\n",
      "333:\tlearn: 0.8047486\ttest: 0.7991620\tbest: 0.7991620 (332)\ttotal: 25.8s\tremaining: 51.5s\n",
      "334:\tlearn: 0.8047486\ttest: 0.7991620\tbest: 0.7991620 (332)\ttotal: 25.9s\tremaining: 51.5s\n",
      "335:\tlearn: 0.8048883\ttest: 0.7991620\tbest: 0.7991620 (332)\ttotal: 26s\tremaining: 51.4s\n",
      "336:\tlearn: 0.8048883\ttest: 0.7991620\tbest: 0.7991620 (332)\ttotal: 26.1s\tremaining: 51.3s\n",
      "337:\tlearn: 0.8047486\ttest: 0.7990223\tbest: 0.7991620 (332)\ttotal: 26.2s\tremaining: 51.2s\n",
      "338:\tlearn: 0.8047486\ttest: 0.7990223\tbest: 0.7991620 (332)\ttotal: 26.2s\tremaining: 51.2s\n",
      "339:\tlearn: 0.8047486\ttest: 0.7990223\tbest: 0.7991620 (332)\ttotal: 26.3s\tremaining: 51.1s\n",
      "340:\tlearn: 0.8046089\ttest: 0.7990223\tbest: 0.7991620 (332)\ttotal: 26.4s\tremaining: 51s\n",
      "341:\tlearn: 0.8046089\ttest: 0.7990223\tbest: 0.7991620 (332)\ttotal: 26.5s\tremaining: 51s\n",
      "342:\tlearn: 0.8046089\ttest: 0.7988827\tbest: 0.7991620 (332)\ttotal: 26.6s\tremaining: 50.9s\n",
      "343:\tlearn: 0.8043296\ttest: 0.7995810\tbest: 0.7995810 (343)\ttotal: 26.6s\tremaining: 50.8s\n",
      "344:\tlearn: 0.8044693\ttest: 0.7994413\tbest: 0.7995810 (343)\ttotal: 26.7s\tremaining: 50.7s\n",
      "345:\tlearn: 0.8046089\ttest: 0.7994413\tbest: 0.7995810 (343)\ttotal: 26.8s\tremaining: 50.6s\n",
      "346:\tlearn: 0.8047486\ttest: 0.7994413\tbest: 0.7995810 (343)\ttotal: 26.9s\tremaining: 50.6s\n",
      "347:\tlearn: 0.8047486\ttest: 0.7994413\tbest: 0.7995810 (343)\ttotal: 26.9s\tremaining: 50.5s\n",
      "348:\tlearn: 0.8047486\ttest: 0.7995810\tbest: 0.7995810 (343)\ttotal: 27s\tremaining: 50.4s\n",
      "349:\tlearn: 0.8046089\ttest: 0.7995810\tbest: 0.7995810 (343)\ttotal: 27.1s\tremaining: 50.3s\n",
      "350:\tlearn: 0.8046089\ttest: 0.7995810\tbest: 0.7995810 (343)\ttotal: 27.2s\tremaining: 50.3s\n",
      "351:\tlearn: 0.8046089\ttest: 0.7995810\tbest: 0.7995810 (343)\ttotal: 27.3s\tremaining: 50.2s\n",
      "352:\tlearn: 0.8046089\ttest: 0.7995810\tbest: 0.7995810 (343)\ttotal: 27.4s\tremaining: 50.1s\n",
      "353:\tlearn: 0.8044693\ttest: 0.7995810\tbest: 0.7995810 (343)\ttotal: 27.4s\tremaining: 50s\n",
      "354:\tlearn: 0.8044693\ttest: 0.7995810\tbest: 0.7995810 (343)\ttotal: 27.5s\tremaining: 50s\n",
      "355:\tlearn: 0.8047486\ttest: 0.7998603\tbest: 0.7998603 (355)\ttotal: 27.6s\tremaining: 49.9s\n",
      "356:\tlearn: 0.8047486\ttest: 0.7997207\tbest: 0.7998603 (355)\ttotal: 27.6s\tremaining: 49.8s\n",
      "357:\tlearn: 0.8048883\ttest: 0.7993017\tbest: 0.7998603 (355)\ttotal: 27.7s\tremaining: 49.7s\n",
      "358:\tlearn: 0.8051676\ttest: 0.7993017\tbest: 0.7998603 (355)\ttotal: 27.8s\tremaining: 49.6s\n",
      "359:\tlearn: 0.8054469\ttest: 0.7994413\tbest: 0.7998603 (355)\ttotal: 27.9s\tremaining: 49.5s\n",
      "360:\tlearn: 0.8054469\ttest: 0.7993017\tbest: 0.7998603 (355)\ttotal: 27.9s\tremaining: 49.5s\n",
      "361:\tlearn: 0.8054469\ttest: 0.7993017\tbest: 0.7998603 (355)\ttotal: 28s\tremaining: 49.4s\n",
      "362:\tlearn: 0.8054469\ttest: 0.7993017\tbest: 0.7998603 (355)\ttotal: 28.1s\tremaining: 49.3s\n",
      "363:\tlearn: 0.8054469\ttest: 0.7993017\tbest: 0.7998603 (355)\ttotal: 28.2s\tremaining: 49.2s\n",
      "364:\tlearn: 0.8053073\ttest: 0.7993017\tbest: 0.7998603 (355)\ttotal: 28.2s\tremaining: 49.1s\n",
      "365:\tlearn: 0.8053073\ttest: 0.7993017\tbest: 0.7998603 (355)\ttotal: 28.3s\tremaining: 49.1s\n",
      "366:\tlearn: 0.8054469\ttest: 0.7993017\tbest: 0.7998603 (355)\ttotal: 28.4s\tremaining: 49s\n",
      "367:\tlearn: 0.8053073\ttest: 0.7994413\tbest: 0.7998603 (355)\ttotal: 28.5s\tremaining: 48.9s\n",
      "368:\tlearn: 0.8055866\ttest: 0.7995810\tbest: 0.7998603 (355)\ttotal: 28.6s\tremaining: 48.9s\n",
      "369:\tlearn: 0.8055866\ttest: 0.7995810\tbest: 0.7998603 (355)\ttotal: 28.6s\tremaining: 48.8s\n",
      "370:\tlearn: 0.8057263\ttest: 0.7995810\tbest: 0.7998603 (355)\ttotal: 28.7s\tremaining: 48.7s\n",
      "371:\tlearn: 0.8050279\ttest: 0.7998603\tbest: 0.7998603 (355)\ttotal: 28.8s\tremaining: 48.6s\n",
      "372:\tlearn: 0.8054469\ttest: 0.7998603\tbest: 0.7998603 (355)\ttotal: 28.8s\tremaining: 48.5s\n",
      "373:\tlearn: 0.8055866\ttest: 0.7998603\tbest: 0.7998603 (355)\ttotal: 28.9s\tremaining: 48.4s\n",
      "374:\tlearn: 0.8058659\ttest: 0.8000000\tbest: 0.8000000 (374)\ttotal: 29s\tremaining: 48.3s\n",
      "375:\tlearn: 0.8058659\ttest: 0.8000000\tbest: 0.8000000 (374)\ttotal: 29.1s\tremaining: 48.2s\n"
     ]
    },
    {
     "name": "stdout",
     "output_type": "stream",
     "text": [
      "376:\tlearn: 0.8055866\ttest: 0.8001397\tbest: 0.8001397 (376)\ttotal: 29.1s\tremaining: 48.1s\n",
      "377:\tlearn: 0.8054469\ttest: 0.8001397\tbest: 0.8001397 (376)\ttotal: 29.2s\tremaining: 48s\n",
      "378:\tlearn: 0.8058659\ttest: 0.8001397\tbest: 0.8001397 (376)\ttotal: 29.3s\tremaining: 48s\n",
      "379:\tlearn: 0.8057263\ttest: 0.7998603\tbest: 0.8001397 (376)\ttotal: 29.3s\tremaining: 47.9s\n",
      "380:\tlearn: 0.8057263\ttest: 0.7998603\tbest: 0.8001397 (376)\ttotal: 29.4s\tremaining: 47.8s\n",
      "381:\tlearn: 0.8057263\ttest: 0.7998603\tbest: 0.8001397 (376)\ttotal: 29.5s\tremaining: 47.7s\n",
      "382:\tlearn: 0.8060056\ttest: 0.8000000\tbest: 0.8001397 (376)\ttotal: 29.5s\tremaining: 47.6s\n",
      "383:\tlearn: 0.8057263\ttest: 0.7998603\tbest: 0.8001397 (376)\ttotal: 29.6s\tremaining: 47.5s\n",
      "384:\tlearn: 0.8055866\ttest: 0.7998603\tbest: 0.8001397 (376)\ttotal: 29.7s\tremaining: 47.4s\n",
      "385:\tlearn: 0.8058659\ttest: 0.8000000\tbest: 0.8001397 (376)\ttotal: 29.8s\tremaining: 47.4s\n",
      "386:\tlearn: 0.8062849\ttest: 0.7998603\tbest: 0.8001397 (376)\ttotal: 29.9s\tremaining: 47.3s\n",
      "387:\tlearn: 0.8064246\ttest: 0.8004190\tbest: 0.8004190 (387)\ttotal: 29.9s\tremaining: 47.2s\n",
      "388:\tlearn: 0.8064246\ttest: 0.8004190\tbest: 0.8004190 (387)\ttotal: 30s\tremaining: 47.1s\n",
      "389:\tlearn: 0.8062849\ttest: 0.8004190\tbest: 0.8004190 (387)\ttotal: 30.1s\tremaining: 47.1s\n",
      "390:\tlearn: 0.8062849\ttest: 0.8005587\tbest: 0.8005587 (390)\ttotal: 30.2s\tremaining: 47s\n",
      "391:\tlearn: 0.8060056\ttest: 0.8000000\tbest: 0.8005587 (390)\ttotal: 30.2s\tremaining: 46.9s\n",
      "392:\tlearn: 0.8062849\ttest: 0.8002793\tbest: 0.8005587 (390)\ttotal: 30.3s\tremaining: 46.8s\n",
      "393:\tlearn: 0.8062849\ttest: 0.8002793\tbest: 0.8005587 (390)\ttotal: 30.4s\tremaining: 46.7s\n",
      "394:\tlearn: 0.8062849\ttest: 0.8005587\tbest: 0.8005587 (390)\ttotal: 30.5s\tremaining: 46.7s\n",
      "395:\tlearn: 0.8061453\ttest: 0.8005587\tbest: 0.8005587 (390)\ttotal: 30.5s\tremaining: 46.6s\n",
      "396:\tlearn: 0.8062849\ttest: 0.8002793\tbest: 0.8005587 (390)\ttotal: 30.6s\tremaining: 46.5s\n",
      "397:\tlearn: 0.8061453\ttest: 0.8006983\tbest: 0.8006983 (397)\ttotal: 30.7s\tremaining: 46.4s\n",
      "398:\tlearn: 0.8060056\ttest: 0.8004190\tbest: 0.8006983 (397)\ttotal: 30.8s\tremaining: 46.4s\n",
      "399:\tlearn: 0.8062849\ttest: 0.8001397\tbest: 0.8006983 (397)\ttotal: 30.8s\tremaining: 46.3s\n",
      "400:\tlearn: 0.8069832\ttest: 0.8002793\tbest: 0.8006983 (397)\ttotal: 30.9s\tremaining: 46.2s\n",
      "401:\tlearn: 0.8072626\ttest: 0.8002793\tbest: 0.8006983 (397)\ttotal: 31s\tremaining: 46.1s\n",
      "402:\tlearn: 0.8072626\ttest: 0.8002793\tbest: 0.8006983 (397)\ttotal: 31.1s\tremaining: 46s\n",
      "403:\tlearn: 0.8072626\ttest: 0.8002793\tbest: 0.8006983 (397)\ttotal: 31.1s\tremaining: 45.9s\n",
      "404:\tlearn: 0.8071229\ttest: 0.8002793\tbest: 0.8006983 (397)\ttotal: 31.2s\tremaining: 45.8s\n",
      "405:\tlearn: 0.8072626\ttest: 0.8004190\tbest: 0.8006983 (397)\ttotal: 31.3s\tremaining: 45.7s\n",
      "406:\tlearn: 0.8074022\ttest: 0.8004190\tbest: 0.8006983 (397)\ttotal: 31.3s\tremaining: 45.7s\n",
      "407:\tlearn: 0.8074022\ttest: 0.8004190\tbest: 0.8006983 (397)\ttotal: 31.4s\tremaining: 45.6s\n",
      "408:\tlearn: 0.8071229\ttest: 0.8000000\tbest: 0.8006983 (397)\ttotal: 31.5s\tremaining: 45.5s\n",
      "409:\tlearn: 0.8069832\ttest: 0.8002793\tbest: 0.8006983 (397)\ttotal: 31.6s\tremaining: 45.4s\n",
      "410:\tlearn: 0.8071229\ttest: 0.8002793\tbest: 0.8006983 (397)\ttotal: 31.7s\tremaining: 45.4s\n",
      "411:\tlearn: 0.8071229\ttest: 0.8002793\tbest: 0.8006983 (397)\ttotal: 31.7s\tremaining: 45.3s\n",
      "412:\tlearn: 0.8071229\ttest: 0.8004190\tbest: 0.8006983 (397)\ttotal: 31.8s\tremaining: 45.2s\n",
      "413:\tlearn: 0.8071229\ttest: 0.8008380\tbest: 0.8008380 (413)\ttotal: 31.9s\tremaining: 45.1s\n",
      "414:\tlearn: 0.8068436\ttest: 0.8011173\tbest: 0.8011173 (414)\ttotal: 31.9s\tremaining: 45s\n",
      "415:\tlearn: 0.8068436\ttest: 0.8011173\tbest: 0.8011173 (414)\ttotal: 32s\tremaining: 44.9s\n",
      "416:\tlearn: 0.8068436\ttest: 0.8011173\tbest: 0.8011173 (414)\ttotal: 32.1s\tremaining: 44.8s\n",
      "417:\tlearn: 0.8069832\ttest: 0.8011173\tbest: 0.8011173 (414)\ttotal: 32.1s\tremaining: 44.7s\n",
      "418:\tlearn: 0.8076816\ttest: 0.8011173\tbest: 0.8011173 (414)\ttotal: 32.2s\tremaining: 44.7s\n",
      "419:\tlearn: 0.8078212\ttest: 0.8009777\tbest: 0.8011173 (414)\ttotal: 32.3s\tremaining: 44.6s\n",
      "420:\tlearn: 0.8076816\ttest: 0.8011173\tbest: 0.8011173 (414)\ttotal: 32.4s\tremaining: 44.5s\n",
      "421:\tlearn: 0.8076816\ttest: 0.8011173\tbest: 0.8011173 (414)\ttotal: 32.4s\tremaining: 44.4s\n",
      "422:\tlearn: 0.8075419\ttest: 0.8009777\tbest: 0.8011173 (414)\ttotal: 32.5s\tremaining: 44.3s\n",
      "423:\tlearn: 0.8075419\ttest: 0.8008380\tbest: 0.8011173 (414)\ttotal: 32.6s\tremaining: 44.3s\n",
      "424:\tlearn: 0.8075419\ttest: 0.8008380\tbest: 0.8011173 (414)\ttotal: 32.7s\tremaining: 44.2s\n",
      "425:\tlearn: 0.8075419\ttest: 0.8009777\tbest: 0.8011173 (414)\ttotal: 32.7s\tremaining: 44.1s\n",
      "426:\tlearn: 0.8075419\ttest: 0.8008380\tbest: 0.8011173 (414)\ttotal: 32.8s\tremaining: 44s\n",
      "427:\tlearn: 0.8079609\ttest: 0.8013966\tbest: 0.8013966 (427)\ttotal: 32.9s\tremaining: 43.9s\n",
      "428:\tlearn: 0.8078212\ttest: 0.8013966\tbest: 0.8013966 (427)\ttotal: 32.9s\tremaining: 43.8s\n",
      "429:\tlearn: 0.8076816\ttest: 0.8013966\tbest: 0.8013966 (427)\ttotal: 33s\tremaining: 43.8s\n",
      "430:\tlearn: 0.8079609\ttest: 0.8016760\tbest: 0.8016760 (430)\ttotal: 33.1s\tremaining: 43.7s\n",
      "431:\tlearn: 0.8076816\ttest: 0.8016760\tbest: 0.8016760 (430)\ttotal: 33.1s\tremaining: 43.6s\n",
      "432:\tlearn: 0.8079609\ttest: 0.8016760\tbest: 0.8016760 (430)\ttotal: 33.2s\tremaining: 43.5s\n",
      "433:\tlearn: 0.8081006\ttest: 0.8018156\tbest: 0.8018156 (433)\ttotal: 33.3s\tremaining: 43.4s\n",
      "434:\tlearn: 0.8081006\ttest: 0.8018156\tbest: 0.8018156 (433)\ttotal: 33.4s\tremaining: 43.3s\n",
      "435:\tlearn: 0.8081006\ttest: 0.8016760\tbest: 0.8018156 (433)\ttotal: 33.4s\tremaining: 43.2s\n",
      "436:\tlearn: 0.8081006\ttest: 0.8016760\tbest: 0.8018156 (433)\ttotal: 33.5s\tremaining: 43.1s\n",
      "437:\tlearn: 0.8079609\ttest: 0.8016760\tbest: 0.8018156 (433)\ttotal: 33.5s\tremaining: 43s\n",
      "438:\tlearn: 0.8081006\ttest: 0.8012570\tbest: 0.8018156 (433)\ttotal: 33.6s\tremaining: 43s\n",
      "439:\tlearn: 0.8081006\ttest: 0.8013966\tbest: 0.8018156 (433)\ttotal: 33.7s\tremaining: 42.9s\n",
      "440:\tlearn: 0.8082402\ttest: 0.8015363\tbest: 0.8018156 (433)\ttotal: 33.8s\tremaining: 42.8s\n",
      "441:\tlearn: 0.8081006\ttest: 0.8015363\tbest: 0.8018156 (433)\ttotal: 33.8s\tremaining: 42.7s\n",
      "442:\tlearn: 0.8082402\ttest: 0.8015363\tbest: 0.8018156 (433)\ttotal: 33.9s\tremaining: 42.6s\n",
      "443:\tlearn: 0.8085196\ttest: 0.8018156\tbest: 0.8018156 (433)\ttotal: 34s\tremaining: 42.6s\n",
      "444:\tlearn: 0.8086592\ttest: 0.8018156\tbest: 0.8018156 (433)\ttotal: 34.1s\tremaining: 42.5s\n",
      "445:\tlearn: 0.8086592\ttest: 0.8018156\tbest: 0.8018156 (433)\ttotal: 34.1s\tremaining: 42.4s\n",
      "446:\tlearn: 0.8087989\ttest: 0.8018156\tbest: 0.8018156 (433)\ttotal: 34.2s\tremaining: 42.3s\n",
      "447:\tlearn: 0.8087989\ttest: 0.8016760\tbest: 0.8018156 (433)\ttotal: 34.3s\tremaining: 42.2s\n",
      "448:\tlearn: 0.8087989\ttest: 0.8016760\tbest: 0.8018156 (433)\ttotal: 34.3s\tremaining: 42.1s\n",
      "449:\tlearn: 0.8087989\ttest: 0.8013966\tbest: 0.8018156 (433)\ttotal: 34.4s\tremaining: 42.1s\n",
      "450:\tlearn: 0.8086592\ttest: 0.8013966\tbest: 0.8018156 (433)\ttotal: 34.5s\tremaining: 42s\n",
      "451:\tlearn: 0.8090782\ttest: 0.8013966\tbest: 0.8018156 (433)\ttotal: 34.6s\tremaining: 41.9s\n",
      "452:\tlearn: 0.8090782\ttest: 0.8015363\tbest: 0.8018156 (433)\ttotal: 34.6s\tremaining: 41.8s\n",
      "453:\tlearn: 0.8090782\ttest: 0.8013966\tbest: 0.8018156 (433)\ttotal: 34.7s\tremaining: 41.8s\n",
      "454:\tlearn: 0.8090782\ttest: 0.8018156\tbest: 0.8018156 (433)\ttotal: 34.8s\tremaining: 41.7s\n",
      "455:\tlearn: 0.8090782\ttest: 0.8018156\tbest: 0.8018156 (433)\ttotal: 34.9s\tremaining: 41.6s\n",
      "456:\tlearn: 0.8090782\ttest: 0.8018156\tbest: 0.8018156 (433)\ttotal: 34.9s\tremaining: 41.5s\n",
      "457:\tlearn: 0.8092179\ttest: 0.8016760\tbest: 0.8018156 (433)\ttotal: 35s\tremaining: 41.4s\n",
      "458:\tlearn: 0.8090782\ttest: 0.8015363\tbest: 0.8018156 (433)\ttotal: 35.1s\tremaining: 41.3s\n",
      "459:\tlearn: 0.8094972\ttest: 0.8012570\tbest: 0.8018156 (433)\ttotal: 35.2s\tremaining: 41.3s\n",
      "460:\tlearn: 0.8094972\ttest: 0.8013966\tbest: 0.8018156 (433)\ttotal: 35.2s\tremaining: 41.2s\n",
      "461:\tlearn: 0.8094972\ttest: 0.8013966\tbest: 0.8018156 (433)\ttotal: 35.3s\tremaining: 41.1s\n",
      "462:\tlearn: 0.8096369\ttest: 0.8013966\tbest: 0.8018156 (433)\ttotal: 35.5s\tremaining: 41.1s\n",
      "463:\tlearn: 0.8096369\ttest: 0.8013966\tbest: 0.8018156 (433)\ttotal: 35.5s\tremaining: 41.1s\n",
      "464:\tlearn: 0.8100559\ttest: 0.8019553\tbest: 0.8019553 (464)\ttotal: 35.6s\tremaining: 41s\n",
      "465:\tlearn: 0.8101955\ttest: 0.8016760\tbest: 0.8019553 (464)\ttotal: 35.7s\tremaining: 40.9s\n",
      "466:\tlearn: 0.8099162\ttest: 0.8016760\tbest: 0.8019553 (464)\ttotal: 35.7s\tremaining: 40.8s\n",
      "467:\tlearn: 0.8100559\ttest: 0.8016760\tbest: 0.8019553 (464)\ttotal: 35.8s\tremaining: 40.7s\n"
     ]
    },
    {
     "name": "stdout",
     "output_type": "stream",
     "text": [
      "468:\tlearn: 0.8100559\ttest: 0.8012570\tbest: 0.8019553 (464)\ttotal: 35.9s\tremaining: 40.6s\n",
      "469:\tlearn: 0.8100559\ttest: 0.8012570\tbest: 0.8019553 (464)\ttotal: 36s\tremaining: 40.5s\n",
      "470:\tlearn: 0.8100559\ttest: 0.8012570\tbest: 0.8019553 (464)\ttotal: 36s\tremaining: 40.4s\n",
      "471:\tlearn: 0.8100559\ttest: 0.8012570\tbest: 0.8019553 (464)\ttotal: 36.1s\tremaining: 40.4s\n",
      "472:\tlearn: 0.8103352\ttest: 0.8012570\tbest: 0.8019553 (464)\ttotal: 36.3s\tremaining: 40.4s\n",
      "473:\tlearn: 0.8101955\ttest: 0.8016760\tbest: 0.8019553 (464)\ttotal: 36.4s\tremaining: 40.4s\n",
      "474:\tlearn: 0.8106145\ttest: 0.8018156\tbest: 0.8019553 (464)\ttotal: 36.5s\tremaining: 40.4s\n",
      "475:\tlearn: 0.8106145\ttest: 0.8018156\tbest: 0.8019553 (464)\ttotal: 36.7s\tremaining: 40.4s\n",
      "476:\tlearn: 0.8104749\ttest: 0.8011173\tbest: 0.8019553 (464)\ttotal: 36.8s\tremaining: 40.4s\n",
      "477:\tlearn: 0.8104749\ttest: 0.8011173\tbest: 0.8019553 (464)\ttotal: 37s\tremaining: 40.4s\n",
      "478:\tlearn: 0.8104749\ttest: 0.8009777\tbest: 0.8019553 (464)\ttotal: 37.1s\tremaining: 40.4s\n",
      "479:\tlearn: 0.8104749\ttest: 0.8016760\tbest: 0.8019553 (464)\ttotal: 37.3s\tremaining: 40.4s\n",
      "480:\tlearn: 0.8104749\ttest: 0.8016760\tbest: 0.8019553 (464)\ttotal: 37.5s\tremaining: 40.4s\n",
      "481:\tlearn: 0.8104749\ttest: 0.8016760\tbest: 0.8019553 (464)\ttotal: 37.6s\tremaining: 40.4s\n",
      "482:\tlearn: 0.8104749\ttest: 0.8016760\tbest: 0.8019553 (464)\ttotal: 37.8s\tremaining: 40.5s\n",
      "483:\tlearn: 0.8101955\ttest: 0.8018156\tbest: 0.8019553 (464)\ttotal: 38.3s\tremaining: 40.8s\n",
      "484:\tlearn: 0.8101955\ttest: 0.8018156\tbest: 0.8019553 (464)\ttotal: 38.4s\tremaining: 40.8s\n",
      "485:\tlearn: 0.8101955\ttest: 0.8019553\tbest: 0.8019553 (464)\ttotal: 38.6s\tremaining: 40.9s\n",
      "486:\tlearn: 0.8103352\ttest: 0.8020950\tbest: 0.8020950 (486)\ttotal: 38.8s\tremaining: 40.8s\n",
      "487:\tlearn: 0.8103352\ttest: 0.8020950\tbest: 0.8020950 (486)\ttotal: 38.9s\tremaining: 40.8s\n",
      "488:\tlearn: 0.8103352\ttest: 0.8020950\tbest: 0.8020950 (486)\ttotal: 39s\tremaining: 40.8s\n",
      "489:\tlearn: 0.8104749\ttest: 0.8020950\tbest: 0.8020950 (486)\ttotal: 39.2s\tremaining: 40.8s\n",
      "490:\tlearn: 0.8104749\ttest: 0.8020950\tbest: 0.8020950 (486)\ttotal: 39.3s\tremaining: 40.7s\n",
      "491:\tlearn: 0.8104749\ttest: 0.8020950\tbest: 0.8020950 (486)\ttotal: 39.5s\tremaining: 40.8s\n",
      "492:\tlearn: 0.8104749\ttest: 0.8020950\tbest: 0.8020950 (486)\ttotal: 39.6s\tremaining: 40.7s\n",
      "493:\tlearn: 0.8106145\ttest: 0.8020950\tbest: 0.8020950 (486)\ttotal: 39.6s\tremaining: 40.6s\n",
      "494:\tlearn: 0.8107542\ttest: 0.8020950\tbest: 0.8020950 (486)\ttotal: 39.7s\tremaining: 40.5s\n",
      "495:\tlearn: 0.8107542\ttest: 0.8020950\tbest: 0.8020950 (486)\ttotal: 39.8s\tremaining: 40.4s\n",
      "496:\tlearn: 0.8110335\ttest: 0.8020950\tbest: 0.8020950 (486)\ttotal: 39.9s\tremaining: 40.3s\n",
      "497:\tlearn: 0.8108939\ttest: 0.8022346\tbest: 0.8022346 (497)\ttotal: 40s\tremaining: 40.3s\n",
      "498:\tlearn: 0.8108939\ttest: 0.8022346\tbest: 0.8022346 (497)\ttotal: 40s\tremaining: 40.2s\n",
      "499:\tlearn: 0.8110335\ttest: 0.8020950\tbest: 0.8022346 (497)\ttotal: 40.2s\tremaining: 40.2s\n",
      "500:\tlearn: 0.8110335\ttest: 0.8022346\tbest: 0.8022346 (497)\ttotal: 40.2s\tremaining: 40.1s\n",
      "501:\tlearn: 0.8110335\ttest: 0.8020950\tbest: 0.8022346 (497)\ttotal: 40.3s\tremaining: 40s\n",
      "502:\tlearn: 0.8110335\ttest: 0.8020950\tbest: 0.8022346 (497)\ttotal: 40.4s\tremaining: 39.9s\n",
      "503:\tlearn: 0.8111732\ttest: 0.8023743\tbest: 0.8023743 (503)\ttotal: 40.5s\tremaining: 39.9s\n",
      "504:\tlearn: 0.8108939\ttest: 0.8022346\tbest: 0.8023743 (503)\ttotal: 40.6s\tremaining: 39.8s\n",
      "505:\tlearn: 0.8108939\ttest: 0.8022346\tbest: 0.8023743 (503)\ttotal: 40.7s\tremaining: 39.7s\n",
      "506:\tlearn: 0.8108939\ttest: 0.8022346\tbest: 0.8023743 (503)\ttotal: 40.8s\tremaining: 39.6s\n",
      "507:\tlearn: 0.8108939\ttest: 0.8022346\tbest: 0.8023743 (503)\ttotal: 40.8s\tremaining: 39.5s\n",
      "508:\tlearn: 0.8108939\ttest: 0.8022346\tbest: 0.8023743 (503)\ttotal: 40.9s\tremaining: 39.5s\n",
      "509:\tlearn: 0.8111732\ttest: 0.8022346\tbest: 0.8023743 (503)\ttotal: 41s\tremaining: 39.4s\n",
      "510:\tlearn: 0.8110335\ttest: 0.8023743\tbest: 0.8023743 (503)\ttotal: 41.1s\tremaining: 39.3s\n",
      "511:\tlearn: 0.8110335\ttest: 0.8023743\tbest: 0.8023743 (503)\ttotal: 41.1s\tremaining: 39.2s\n",
      "512:\tlearn: 0.8113128\ttest: 0.8025140\tbest: 0.8025140 (512)\ttotal: 41.2s\tremaining: 39.1s\n",
      "513:\tlearn: 0.8111732\ttest: 0.8022346\tbest: 0.8025140 (512)\ttotal: 41.3s\tremaining: 39s\n",
      "514:\tlearn: 0.8111732\ttest: 0.8022346\tbest: 0.8025140 (512)\ttotal: 41.3s\tremaining: 38.9s\n",
      "515:\tlearn: 0.8111732\ttest: 0.8023743\tbest: 0.8025140 (512)\ttotal: 41.4s\tremaining: 38.8s\n",
      "516:\tlearn: 0.8113128\ttest: 0.8023743\tbest: 0.8025140 (512)\ttotal: 41.5s\tremaining: 38.8s\n",
      "517:\tlearn: 0.8108939\ttest: 0.8023743\tbest: 0.8025140 (512)\ttotal: 41.6s\tremaining: 38.7s\n",
      "518:\tlearn: 0.8108939\ttest: 0.8025140\tbest: 0.8025140 (512)\ttotal: 41.7s\tremaining: 38.7s\n",
      "519:\tlearn: 0.8108939\ttest: 0.8026536\tbest: 0.8026536 (519)\ttotal: 41.8s\tremaining: 38.6s\n",
      "520:\tlearn: 0.8108939\ttest: 0.8026536\tbest: 0.8026536 (519)\ttotal: 41.9s\tremaining: 38.5s\n",
      "521:\tlearn: 0.8108939\ttest: 0.8026536\tbest: 0.8026536 (519)\ttotal: 42s\tremaining: 38.5s\n",
      "522:\tlearn: 0.8108939\ttest: 0.8025140\tbest: 0.8026536 (519)\ttotal: 42.1s\tremaining: 38.4s\n",
      "523:\tlearn: 0.8110335\ttest: 0.8022346\tbest: 0.8026536 (519)\ttotal: 42.2s\tremaining: 38.3s\n",
      "524:\tlearn: 0.8115922\ttest: 0.8026536\tbest: 0.8026536 (519)\ttotal: 42.3s\tremaining: 38.2s\n",
      "525:\tlearn: 0.8114525\ttest: 0.8026536\tbest: 0.8026536 (519)\ttotal: 42.3s\tremaining: 38.1s\n",
      "526:\tlearn: 0.8111732\ttest: 0.8026536\tbest: 0.8026536 (519)\ttotal: 42.4s\tremaining: 38.1s\n",
      "527:\tlearn: 0.8111732\ttest: 0.8027933\tbest: 0.8027933 (527)\ttotal: 42.5s\tremaining: 38s\n",
      "528:\tlearn: 0.8111732\ttest: 0.8027933\tbest: 0.8027933 (527)\ttotal: 42.5s\tremaining: 37.9s\n",
      "529:\tlearn: 0.8113128\ttest: 0.8027933\tbest: 0.8027933 (527)\ttotal: 42.6s\tremaining: 37.8s\n",
      "530:\tlearn: 0.8113128\ttest: 0.8027933\tbest: 0.8027933 (527)\ttotal: 42.7s\tremaining: 37.7s\n",
      "531:\tlearn: 0.8113128\ttest: 0.8027933\tbest: 0.8027933 (527)\ttotal: 42.8s\tremaining: 37.6s\n",
      "532:\tlearn: 0.8113128\ttest: 0.8027933\tbest: 0.8027933 (527)\ttotal: 42.9s\tremaining: 37.6s\n",
      "533:\tlearn: 0.8113128\ttest: 0.8029330\tbest: 0.8029330 (533)\ttotal: 43s\tremaining: 37.5s\n",
      "534:\tlearn: 0.8114525\ttest: 0.8027933\tbest: 0.8029330 (533)\ttotal: 43.1s\tremaining: 37.4s\n",
      "535:\tlearn: 0.8111732\ttest: 0.8027933\tbest: 0.8029330 (533)\ttotal: 43.2s\tremaining: 37.4s\n",
      "536:\tlearn: 0.8111732\ttest: 0.8027933\tbest: 0.8029330 (533)\ttotal: 43.3s\tremaining: 37.3s\n",
      "537:\tlearn: 0.8111732\ttest: 0.8027933\tbest: 0.8029330 (533)\ttotal: 43.4s\tremaining: 37.2s\n",
      "538:\tlearn: 0.8111732\ttest: 0.8026536\tbest: 0.8029330 (533)\ttotal: 43.4s\tremaining: 37.2s\n",
      "539:\tlearn: 0.8111732\ttest: 0.8026536\tbest: 0.8029330 (533)\ttotal: 43.5s\tremaining: 37.1s\n",
      "540:\tlearn: 0.8111732\ttest: 0.8026536\tbest: 0.8029330 (533)\ttotal: 43.6s\tremaining: 37s\n",
      "541:\tlearn: 0.8111732\ttest: 0.8026536\tbest: 0.8029330 (533)\ttotal: 43.7s\tremaining: 36.9s\n",
      "542:\tlearn: 0.8113128\ttest: 0.8026536\tbest: 0.8029330 (533)\ttotal: 43.8s\tremaining: 36.8s\n",
      "543:\tlearn: 0.8114525\ttest: 0.8026536\tbest: 0.8029330 (533)\ttotal: 43.8s\tremaining: 36.7s\n",
      "544:\tlearn: 0.8120112\ttest: 0.8025140\tbest: 0.8029330 (533)\ttotal: 43.9s\tremaining: 36.7s\n",
      "545:\tlearn: 0.8121508\ttest: 0.8026536\tbest: 0.8029330 (533)\ttotal: 44s\tremaining: 36.6s\n",
      "546:\tlearn: 0.8120112\ttest: 0.8022346\tbest: 0.8029330 (533)\ttotal: 44.1s\tremaining: 36.5s\n",
      "547:\tlearn: 0.8120112\ttest: 0.8022346\tbest: 0.8029330 (533)\ttotal: 44.2s\tremaining: 36.4s\n",
      "548:\tlearn: 0.8121508\ttest: 0.8023743\tbest: 0.8029330 (533)\ttotal: 44.2s\tremaining: 36.3s\n",
      "549:\tlearn: 0.8121508\ttest: 0.8023743\tbest: 0.8029330 (533)\ttotal: 44.3s\tremaining: 36.3s\n",
      "550:\tlearn: 0.8121508\ttest: 0.8023743\tbest: 0.8029330 (533)\ttotal: 44.4s\tremaining: 36.2s\n",
      "551:\tlearn: 0.8121508\ttest: 0.8023743\tbest: 0.8029330 (533)\ttotal: 44.5s\tremaining: 36.1s\n",
      "552:\tlearn: 0.8121508\ttest: 0.8022346\tbest: 0.8029330 (533)\ttotal: 44.5s\tremaining: 36s\n",
      "553:\tlearn: 0.8121508\ttest: 0.8023743\tbest: 0.8029330 (533)\ttotal: 44.6s\tremaining: 35.9s\n",
      "554:\tlearn: 0.8121508\ttest: 0.8025140\tbest: 0.8029330 (533)\ttotal: 44.7s\tremaining: 35.8s\n",
      "555:\tlearn: 0.8120112\ttest: 0.8026536\tbest: 0.8029330 (533)\ttotal: 44.8s\tremaining: 35.7s\n",
      "556:\tlearn: 0.8118715\ttest: 0.8026536\tbest: 0.8029330 (533)\ttotal: 44.8s\tremaining: 35.7s\n",
      "557:\tlearn: 0.8120112\ttest: 0.8026536\tbest: 0.8029330 (533)\ttotal: 44.9s\tremaining: 35.6s\n",
      "558:\tlearn: 0.8118715\ttest: 0.8027933\tbest: 0.8029330 (533)\ttotal: 45s\tremaining: 35.5s\n",
      "559:\tlearn: 0.8117318\ttest: 0.8022346\tbest: 0.8029330 (533)\ttotal: 45.1s\tremaining: 35.4s\n",
      "560:\tlearn: 0.8118715\ttest: 0.8020950\tbest: 0.8029330 (533)\ttotal: 45.2s\tremaining: 35.3s\n"
     ]
    },
    {
     "name": "stdout",
     "output_type": "stream",
     "text": [
      "561:\tlearn: 0.8120112\ttest: 0.8020950\tbest: 0.8029330 (533)\ttotal: 45.2s\tremaining: 35.3s\n",
      "562:\tlearn: 0.8118715\ttest: 0.8020950\tbest: 0.8029330 (533)\ttotal: 45.3s\tremaining: 35.2s\n",
      "563:\tlearn: 0.8118715\ttest: 0.8019553\tbest: 0.8029330 (533)\ttotal: 45.4s\tremaining: 35.1s\n",
      "564:\tlearn: 0.8117318\ttest: 0.8020950\tbest: 0.8029330 (533)\ttotal: 45.5s\tremaining: 35s\n",
      "565:\tlearn: 0.8118715\ttest: 0.8023743\tbest: 0.8029330 (533)\ttotal: 45.5s\tremaining: 34.9s\n",
      "566:\tlearn: 0.8115922\ttest: 0.8022346\tbest: 0.8029330 (533)\ttotal: 45.6s\tremaining: 34.8s\n",
      "567:\tlearn: 0.8115922\ttest: 0.8027933\tbest: 0.8029330 (533)\ttotal: 45.6s\tremaining: 34.7s\n",
      "568:\tlearn: 0.8117318\ttest: 0.8027933\tbest: 0.8029330 (533)\ttotal: 45.7s\tremaining: 34.6s\n",
      "569:\tlearn: 0.8117318\ttest: 0.8027933\tbest: 0.8029330 (533)\ttotal: 45.8s\tremaining: 34.5s\n",
      "570:\tlearn: 0.8118715\ttest: 0.8027933\tbest: 0.8029330 (533)\ttotal: 45.9s\tremaining: 34.5s\n",
      "571:\tlearn: 0.8118715\ttest: 0.8027933\tbest: 0.8029330 (533)\ttotal: 46s\tremaining: 34.4s\n",
      "572:\tlearn: 0.8120112\ttest: 0.8029330\tbest: 0.8029330 (533)\ttotal: 46.1s\tremaining: 34.3s\n",
      "573:\tlearn: 0.8120112\ttest: 0.8026536\tbest: 0.8029330 (533)\ttotal: 46.2s\tremaining: 34.3s\n",
      "574:\tlearn: 0.8120112\ttest: 0.8026536\tbest: 0.8029330 (533)\ttotal: 46.3s\tremaining: 34.2s\n",
      "575:\tlearn: 0.8120112\ttest: 0.8026536\tbest: 0.8029330 (533)\ttotal: 46.3s\tremaining: 34.1s\n",
      "576:\tlearn: 0.8120112\ttest: 0.8026536\tbest: 0.8029330 (533)\ttotal: 46.4s\tremaining: 34s\n",
      "577:\tlearn: 0.8118715\ttest: 0.8025140\tbest: 0.8029330 (533)\ttotal: 46.5s\tremaining: 33.9s\n",
      "578:\tlearn: 0.8118715\ttest: 0.8025140\tbest: 0.8029330 (533)\ttotal: 46.6s\tremaining: 33.9s\n",
      "579:\tlearn: 0.8121508\ttest: 0.8025140\tbest: 0.8029330 (533)\ttotal: 46.6s\tremaining: 33.8s\n",
      "580:\tlearn: 0.8121508\ttest: 0.8025140\tbest: 0.8029330 (533)\ttotal: 46.7s\tremaining: 33.7s\n",
      "581:\tlearn: 0.8121508\ttest: 0.8023743\tbest: 0.8029330 (533)\ttotal: 46.8s\tremaining: 33.6s\n",
      "582:\tlearn: 0.8121508\ttest: 0.8023743\tbest: 0.8029330 (533)\ttotal: 46.9s\tremaining: 33.5s\n",
      "583:\tlearn: 0.8121508\ttest: 0.8023743\tbest: 0.8029330 (533)\ttotal: 46.9s\tremaining: 33.4s\n",
      "584:\tlearn: 0.8120112\ttest: 0.8023743\tbest: 0.8029330 (533)\ttotal: 47s\tremaining: 33.4s\n",
      "585:\tlearn: 0.8120112\ttest: 0.8023743\tbest: 0.8029330 (533)\ttotal: 47.1s\tremaining: 33.3s\n",
      "586:\tlearn: 0.8120112\ttest: 0.8023743\tbest: 0.8029330 (533)\ttotal: 47.2s\tremaining: 33.2s\n",
      "587:\tlearn: 0.8121508\ttest: 0.8023743\tbest: 0.8029330 (533)\ttotal: 47.3s\tremaining: 33.1s\n",
      "588:\tlearn: 0.8118715\ttest: 0.8029330\tbest: 0.8029330 (533)\ttotal: 47.3s\tremaining: 33s\n",
      "589:\tlearn: 0.8118715\ttest: 0.8027933\tbest: 0.8029330 (533)\ttotal: 47.4s\tremaining: 32.9s\n",
      "590:\tlearn: 0.8118715\ttest: 0.8027933\tbest: 0.8029330 (533)\ttotal: 47.5s\tremaining: 32.9s\n",
      "591:\tlearn: 0.8117318\ttest: 0.8027933\tbest: 0.8029330 (533)\ttotal: 47.6s\tremaining: 32.8s\n",
      "592:\tlearn: 0.8120112\ttest: 0.8029330\tbest: 0.8029330 (533)\ttotal: 47.7s\tremaining: 32.7s\n",
      "593:\tlearn: 0.8114525\ttest: 0.8025140\tbest: 0.8029330 (533)\ttotal: 47.7s\tremaining: 32.6s\n",
      "594:\tlearn: 0.8115922\ttest: 0.8026536\tbest: 0.8029330 (533)\ttotal: 47.8s\tremaining: 32.5s\n",
      "595:\tlearn: 0.8117318\ttest: 0.8025140\tbest: 0.8029330 (533)\ttotal: 47.9s\tremaining: 32.4s\n",
      "596:\tlearn: 0.8117318\ttest: 0.8026536\tbest: 0.8029330 (533)\ttotal: 47.9s\tremaining: 32.4s\n",
      "597:\tlearn: 0.8115922\ttest: 0.8029330\tbest: 0.8029330 (533)\ttotal: 48s\tremaining: 32.3s\n",
      "598:\tlearn: 0.8113128\ttest: 0.8032123\tbest: 0.8032123 (598)\ttotal: 48.1s\tremaining: 32.2s\n",
      "599:\tlearn: 0.8114525\ttest: 0.8032123\tbest: 0.8032123 (598)\ttotal: 48.2s\tremaining: 32.1s\n",
      "600:\tlearn: 0.8114525\ttest: 0.8030726\tbest: 0.8032123 (598)\ttotal: 48.2s\tremaining: 32s\n",
      "601:\tlearn: 0.8114525\ttest: 0.8030726\tbest: 0.8032123 (598)\ttotal: 48.3s\tremaining: 31.9s\n",
      "602:\tlearn: 0.8114525\ttest: 0.8033520\tbest: 0.8033520 (602)\ttotal: 48.4s\tremaining: 31.8s\n",
      "603:\tlearn: 0.8115922\ttest: 0.8032123\tbest: 0.8033520 (602)\ttotal: 48.4s\tremaining: 31.8s\n",
      "604:\tlearn: 0.8115922\ttest: 0.8032123\tbest: 0.8033520 (602)\ttotal: 48.5s\tremaining: 31.7s\n",
      "605:\tlearn: 0.8115922\ttest: 0.8032123\tbest: 0.8033520 (602)\ttotal: 48.6s\tremaining: 31.6s\n",
      "606:\tlearn: 0.8114525\ttest: 0.8029330\tbest: 0.8033520 (602)\ttotal: 48.6s\tremaining: 31.5s\n",
      "607:\tlearn: 0.8118715\ttest: 0.8032123\tbest: 0.8033520 (602)\ttotal: 48.7s\tremaining: 31.4s\n",
      "608:\tlearn: 0.8120112\ttest: 0.8033520\tbest: 0.8033520 (602)\ttotal: 48.8s\tremaining: 31.3s\n",
      "609:\tlearn: 0.8118715\ttest: 0.8037709\tbest: 0.8037709 (609)\ttotal: 48.8s\tremaining: 31.2s\n",
      "610:\tlearn: 0.8118715\ttest: 0.8037709\tbest: 0.8037709 (609)\ttotal: 48.9s\tremaining: 31.1s\n",
      "611:\tlearn: 0.8120112\ttest: 0.8033520\tbest: 0.8037709 (609)\ttotal: 49s\tremaining: 31s\n",
      "612:\tlearn: 0.8121508\ttest: 0.8033520\tbest: 0.8037709 (609)\ttotal: 49s\tremaining: 31s\n",
      "613:\tlearn: 0.8121508\ttest: 0.8033520\tbest: 0.8037709 (609)\ttotal: 49.1s\tremaining: 30.9s\n",
      "614:\tlearn: 0.8121508\ttest: 0.8033520\tbest: 0.8037709 (609)\ttotal: 49.2s\tremaining: 30.8s\n",
      "615:\tlearn: 0.8121508\ttest: 0.8032123\tbest: 0.8037709 (609)\ttotal: 49.3s\tremaining: 30.7s\n",
      "616:\tlearn: 0.8124302\ttest: 0.8034916\tbest: 0.8037709 (609)\ttotal: 49.3s\tremaining: 30.6s\n",
      "617:\tlearn: 0.8128492\ttest: 0.8033520\tbest: 0.8037709 (609)\ttotal: 49.4s\tremaining: 30.5s\n",
      "618:\tlearn: 0.8128492\ttest: 0.8033520\tbest: 0.8037709 (609)\ttotal: 49.5s\tremaining: 30.5s\n",
      "619:\tlearn: 0.8128492\ttest: 0.8033520\tbest: 0.8037709 (609)\ttotal: 49.5s\tremaining: 30.4s\n",
      "620:\tlearn: 0.8128492\ttest: 0.8033520\tbest: 0.8037709 (609)\ttotal: 49.6s\tremaining: 30.3s\n",
      "621:\tlearn: 0.8127095\ttest: 0.8032123\tbest: 0.8037709 (609)\ttotal: 49.7s\tremaining: 30.2s\n",
      "622:\tlearn: 0.8125698\ttest: 0.8032123\tbest: 0.8037709 (609)\ttotal: 49.8s\tremaining: 30.2s\n",
      "623:\tlearn: 0.8125698\ttest: 0.8030726\tbest: 0.8037709 (609)\ttotal: 49.9s\tremaining: 30.1s\n",
      "624:\tlearn: 0.8124302\ttest: 0.8029330\tbest: 0.8037709 (609)\ttotal: 50s\tremaining: 30s\n",
      "625:\tlearn: 0.8124302\ttest: 0.8029330\tbest: 0.8037709 (609)\ttotal: 50s\tremaining: 29.9s\n",
      "626:\tlearn: 0.8124302\ttest: 0.8027933\tbest: 0.8037709 (609)\ttotal: 50.1s\tremaining: 29.8s\n",
      "627:\tlearn: 0.8124302\ttest: 0.8027933\tbest: 0.8037709 (609)\ttotal: 50.2s\tremaining: 29.7s\n",
      "628:\tlearn: 0.8122905\ttest: 0.8029330\tbest: 0.8037709 (609)\ttotal: 50.2s\tremaining: 29.6s\n",
      "629:\tlearn: 0.8122905\ttest: 0.8027933\tbest: 0.8037709 (609)\ttotal: 50.3s\tremaining: 29.5s\n",
      "630:\tlearn: 0.8122905\ttest: 0.8029330\tbest: 0.8037709 (609)\ttotal: 50.4s\tremaining: 29.5s\n",
      "631:\tlearn: 0.8122905\ttest: 0.8029330\tbest: 0.8037709 (609)\ttotal: 50.5s\tremaining: 29.4s\n",
      "632:\tlearn: 0.8121508\ttest: 0.8029330\tbest: 0.8037709 (609)\ttotal: 50.5s\tremaining: 29.3s\n",
      "633:\tlearn: 0.8121508\ttest: 0.8034916\tbest: 0.8037709 (609)\ttotal: 50.6s\tremaining: 29.2s\n",
      "634:\tlearn: 0.8121508\ttest: 0.8033520\tbest: 0.8037709 (609)\ttotal: 50.7s\tremaining: 29.1s\n",
      "635:\tlearn: 0.8121508\ttest: 0.8034916\tbest: 0.8037709 (609)\ttotal: 50.7s\tremaining: 29s\n",
      "636:\tlearn: 0.8121508\ttest: 0.8036313\tbest: 0.8037709 (609)\ttotal: 50.8s\tremaining: 28.9s\n",
      "637:\tlearn: 0.8121508\ttest: 0.8036313\tbest: 0.8037709 (609)\ttotal: 50.9s\tremaining: 28.9s\n",
      "638:\tlearn: 0.8121508\ttest: 0.8034916\tbest: 0.8037709 (609)\ttotal: 50.9s\tremaining: 28.8s\n",
      "639:\tlearn: 0.8121508\ttest: 0.8034916\tbest: 0.8037709 (609)\ttotal: 51s\tremaining: 28.7s\n",
      "640:\tlearn: 0.8121508\ttest: 0.8034916\tbest: 0.8037709 (609)\ttotal: 51.1s\tremaining: 28.6s\n",
      "641:\tlearn: 0.8121508\ttest: 0.8033520\tbest: 0.8037709 (609)\ttotal: 51.2s\tremaining: 28.6s\n",
      "642:\tlearn: 0.8121508\ttest: 0.8033520\tbest: 0.8037709 (609)\ttotal: 51.3s\tremaining: 28.5s\n",
      "643:\tlearn: 0.8121508\ttest: 0.8032123\tbest: 0.8037709 (609)\ttotal: 51.3s\tremaining: 28.4s\n",
      "644:\tlearn: 0.8121508\ttest: 0.8032123\tbest: 0.8037709 (609)\ttotal: 51.4s\tremaining: 28.3s\n",
      "645:\tlearn: 0.8121508\ttest: 0.8030726\tbest: 0.8037709 (609)\ttotal: 51.5s\tremaining: 28.2s\n",
      "646:\tlearn: 0.8121508\ttest: 0.8033520\tbest: 0.8037709 (609)\ttotal: 51.5s\tremaining: 28.1s\n",
      "647:\tlearn: 0.8121508\ttest: 0.8033520\tbest: 0.8037709 (609)\ttotal: 51.6s\tremaining: 28s\n",
      "648:\tlearn: 0.8121508\ttest: 0.8034916\tbest: 0.8037709 (609)\ttotal: 51.7s\tremaining: 27.9s\n",
      "649:\tlearn: 0.8121508\ttest: 0.8034916\tbest: 0.8037709 (609)\ttotal: 51.7s\tremaining: 27.9s\n",
      "650:\tlearn: 0.8121508\ttest: 0.8034916\tbest: 0.8037709 (609)\ttotal: 51.8s\tremaining: 27.8s\n",
      "651:\tlearn: 0.8121508\ttest: 0.8034916\tbest: 0.8037709 (609)\ttotal: 51.9s\tremaining: 27.7s\n",
      "652:\tlearn: 0.8124302\ttest: 0.8032123\tbest: 0.8037709 (609)\ttotal: 52s\tremaining: 27.6s\n"
     ]
    },
    {
     "name": "stdout",
     "output_type": "stream",
     "text": [
      "653:\tlearn: 0.8127095\ttest: 0.8034916\tbest: 0.8037709 (609)\ttotal: 52s\tremaining: 27.5s\n",
      "654:\tlearn: 0.8127095\ttest: 0.8034916\tbest: 0.8037709 (609)\ttotal: 52.1s\tremaining: 27.4s\n",
      "655:\tlearn: 0.8127095\ttest: 0.8033520\tbest: 0.8037709 (609)\ttotal: 52.2s\tremaining: 27.4s\n",
      "656:\tlearn: 0.8128492\ttest: 0.8033520\tbest: 0.8037709 (609)\ttotal: 52.3s\tremaining: 27.3s\n",
      "657:\tlearn: 0.8129888\ttest: 0.8032123\tbest: 0.8037709 (609)\ttotal: 52.4s\tremaining: 27.2s\n",
      "658:\tlearn: 0.8129888\ttest: 0.8032123\tbest: 0.8037709 (609)\ttotal: 52.6s\tremaining: 27.2s\n",
      "659:\tlearn: 0.8125698\ttest: 0.8039106\tbest: 0.8039106 (659)\ttotal: 52.7s\tremaining: 27.1s\n",
      "660:\tlearn: 0.8125698\ttest: 0.8039106\tbest: 0.8039106 (659)\ttotal: 52.8s\tremaining: 27.1s\n",
      "661:\tlearn: 0.8125698\ttest: 0.8039106\tbest: 0.8039106 (659)\ttotal: 52.9s\tremaining: 27s\n",
      "662:\tlearn: 0.8125698\ttest: 0.8039106\tbest: 0.8039106 (659)\ttotal: 53.1s\tremaining: 27s\n",
      "663:\tlearn: 0.8125698\ttest: 0.8039106\tbest: 0.8039106 (659)\ttotal: 53.3s\tremaining: 27s\n",
      "664:\tlearn: 0.8125698\ttest: 0.8039106\tbest: 0.8039106 (659)\ttotal: 53.4s\tremaining: 26.9s\n",
      "665:\tlearn: 0.8125698\ttest: 0.8039106\tbest: 0.8039106 (659)\ttotal: 53.5s\tremaining: 26.9s\n",
      "666:\tlearn: 0.8125698\ttest: 0.8039106\tbest: 0.8039106 (659)\ttotal: 53.7s\tremaining: 26.8s\n",
      "667:\tlearn: 0.8127095\ttest: 0.8039106\tbest: 0.8039106 (659)\ttotal: 53.8s\tremaining: 26.7s\n",
      "668:\tlearn: 0.8125698\ttest: 0.8039106\tbest: 0.8039106 (659)\ttotal: 54s\tremaining: 26.7s\n",
      "669:\tlearn: 0.8125698\ttest: 0.8039106\tbest: 0.8039106 (659)\ttotal: 54.2s\tremaining: 26.7s\n",
      "670:\tlearn: 0.8125698\ttest: 0.8037709\tbest: 0.8039106 (659)\ttotal: 54.3s\tremaining: 26.6s\n",
      "671:\tlearn: 0.8125698\ttest: 0.8036313\tbest: 0.8039106 (659)\ttotal: 54.5s\tremaining: 26.6s\n",
      "672:\tlearn: 0.8125698\ttest: 0.8037709\tbest: 0.8039106 (659)\ttotal: 54.6s\tremaining: 26.5s\n",
      "673:\tlearn: 0.8124302\ttest: 0.8037709\tbest: 0.8039106 (659)\ttotal: 54.8s\tremaining: 26.5s\n",
      "674:\tlearn: 0.8127095\ttest: 0.8039106\tbest: 0.8039106 (659)\ttotal: 54.9s\tremaining: 26.4s\n",
      "675:\tlearn: 0.8128492\ttest: 0.8040503\tbest: 0.8040503 (675)\ttotal: 55s\tremaining: 26.4s\n",
      "676:\tlearn: 0.8128492\ttest: 0.8040503\tbest: 0.8040503 (675)\ttotal: 55.1s\tremaining: 26.3s\n",
      "677:\tlearn: 0.8128492\ttest: 0.8040503\tbest: 0.8040503 (675)\ttotal: 55.3s\tremaining: 26.3s\n",
      "678:\tlearn: 0.8127095\ttest: 0.8039106\tbest: 0.8040503 (675)\ttotal: 55.4s\tremaining: 26.2s\n",
      "679:\tlearn: 0.8127095\ttest: 0.8039106\tbest: 0.8040503 (675)\ttotal: 55.6s\tremaining: 26.2s\n",
      "680:\tlearn: 0.8127095\ttest: 0.8039106\tbest: 0.8040503 (675)\ttotal: 55.8s\tremaining: 26.1s\n",
      "681:\tlearn: 0.8128492\ttest: 0.8039106\tbest: 0.8040503 (675)\ttotal: 55.9s\tremaining: 26.1s\n",
      "682:\tlearn: 0.8128492\ttest: 0.8036313\tbest: 0.8040503 (675)\ttotal: 56.1s\tremaining: 26s\n",
      "683:\tlearn: 0.8129888\ttest: 0.8036313\tbest: 0.8040503 (675)\ttotal: 56.3s\tremaining: 26s\n",
      "684:\tlearn: 0.8128492\ttest: 0.8037709\tbest: 0.8040503 (675)\ttotal: 56.5s\tremaining: 26s\n",
      "685:\tlearn: 0.8128492\ttest: 0.8039106\tbest: 0.8040503 (675)\ttotal: 56.7s\tremaining: 25.9s\n",
      "686:\tlearn: 0.8128492\ttest: 0.8039106\tbest: 0.8040503 (675)\ttotal: 56.8s\tremaining: 25.9s\n",
      "687:\tlearn: 0.8128492\ttest: 0.8039106\tbest: 0.8040503 (675)\ttotal: 57s\tremaining: 25.8s\n",
      "688:\tlearn: 0.8128492\ttest: 0.8037709\tbest: 0.8040503 (675)\ttotal: 57.1s\tremaining: 25.8s\n",
      "689:\tlearn: 0.8127095\ttest: 0.8037709\tbest: 0.8040503 (675)\ttotal: 57.3s\tremaining: 25.7s\n",
      "690:\tlearn: 0.8128492\ttest: 0.8037709\tbest: 0.8040503 (675)\ttotal: 57.6s\tremaining: 25.7s\n",
      "691:\tlearn: 0.8128492\ttest: 0.8039106\tbest: 0.8040503 (675)\ttotal: 57.9s\tremaining: 25.8s\n",
      "692:\tlearn: 0.8132682\ttest: 0.8034916\tbest: 0.8040503 (675)\ttotal: 58.1s\tremaining: 25.7s\n",
      "693:\tlearn: 0.8135475\ttest: 0.8032123\tbest: 0.8040503 (675)\ttotal: 58.4s\tremaining: 25.7s\n",
      "694:\tlearn: 0.8135475\ttest: 0.8032123\tbest: 0.8040503 (675)\ttotal: 58.6s\tremaining: 25.7s\n",
      "695:\tlearn: 0.8135475\ttest: 0.8032123\tbest: 0.8040503 (675)\ttotal: 58.9s\tremaining: 25.7s\n",
      "696:\tlearn: 0.8135475\ttest: 0.8032123\tbest: 0.8040503 (675)\ttotal: 59.1s\tremaining: 25.7s\n",
      "697:\tlearn: 0.8135475\ttest: 0.8032123\tbest: 0.8040503 (675)\ttotal: 59.2s\tremaining: 25.6s\n",
      "698:\tlearn: 0.8138268\ttest: 0.8032123\tbest: 0.8040503 (675)\ttotal: 59.3s\tremaining: 25.5s\n",
      "699:\tlearn: 0.8142458\ttest: 0.8040503\tbest: 0.8040503 (675)\ttotal: 59.4s\tremaining: 25.5s\n",
      "700:\tlearn: 0.8141061\ttest: 0.8040503\tbest: 0.8040503 (675)\ttotal: 59.5s\tremaining: 25.4s\n",
      "701:\tlearn: 0.8141061\ttest: 0.8039106\tbest: 0.8040503 (675)\ttotal: 59.6s\tremaining: 25.3s\n",
      "702:\tlearn: 0.8142458\ttest: 0.8037709\tbest: 0.8040503 (675)\ttotal: 59.7s\tremaining: 25.2s\n",
      "703:\tlearn: 0.8142458\ttest: 0.8037709\tbest: 0.8040503 (675)\ttotal: 59.7s\tremaining: 25.1s\n",
      "704:\tlearn: 0.8142458\ttest: 0.8039106\tbest: 0.8040503 (675)\ttotal: 59.8s\tremaining: 25s\n",
      "705:\tlearn: 0.8142458\ttest: 0.8039106\tbest: 0.8040503 (675)\ttotal: 59.9s\tremaining: 24.9s\n",
      "706:\tlearn: 0.8142458\ttest: 0.8039106\tbest: 0.8040503 (675)\ttotal: 60s\tremaining: 24.8s\n",
      "707:\tlearn: 0.8142458\ttest: 0.8043296\tbest: 0.8043296 (707)\ttotal: 1m\tremaining: 24.8s\n",
      "708:\tlearn: 0.8139665\ttest: 0.8043296\tbest: 0.8043296 (707)\ttotal: 1m\tremaining: 24.7s\n",
      "709:\tlearn: 0.8138268\ttest: 0.8046089\tbest: 0.8046089 (709)\ttotal: 1m\tremaining: 24.6s\n",
      "710:\tlearn: 0.8138268\ttest: 0.8046089\tbest: 0.8046089 (709)\ttotal: 1m\tremaining: 24.5s\n",
      "711:\tlearn: 0.8138268\ttest: 0.8046089\tbest: 0.8046089 (709)\ttotal: 1m\tremaining: 24.4s\n",
      "712:\tlearn: 0.8141061\ttest: 0.8041899\tbest: 0.8046089 (709)\ttotal: 1m\tremaining: 24.3s\n",
      "713:\tlearn: 0.8141061\ttest: 0.8041899\tbest: 0.8046089 (709)\ttotal: 1m\tremaining: 24.2s\n",
      "714:\tlearn: 0.8142458\ttest: 0.8043296\tbest: 0.8046089 (709)\ttotal: 1m\tremaining: 24.1s\n",
      "715:\tlearn: 0.8142458\ttest: 0.8043296\tbest: 0.8046089 (709)\ttotal: 1m\tremaining: 24.1s\n",
      "716:\tlearn: 0.8142458\ttest: 0.8041899\tbest: 0.8046089 (709)\ttotal: 1m\tremaining: 24s\n",
      "717:\tlearn: 0.8142458\ttest: 0.8044693\tbest: 0.8046089 (709)\ttotal: 1m\tremaining: 23.9s\n",
      "718:\tlearn: 0.8142458\ttest: 0.8046089\tbest: 0.8046089 (709)\ttotal: 1m\tremaining: 23.8s\n",
      "719:\tlearn: 0.8142458\ttest: 0.8046089\tbest: 0.8046089 (709)\ttotal: 1m\tremaining: 23.7s\n",
      "720:\tlearn: 0.8142458\ttest: 0.8046089\tbest: 0.8046089 (709)\ttotal: 1m 1s\tremaining: 23.6s\n",
      "721:\tlearn: 0.8145251\ttest: 0.8047486\tbest: 0.8047486 (721)\ttotal: 1m 1s\tremaining: 23.5s\n",
      "722:\tlearn: 0.8145251\ttest: 0.8047486\tbest: 0.8047486 (721)\ttotal: 1m 1s\tremaining: 23.4s\n",
      "723:\tlearn: 0.8145251\ttest: 0.8047486\tbest: 0.8047486 (721)\ttotal: 1m 1s\tremaining: 23.3s\n",
      "724:\tlearn: 0.8145251\ttest: 0.8046089\tbest: 0.8047486 (721)\ttotal: 1m 1s\tremaining: 23.3s\n",
      "725:\tlearn: 0.8145251\ttest: 0.8046089\tbest: 0.8047486 (721)\ttotal: 1m 1s\tremaining: 23.2s\n",
      "726:\tlearn: 0.8143855\ttest: 0.8046089\tbest: 0.8047486 (721)\ttotal: 1m 1s\tremaining: 23.1s\n",
      "727:\tlearn: 0.8143855\ttest: 0.8046089\tbest: 0.8047486 (721)\ttotal: 1m 1s\tremaining: 23s\n",
      "728:\tlearn: 0.8143855\ttest: 0.8046089\tbest: 0.8047486 (721)\ttotal: 1m 1s\tremaining: 22.9s\n",
      "729:\tlearn: 0.8148045\ttest: 0.8050279\tbest: 0.8050279 (729)\ttotal: 1m 1s\tremaining: 22.8s\n",
      "730:\tlearn: 0.8148045\ttest: 0.8050279\tbest: 0.8050279 (729)\ttotal: 1m 1s\tremaining: 22.7s\n",
      "731:\tlearn: 0.8145251\ttest: 0.8050279\tbest: 0.8050279 (729)\ttotal: 1m 1s\tremaining: 22.6s\n",
      "732:\tlearn: 0.8143855\ttest: 0.8048883\tbest: 0.8050279 (729)\ttotal: 1m 1s\tremaining: 22.6s\n",
      "733:\tlearn: 0.8143855\ttest: 0.8050279\tbest: 0.8050279 (729)\ttotal: 1m 1s\tremaining: 22.5s\n",
      "734:\tlearn: 0.8145251\ttest: 0.8048883\tbest: 0.8050279 (729)\ttotal: 1m 2s\tremaining: 22.4s\n",
      "735:\tlearn: 0.8143855\ttest: 0.8048883\tbest: 0.8050279 (729)\ttotal: 1m 2s\tremaining: 22.3s\n",
      "736:\tlearn: 0.8143855\ttest: 0.8047486\tbest: 0.8050279 (729)\ttotal: 1m 2s\tremaining: 22.2s\n",
      "737:\tlearn: 0.8143855\ttest: 0.8046089\tbest: 0.8050279 (729)\ttotal: 1m 2s\tremaining: 22.1s\n",
      "738:\tlearn: 0.8142458\ttest: 0.8044693\tbest: 0.8050279 (729)\ttotal: 1m 2s\tremaining: 22s\n",
      "739:\tlearn: 0.8142458\ttest: 0.8044693\tbest: 0.8050279 (729)\ttotal: 1m 2s\tremaining: 21.9s\n",
      "740:\tlearn: 0.8142458\ttest: 0.8044693\tbest: 0.8050279 (729)\ttotal: 1m 2s\tremaining: 21.9s\n",
      "741:\tlearn: 0.8142458\ttest: 0.8048883\tbest: 0.8050279 (729)\ttotal: 1m 2s\tremaining: 21.8s\n",
      "742:\tlearn: 0.8143855\ttest: 0.8044693\tbest: 0.8050279 (729)\ttotal: 1m 2s\tremaining: 21.7s\n",
      "743:\tlearn: 0.8143855\ttest: 0.8046089\tbest: 0.8050279 (729)\ttotal: 1m 2s\tremaining: 21.6s\n",
      "744:\tlearn: 0.8142458\ttest: 0.8046089\tbest: 0.8050279 (729)\ttotal: 1m 2s\tremaining: 21.5s\n",
      "745:\tlearn: 0.8141061\ttest: 0.8046089\tbest: 0.8050279 (729)\ttotal: 1m 2s\tremaining: 21.4s\n",
      "746:\tlearn: 0.8141061\ttest: 0.8046089\tbest: 0.8050279 (729)\ttotal: 1m 2s\tremaining: 21.3s\n",
      "747:\tlearn: 0.8141061\ttest: 0.8046089\tbest: 0.8050279 (729)\ttotal: 1m 3s\tremaining: 21.2s\n"
     ]
    },
    {
     "name": "stdout",
     "output_type": "stream",
     "text": [
      "748:\tlearn: 0.8141061\ttest: 0.8047486\tbest: 0.8050279 (729)\ttotal: 1m 3s\tremaining: 21.1s\n",
      "749:\tlearn: 0.8139665\ttest: 0.8047486\tbest: 0.8050279 (729)\ttotal: 1m 3s\tremaining: 21.1s\n",
      "750:\tlearn: 0.8141061\ttest: 0.8047486\tbest: 0.8050279 (729)\ttotal: 1m 3s\tremaining: 21s\n",
      "751:\tlearn: 0.8142458\ttest: 0.8047486\tbest: 0.8050279 (729)\ttotal: 1m 3s\tremaining: 20.9s\n",
      "752:\tlearn: 0.8142458\ttest: 0.8047486\tbest: 0.8050279 (729)\ttotal: 1m 3s\tremaining: 20.8s\n",
      "753:\tlearn: 0.8142458\ttest: 0.8047486\tbest: 0.8050279 (729)\ttotal: 1m 3s\tremaining: 20.7s\n",
      "754:\tlearn: 0.8143855\ttest: 0.8047486\tbest: 0.8050279 (729)\ttotal: 1m 3s\tremaining: 20.6s\n",
      "755:\tlearn: 0.8143855\ttest: 0.8050279\tbest: 0.8050279 (729)\ttotal: 1m 3s\tremaining: 20.5s\n",
      "756:\tlearn: 0.8142458\ttest: 0.8048883\tbest: 0.8050279 (729)\ttotal: 1m 3s\tremaining: 20.4s\n",
      "757:\tlearn: 0.8148045\ttest: 0.8051676\tbest: 0.8051676 (757)\ttotal: 1m 3s\tremaining: 20.3s\n",
      "758:\tlearn: 0.8148045\ttest: 0.8051676\tbest: 0.8051676 (757)\ttotal: 1m 3s\tremaining: 20.3s\n",
      "759:\tlearn: 0.8145251\ttest: 0.8051676\tbest: 0.8051676 (757)\ttotal: 1m 3s\tremaining: 20.2s\n",
      "760:\tlearn: 0.8145251\ttest: 0.8050279\tbest: 0.8051676 (757)\ttotal: 1m 3s\tremaining: 20.1s\n",
      "761:\tlearn: 0.8145251\ttest: 0.8051676\tbest: 0.8051676 (757)\ttotal: 1m 3s\tremaining: 20s\n",
      "762:\tlearn: 0.8148045\ttest: 0.8053073\tbest: 0.8053073 (762)\ttotal: 1m 4s\tremaining: 19.9s\n",
      "763:\tlearn: 0.8145251\ttest: 0.8046089\tbest: 0.8053073 (762)\ttotal: 1m 4s\tremaining: 19.8s\n",
      "764:\tlearn: 0.8143855\ttest: 0.8046089\tbest: 0.8053073 (762)\ttotal: 1m 4s\tremaining: 19.7s\n",
      "765:\tlearn: 0.8149441\ttest: 0.8050279\tbest: 0.8053073 (762)\ttotal: 1m 4s\tremaining: 19.6s\n",
      "766:\tlearn: 0.8150838\ttest: 0.8050279\tbest: 0.8053073 (762)\ttotal: 1m 4s\tremaining: 19.6s\n",
      "767:\tlearn: 0.8148045\ttest: 0.8048883\tbest: 0.8053073 (762)\ttotal: 1m 4s\tremaining: 19.5s\n",
      "768:\tlearn: 0.8148045\ttest: 0.8050279\tbest: 0.8053073 (762)\ttotal: 1m 4s\tremaining: 19.4s\n",
      "769:\tlearn: 0.8148045\ttest: 0.8050279\tbest: 0.8053073 (762)\ttotal: 1m 4s\tremaining: 19.3s\n",
      "770:\tlearn: 0.8149441\ttest: 0.8050279\tbest: 0.8053073 (762)\ttotal: 1m 4s\tremaining: 19.2s\n",
      "771:\tlearn: 0.8149441\ttest: 0.8048883\tbest: 0.8053073 (762)\ttotal: 1m 4s\tremaining: 19.1s\n",
      "772:\tlearn: 0.8152235\ttest: 0.8048883\tbest: 0.8053073 (762)\ttotal: 1m 4s\tremaining: 19s\n",
      "773:\tlearn: 0.8153631\ttest: 0.8051676\tbest: 0.8053073 (762)\ttotal: 1m 4s\tremaining: 18.9s\n",
      "774:\tlearn: 0.8152235\ttest: 0.8051676\tbest: 0.8053073 (762)\ttotal: 1m 4s\tremaining: 18.9s\n",
      "775:\tlearn: 0.8152235\ttest: 0.8051676\tbest: 0.8053073 (762)\ttotal: 1m 5s\tremaining: 18.8s\n",
      "776:\tlearn: 0.8152235\ttest: 0.8051676\tbest: 0.8053073 (762)\ttotal: 1m 5s\tremaining: 18.7s\n",
      "777:\tlearn: 0.8152235\ttest: 0.8051676\tbest: 0.8053073 (762)\ttotal: 1m 5s\tremaining: 18.6s\n",
      "778:\tlearn: 0.8152235\ttest: 0.8051676\tbest: 0.8053073 (762)\ttotal: 1m 5s\tremaining: 18.5s\n",
      "779:\tlearn: 0.8152235\ttest: 0.8051676\tbest: 0.8053073 (762)\ttotal: 1m 5s\tremaining: 18.4s\n",
      "780:\tlearn: 0.8152235\ttest: 0.8051676\tbest: 0.8053073 (762)\ttotal: 1m 5s\tremaining: 18.3s\n",
      "781:\tlearn: 0.8152235\ttest: 0.8051676\tbest: 0.8053073 (762)\ttotal: 1m 5s\tremaining: 18.3s\n",
      "782:\tlearn: 0.8150838\ttest: 0.8051676\tbest: 0.8053073 (762)\ttotal: 1m 5s\tremaining: 18.2s\n",
      "783:\tlearn: 0.8150838\ttest: 0.8051676\tbest: 0.8053073 (762)\ttotal: 1m 5s\tremaining: 18.1s\n",
      "784:\tlearn: 0.8150838\ttest: 0.8051676\tbest: 0.8053073 (762)\ttotal: 1m 5s\tremaining: 18s\n",
      "785:\tlearn: 0.8152235\ttest: 0.8051676\tbest: 0.8053073 (762)\ttotal: 1m 5s\tremaining: 17.9s\n",
      "786:\tlearn: 0.8152235\ttest: 0.8051676\tbest: 0.8053073 (762)\ttotal: 1m 5s\tremaining: 17.8s\n",
      "787:\tlearn: 0.8152235\ttest: 0.8053073\tbest: 0.8053073 (762)\ttotal: 1m 5s\tremaining: 17.7s\n",
      "788:\tlearn: 0.8152235\ttest: 0.8053073\tbest: 0.8053073 (762)\ttotal: 1m 5s\tremaining: 17.6s\n",
      "789:\tlearn: 0.8152235\ttest: 0.8051676\tbest: 0.8053073 (762)\ttotal: 1m 6s\tremaining: 17.6s\n",
      "790:\tlearn: 0.8152235\ttest: 0.8051676\tbest: 0.8053073 (762)\ttotal: 1m 6s\tremaining: 17.5s\n",
      "791:\tlearn: 0.8150838\ttest: 0.8053073\tbest: 0.8053073 (762)\ttotal: 1m 6s\tremaining: 17.4s\n",
      "792:\tlearn: 0.8152235\ttest: 0.8048883\tbest: 0.8053073 (762)\ttotal: 1m 6s\tremaining: 17.3s\n",
      "793:\tlearn: 0.8152235\ttest: 0.8048883\tbest: 0.8053073 (762)\ttotal: 1m 6s\tremaining: 17.2s\n",
      "794:\tlearn: 0.8152235\ttest: 0.8048883\tbest: 0.8053073 (762)\ttotal: 1m 6s\tremaining: 17.1s\n",
      "795:\tlearn: 0.8155028\ttest: 0.8053073\tbest: 0.8053073 (762)\ttotal: 1m 6s\tremaining: 17s\n",
      "796:\tlearn: 0.8155028\ttest: 0.8054469\tbest: 0.8054469 (796)\ttotal: 1m 6s\tremaining: 17s\n",
      "797:\tlearn: 0.8155028\ttest: 0.8054469\tbest: 0.8054469 (796)\ttotal: 1m 6s\tremaining: 16.9s\n",
      "798:\tlearn: 0.8153631\ttest: 0.8055866\tbest: 0.8055866 (798)\ttotal: 1m 6s\tremaining: 16.8s\n",
      "799:\tlearn: 0.8153631\ttest: 0.8055866\tbest: 0.8055866 (798)\ttotal: 1m 6s\tremaining: 16.7s\n",
      "800:\tlearn: 0.8156425\ttest: 0.8054469\tbest: 0.8055866 (798)\ttotal: 1m 6s\tremaining: 16.6s\n",
      "801:\tlearn: 0.8157821\ttest: 0.8054469\tbest: 0.8055866 (798)\ttotal: 1m 6s\tremaining: 16.5s\n",
      "802:\tlearn: 0.8157821\ttest: 0.8054469\tbest: 0.8055866 (798)\ttotal: 1m 6s\tremaining: 16.4s\n",
      "803:\tlearn: 0.8157821\ttest: 0.8054469\tbest: 0.8055866 (798)\ttotal: 1m 7s\tremaining: 16.3s\n",
      "804:\tlearn: 0.8157821\ttest: 0.8054469\tbest: 0.8055866 (798)\ttotal: 1m 7s\tremaining: 16.3s\n",
      "805:\tlearn: 0.8156425\ttest: 0.8054469\tbest: 0.8055866 (798)\ttotal: 1m 7s\tremaining: 16.2s\n",
      "806:\tlearn: 0.8156425\ttest: 0.8050279\tbest: 0.8055866 (798)\ttotal: 1m 7s\tremaining: 16.1s\n",
      "807:\tlearn: 0.8159218\ttest: 0.8048883\tbest: 0.8055866 (798)\ttotal: 1m 7s\tremaining: 16s\n",
      "808:\tlearn: 0.8156425\ttest: 0.8048883\tbest: 0.8055866 (798)\ttotal: 1m 7s\tremaining: 15.9s\n",
      "809:\tlearn: 0.8160615\ttest: 0.8053073\tbest: 0.8055866 (798)\ttotal: 1m 7s\tremaining: 15.8s\n",
      "810:\tlearn: 0.8159218\ttest: 0.8054469\tbest: 0.8055866 (798)\ttotal: 1m 7s\tremaining: 15.7s\n",
      "811:\tlearn: 0.8160615\ttest: 0.8055866\tbest: 0.8055866 (798)\ttotal: 1m 7s\tremaining: 15.7s\n",
      "812:\tlearn: 0.8162011\ttest: 0.8050279\tbest: 0.8055866 (798)\ttotal: 1m 7s\tremaining: 15.6s\n",
      "813:\tlearn: 0.8162011\ttest: 0.8051676\tbest: 0.8055866 (798)\ttotal: 1m 7s\tremaining: 15.5s\n",
      "814:\tlearn: 0.8163408\ttest: 0.8051676\tbest: 0.8055866 (798)\ttotal: 1m 8s\tremaining: 15.4s\n",
      "815:\tlearn: 0.8162011\ttest: 0.8050279\tbest: 0.8055866 (798)\ttotal: 1m 8s\tremaining: 15.4s\n",
      "816:\tlearn: 0.8160615\ttest: 0.8053073\tbest: 0.8055866 (798)\ttotal: 1m 8s\tremaining: 15.3s\n",
      "817:\tlearn: 0.8160615\ttest: 0.8051676\tbest: 0.8055866 (798)\ttotal: 1m 8s\tremaining: 15.2s\n",
      "818:\tlearn: 0.8160615\ttest: 0.8051676\tbest: 0.8055866 (798)\ttotal: 1m 8s\tremaining: 15.1s\n",
      "819:\tlearn: 0.8159218\ttest: 0.8050279\tbest: 0.8055866 (798)\ttotal: 1m 8s\tremaining: 15.1s\n",
      "820:\tlearn: 0.8160615\ttest: 0.8048883\tbest: 0.8055866 (798)\ttotal: 1m 8s\tremaining: 15s\n",
      "821:\tlearn: 0.8160615\ttest: 0.8050279\tbest: 0.8055866 (798)\ttotal: 1m 8s\tremaining: 14.9s\n",
      "822:\tlearn: 0.8162011\ttest: 0.8050279\tbest: 0.8055866 (798)\ttotal: 1m 9s\tremaining: 14.9s\n",
      "823:\tlearn: 0.8159218\ttest: 0.8051676\tbest: 0.8055866 (798)\ttotal: 1m 9s\tremaining: 14.8s\n",
      "824:\tlearn: 0.8162011\ttest: 0.8050279\tbest: 0.8055866 (798)\ttotal: 1m 9s\tremaining: 14.7s\n",
      "825:\tlearn: 0.8162011\ttest: 0.8050279\tbest: 0.8055866 (798)\ttotal: 1m 9s\tremaining: 14.6s\n",
      "826:\tlearn: 0.8162011\ttest: 0.8050279\tbest: 0.8055866 (798)\ttotal: 1m 9s\tremaining: 14.6s\n",
      "827:\tlearn: 0.8163408\ttest: 0.8048883\tbest: 0.8055866 (798)\ttotal: 1m 9s\tremaining: 14.5s\n",
      "828:\tlearn: 0.8163408\ttest: 0.8048883\tbest: 0.8055866 (798)\ttotal: 1m 9s\tremaining: 14.4s\n",
      "829:\tlearn: 0.8163408\ttest: 0.8047486\tbest: 0.8055866 (798)\ttotal: 1m 9s\tremaining: 14.3s\n",
      "830:\tlearn: 0.8163408\ttest: 0.8047486\tbest: 0.8055866 (798)\ttotal: 1m 10s\tremaining: 14.3s\n",
      "831:\tlearn: 0.8168994\ttest: 0.8050279\tbest: 0.8055866 (798)\ttotal: 1m 10s\tremaining: 14.2s\n",
      "832:\tlearn: 0.8167598\ttest: 0.8050279\tbest: 0.8055866 (798)\ttotal: 1m 10s\tremaining: 14.1s\n",
      "833:\tlearn: 0.8167598\ttest: 0.8050279\tbest: 0.8055866 (798)\ttotal: 1m 10s\tremaining: 14s\n",
      "834:\tlearn: 0.8167598\ttest: 0.8050279\tbest: 0.8055866 (798)\ttotal: 1m 10s\tremaining: 14s\n",
      "835:\tlearn: 0.8168994\ttest: 0.8047486\tbest: 0.8055866 (798)\ttotal: 1m 10s\tremaining: 13.9s\n",
      "836:\tlearn: 0.8168994\ttest: 0.8047486\tbest: 0.8055866 (798)\ttotal: 1m 10s\tremaining: 13.8s\n",
      "837:\tlearn: 0.8168994\ttest: 0.8050279\tbest: 0.8055866 (798)\ttotal: 1m 10s\tremaining: 13.7s\n",
      "838:\tlearn: 0.8168994\ttest: 0.8050279\tbest: 0.8055866 (798)\ttotal: 1m 10s\tremaining: 13.6s\n",
      "839:\tlearn: 0.8168994\ttest: 0.8048883\tbest: 0.8055866 (798)\ttotal: 1m 11s\tremaining: 13.5s\n",
      "840:\tlearn: 0.8164804\ttest: 0.8046089\tbest: 0.8055866 (798)\ttotal: 1m 11s\tremaining: 13.4s\n",
      "841:\tlearn: 0.8166201\ttest: 0.8046089\tbest: 0.8055866 (798)\ttotal: 1m 11s\tremaining: 13.4s\n"
     ]
    },
    {
     "name": "stdout",
     "output_type": "stream",
     "text": [
      "842:\tlearn: 0.8167598\ttest: 0.8041899\tbest: 0.8055866 (798)\ttotal: 1m 11s\tremaining: 13.3s\n",
      "843:\tlearn: 0.8167598\ttest: 0.8043296\tbest: 0.8055866 (798)\ttotal: 1m 11s\tremaining: 13.2s\n",
      "844:\tlearn: 0.8167598\ttest: 0.8043296\tbest: 0.8055866 (798)\ttotal: 1m 11s\tremaining: 13.1s\n",
      "845:\tlearn: 0.8167598\ttest: 0.8043296\tbest: 0.8055866 (798)\ttotal: 1m 11s\tremaining: 13s\n",
      "846:\tlearn: 0.8167598\ttest: 0.8044693\tbest: 0.8055866 (798)\ttotal: 1m 11s\tremaining: 12.9s\n",
      "847:\tlearn: 0.8167598\ttest: 0.8041899\tbest: 0.8055866 (798)\ttotal: 1m 11s\tremaining: 12.8s\n",
      "848:\tlearn: 0.8167598\ttest: 0.8043296\tbest: 0.8055866 (798)\ttotal: 1m 11s\tremaining: 12.8s\n",
      "849:\tlearn: 0.8167598\ttest: 0.8044693\tbest: 0.8055866 (798)\ttotal: 1m 11s\tremaining: 12.7s\n",
      "850:\tlearn: 0.8170391\ttest: 0.8043296\tbest: 0.8055866 (798)\ttotal: 1m 11s\tremaining: 12.6s\n",
      "851:\tlearn: 0.8168994\ttest: 0.8043296\tbest: 0.8055866 (798)\ttotal: 1m 11s\tremaining: 12.5s\n",
      "852:\tlearn: 0.8167598\ttest: 0.8046089\tbest: 0.8055866 (798)\ttotal: 1m 12s\tremaining: 12.4s\n",
      "853:\tlearn: 0.8168994\ttest: 0.8044693\tbest: 0.8055866 (798)\ttotal: 1m 12s\tremaining: 12.3s\n",
      "854:\tlearn: 0.8168994\ttest: 0.8044693\tbest: 0.8055866 (798)\ttotal: 1m 12s\tremaining: 12.2s\n",
      "855:\tlearn: 0.8168994\ttest: 0.8043296\tbest: 0.8055866 (798)\ttotal: 1m 12s\tremaining: 12.2s\n",
      "856:\tlearn: 0.8168994\ttest: 0.8043296\tbest: 0.8055866 (798)\ttotal: 1m 12s\tremaining: 12.1s\n",
      "857:\tlearn: 0.8167598\ttest: 0.8044693\tbest: 0.8055866 (798)\ttotal: 1m 12s\tremaining: 12s\n",
      "858:\tlearn: 0.8166201\ttest: 0.8043296\tbest: 0.8055866 (798)\ttotal: 1m 12s\tremaining: 11.9s\n",
      "859:\tlearn: 0.8166201\ttest: 0.8043296\tbest: 0.8055866 (798)\ttotal: 1m 12s\tremaining: 11.8s\n",
      "860:\tlearn: 0.8168994\ttest: 0.8044693\tbest: 0.8055866 (798)\ttotal: 1m 12s\tremaining: 11.7s\n",
      "861:\tlearn: 0.8168994\ttest: 0.8044693\tbest: 0.8055866 (798)\ttotal: 1m 12s\tremaining: 11.6s\n",
      "862:\tlearn: 0.8168994\ttest: 0.8044693\tbest: 0.8055866 (798)\ttotal: 1m 12s\tremaining: 11.6s\n",
      "863:\tlearn: 0.8167598\ttest: 0.8044693\tbest: 0.8055866 (798)\ttotal: 1m 12s\tremaining: 11.5s\n",
      "864:\tlearn: 0.8170391\ttest: 0.8046089\tbest: 0.8055866 (798)\ttotal: 1m 12s\tremaining: 11.4s\n",
      "865:\tlearn: 0.8171788\ttest: 0.8047486\tbest: 0.8055866 (798)\ttotal: 1m 13s\tremaining: 11.3s\n",
      "866:\tlearn: 0.8170391\ttest: 0.8047486\tbest: 0.8055866 (798)\ttotal: 1m 13s\tremaining: 11.2s\n",
      "867:\tlearn: 0.8170391\ttest: 0.8047486\tbest: 0.8055866 (798)\ttotal: 1m 13s\tremaining: 11.2s\n",
      "868:\tlearn: 0.8171788\ttest: 0.8046089\tbest: 0.8055866 (798)\ttotal: 1m 13s\tremaining: 11.1s\n",
      "869:\tlearn: 0.8171788\ttest: 0.8047486\tbest: 0.8055866 (798)\ttotal: 1m 13s\tremaining: 11s\n",
      "870:\tlearn: 0.8170391\ttest: 0.8044693\tbest: 0.8055866 (798)\ttotal: 1m 13s\tremaining: 10.9s\n",
      "871:\tlearn: 0.8170391\ttest: 0.8044693\tbest: 0.8055866 (798)\ttotal: 1m 13s\tremaining: 10.8s\n",
      "872:\tlearn: 0.8170391\ttest: 0.8043296\tbest: 0.8055866 (798)\ttotal: 1m 13s\tremaining: 10.7s\n",
      "873:\tlearn: 0.8170391\ttest: 0.8043296\tbest: 0.8055866 (798)\ttotal: 1m 13s\tremaining: 10.7s\n",
      "874:\tlearn: 0.8170391\ttest: 0.8043296\tbest: 0.8055866 (798)\ttotal: 1m 14s\tremaining: 10.6s\n",
      "875:\tlearn: 0.8170391\ttest: 0.8041899\tbest: 0.8055866 (798)\ttotal: 1m 14s\tremaining: 10.5s\n",
      "876:\tlearn: 0.8170391\ttest: 0.8043296\tbest: 0.8055866 (798)\ttotal: 1m 14s\tremaining: 10.4s\n",
      "877:\tlearn: 0.8170391\ttest: 0.8043296\tbest: 0.8055866 (798)\ttotal: 1m 14s\tremaining: 10.3s\n",
      "878:\tlearn: 0.8171788\ttest: 0.8043296\tbest: 0.8055866 (798)\ttotal: 1m 14s\tremaining: 10.3s\n",
      "879:\tlearn: 0.8168994\ttest: 0.8044693\tbest: 0.8055866 (798)\ttotal: 1m 14s\tremaining: 10.2s\n",
      "880:\tlearn: 0.8168994\ttest: 0.8044693\tbest: 0.8055866 (798)\ttotal: 1m 14s\tremaining: 10.1s\n",
      "881:\tlearn: 0.8171788\ttest: 0.8046089\tbest: 0.8055866 (798)\ttotal: 1m 14s\tremaining: 10s\n",
      "882:\tlearn: 0.8173184\ttest: 0.8044693\tbest: 0.8055866 (798)\ttotal: 1m 14s\tremaining: 9.92s\n",
      "883:\tlearn: 0.8173184\ttest: 0.8044693\tbest: 0.8055866 (798)\ttotal: 1m 14s\tremaining: 9.84s\n",
      "884:\tlearn: 0.8171788\ttest: 0.8048883\tbest: 0.8055866 (798)\ttotal: 1m 15s\tremaining: 9.75s\n",
      "885:\tlearn: 0.8174581\ttest: 0.8046089\tbest: 0.8055866 (798)\ttotal: 1m 15s\tremaining: 9.66s\n",
      "886:\tlearn: 0.8174581\ttest: 0.8047486\tbest: 0.8055866 (798)\ttotal: 1m 15s\tremaining: 9.58s\n",
      "887:\tlearn: 0.8173184\ttest: 0.8047486\tbest: 0.8055866 (798)\ttotal: 1m 15s\tremaining: 9.49s\n",
      "888:\tlearn: 0.8173184\ttest: 0.8047486\tbest: 0.8055866 (798)\ttotal: 1m 15s\tremaining: 9.41s\n",
      "889:\tlearn: 0.8175978\ttest: 0.8053073\tbest: 0.8055866 (798)\ttotal: 1m 15s\tremaining: 9.32s\n",
      "890:\tlearn: 0.8175978\ttest: 0.8054469\tbest: 0.8055866 (798)\ttotal: 1m 15s\tremaining: 9.23s\n",
      "891:\tlearn: 0.8177374\ttest: 0.8054469\tbest: 0.8055866 (798)\ttotal: 1m 15s\tremaining: 9.15s\n",
      "892:\tlearn: 0.8178771\ttest: 0.8054469\tbest: 0.8055866 (798)\ttotal: 1m 15s\tremaining: 9.06s\n",
      "893:\tlearn: 0.8178771\ttest: 0.8054469\tbest: 0.8055866 (798)\ttotal: 1m 15s\tremaining: 8.97s\n",
      "894:\tlearn: 0.8177374\ttest: 0.8053073\tbest: 0.8055866 (798)\ttotal: 1m 15s\tremaining: 8.89s\n",
      "895:\tlearn: 0.8177374\ttest: 0.8053073\tbest: 0.8055866 (798)\ttotal: 1m 15s\tremaining: 8.8s\n",
      "896:\tlearn: 0.8177374\ttest: 0.8053073\tbest: 0.8055866 (798)\ttotal: 1m 15s\tremaining: 8.72s\n",
      "897:\tlearn: 0.8180168\ttest: 0.8051676\tbest: 0.8055866 (798)\ttotal: 1m 15s\tremaining: 8.63s\n",
      "898:\tlearn: 0.8178771\ttest: 0.8050279\tbest: 0.8055866 (798)\ttotal: 1m 16s\tremaining: 8.54s\n",
      "899:\tlearn: 0.8180168\ttest: 0.8048883\tbest: 0.8055866 (798)\ttotal: 1m 16s\tremaining: 8.46s\n",
      "900:\tlearn: 0.8180168\ttest: 0.8048883\tbest: 0.8055866 (798)\ttotal: 1m 16s\tremaining: 8.37s\n",
      "901:\tlearn: 0.8180168\ttest: 0.8047486\tbest: 0.8055866 (798)\ttotal: 1m 16s\tremaining: 8.29s\n",
      "902:\tlearn: 0.8177374\ttest: 0.8048883\tbest: 0.8055866 (798)\ttotal: 1m 16s\tremaining: 8.2s\n",
      "903:\tlearn: 0.8177374\ttest: 0.8048883\tbest: 0.8055866 (798)\ttotal: 1m 16s\tremaining: 8.11s\n",
      "904:\tlearn: 0.8177374\ttest: 0.8047486\tbest: 0.8055866 (798)\ttotal: 1m 16s\tremaining: 8.03s\n",
      "905:\tlearn: 0.8177374\ttest: 0.8047486\tbest: 0.8055866 (798)\ttotal: 1m 16s\tremaining: 7.94s\n",
      "906:\tlearn: 0.8178771\ttest: 0.8047486\tbest: 0.8055866 (798)\ttotal: 1m 16s\tremaining: 7.86s\n",
      "907:\tlearn: 0.8177374\ttest: 0.8046089\tbest: 0.8055866 (798)\ttotal: 1m 16s\tremaining: 7.77s\n",
      "908:\tlearn: 0.8175978\ttest: 0.8047486\tbest: 0.8055866 (798)\ttotal: 1m 16s\tremaining: 7.68s\n",
      "909:\tlearn: 0.8175978\ttest: 0.8047486\tbest: 0.8055866 (798)\ttotal: 1m 16s\tremaining: 7.6s\n",
      "910:\tlearn: 0.8175978\ttest: 0.8047486\tbest: 0.8055866 (798)\ttotal: 1m 16s\tremaining: 7.51s\n",
      "911:\tlearn: 0.8174581\ttest: 0.8047486\tbest: 0.8055866 (798)\ttotal: 1m 16s\tremaining: 7.43s\n",
      "912:\tlearn: 0.8174581\ttest: 0.8047486\tbest: 0.8055866 (798)\ttotal: 1m 17s\tremaining: 7.34s\n",
      "913:\tlearn: 0.8174581\ttest: 0.8047486\tbest: 0.8055866 (798)\ttotal: 1m 17s\tremaining: 7.26s\n",
      "914:\tlearn: 0.8174581\ttest: 0.8047486\tbest: 0.8055866 (798)\ttotal: 1m 17s\tremaining: 7.17s\n",
      "915:\tlearn: 0.8174581\ttest: 0.8047486\tbest: 0.8055866 (798)\ttotal: 1m 17s\tremaining: 7.08s\n",
      "916:\tlearn: 0.8174581\ttest: 0.8047486\tbest: 0.8055866 (798)\ttotal: 1m 17s\tremaining: 7s\n",
      "917:\tlearn: 0.8174581\ttest: 0.8047486\tbest: 0.8055866 (798)\ttotal: 1m 17s\tremaining: 6.92s\n",
      "918:\tlearn: 0.8174581\ttest: 0.8047486\tbest: 0.8055866 (798)\ttotal: 1m 17s\tremaining: 6.83s\n",
      "919:\tlearn: 0.8173184\ttest: 0.8048883\tbest: 0.8055866 (798)\ttotal: 1m 17s\tremaining: 6.74s\n",
      "920:\tlearn: 0.8173184\ttest: 0.8048883\tbest: 0.8055866 (798)\ttotal: 1m 17s\tremaining: 6.66s\n",
      "921:\tlearn: 0.8173184\ttest: 0.8048883\tbest: 0.8055866 (798)\ttotal: 1m 17s\tremaining: 6.57s\n",
      "922:\tlearn: 0.8173184\ttest: 0.8047486\tbest: 0.8055866 (798)\ttotal: 1m 17s\tremaining: 6.49s\n",
      "923:\tlearn: 0.8174581\ttest: 0.8047486\tbest: 0.8055866 (798)\ttotal: 1m 17s\tremaining: 6.4s\n",
      "924:\tlearn: 0.8174581\ttest: 0.8048883\tbest: 0.8055866 (798)\ttotal: 1m 17s\tremaining: 6.32s\n",
      "925:\tlearn: 0.8173184\ttest: 0.8048883\tbest: 0.8055866 (798)\ttotal: 1m 17s\tremaining: 6.23s\n",
      "926:\tlearn: 0.8174581\ttest: 0.8048883\tbest: 0.8055866 (798)\ttotal: 1m 18s\tremaining: 6.15s\n",
      "927:\tlearn: 0.8174581\ttest: 0.8048883\tbest: 0.8055866 (798)\ttotal: 1m 18s\tremaining: 6.06s\n",
      "928:\tlearn: 0.8173184\ttest: 0.8050279\tbest: 0.8055866 (798)\ttotal: 1m 18s\tremaining: 5.98s\n",
      "929:\tlearn: 0.8175978\ttest: 0.8051676\tbest: 0.8055866 (798)\ttotal: 1m 18s\tremaining: 5.89s\n",
      "930:\tlearn: 0.8175978\ttest: 0.8051676\tbest: 0.8055866 (798)\ttotal: 1m 18s\tremaining: 5.8s\n",
      "931:\tlearn: 0.8178771\ttest: 0.8050279\tbest: 0.8055866 (798)\ttotal: 1m 18s\tremaining: 5.72s\n",
      "932:\tlearn: 0.8184358\ttest: 0.8048883\tbest: 0.8055866 (798)\ttotal: 1m 18s\tremaining: 5.64s\n",
      "933:\tlearn: 0.8184358\ttest: 0.8048883\tbest: 0.8055866 (798)\ttotal: 1m 18s\tremaining: 5.55s\n"
     ]
    },
    {
     "name": "stdout",
     "output_type": "stream",
     "text": [
      "934:\tlearn: 0.8184358\ttest: 0.8050279\tbest: 0.8055866 (798)\ttotal: 1m 18s\tremaining: 5.47s\n",
      "935:\tlearn: 0.8182961\ttest: 0.8048883\tbest: 0.8055866 (798)\ttotal: 1m 18s\tremaining: 5.38s\n",
      "936:\tlearn: 0.8181564\ttest: 0.8048883\tbest: 0.8055866 (798)\ttotal: 1m 18s\tremaining: 5.3s\n",
      "937:\tlearn: 0.8180168\ttest: 0.8048883\tbest: 0.8055866 (798)\ttotal: 1m 18s\tremaining: 5.21s\n",
      "938:\tlearn: 0.8181564\ttest: 0.8047486\tbest: 0.8055866 (798)\ttotal: 1m 18s\tremaining: 5.13s\n",
      "939:\tlearn: 0.8181564\ttest: 0.8047486\tbest: 0.8055866 (798)\ttotal: 1m 19s\tremaining: 5.04s\n",
      "940:\tlearn: 0.8181564\ttest: 0.8050279\tbest: 0.8055866 (798)\ttotal: 1m 19s\tremaining: 4.96s\n",
      "941:\tlearn: 0.8180168\ttest: 0.8050279\tbest: 0.8055866 (798)\ttotal: 1m 19s\tremaining: 4.88s\n",
      "942:\tlearn: 0.8180168\ttest: 0.8050279\tbest: 0.8055866 (798)\ttotal: 1m 19s\tremaining: 4.79s\n",
      "943:\tlearn: 0.8180168\ttest: 0.8050279\tbest: 0.8055866 (798)\ttotal: 1m 19s\tremaining: 4.7s\n",
      "944:\tlearn: 0.8177374\ttest: 0.8050279\tbest: 0.8055866 (798)\ttotal: 1m 19s\tremaining: 4.62s\n",
      "945:\tlearn: 0.8175978\ttest: 0.8050279\tbest: 0.8055866 (798)\ttotal: 1m 19s\tremaining: 4.53s\n",
      "946:\tlearn: 0.8175978\ttest: 0.8050279\tbest: 0.8055866 (798)\ttotal: 1m 19s\tremaining: 4.45s\n",
      "947:\tlearn: 0.8177374\ttest: 0.8048883\tbest: 0.8055866 (798)\ttotal: 1m 19s\tremaining: 4.37s\n",
      "948:\tlearn: 0.8177374\ttest: 0.8048883\tbest: 0.8055866 (798)\ttotal: 1m 19s\tremaining: 4.28s\n",
      "949:\tlearn: 0.8177374\ttest: 0.8048883\tbest: 0.8055866 (798)\ttotal: 1m 19s\tremaining: 4.2s\n",
      "950:\tlearn: 0.8177374\ttest: 0.8050279\tbest: 0.8055866 (798)\ttotal: 1m 19s\tremaining: 4.11s\n",
      "951:\tlearn: 0.8178771\ttest: 0.8048883\tbest: 0.8055866 (798)\ttotal: 1m 19s\tremaining: 4.03s\n",
      "952:\tlearn: 0.8181564\ttest: 0.8048883\tbest: 0.8055866 (798)\ttotal: 1m 19s\tremaining: 3.94s\n",
      "953:\tlearn: 0.8181564\ttest: 0.8050279\tbest: 0.8055866 (798)\ttotal: 1m 20s\tremaining: 3.86s\n",
      "954:\tlearn: 0.8181564\ttest: 0.8048883\tbest: 0.8055866 (798)\ttotal: 1m 20s\tremaining: 3.77s\n",
      "955:\tlearn: 0.8181564\ttest: 0.8048883\tbest: 0.8055866 (798)\ttotal: 1m 20s\tremaining: 3.69s\n",
      "956:\tlearn: 0.8181564\ttest: 0.8048883\tbest: 0.8055866 (798)\ttotal: 1m 20s\tremaining: 3.61s\n",
      "957:\tlearn: 0.8182961\ttest: 0.8046089\tbest: 0.8055866 (798)\ttotal: 1m 20s\tremaining: 3.52s\n",
      "958:\tlearn: 0.8182961\ttest: 0.8047486\tbest: 0.8055866 (798)\ttotal: 1m 20s\tremaining: 3.44s\n",
      "959:\tlearn: 0.8182961\ttest: 0.8046089\tbest: 0.8055866 (798)\ttotal: 1m 20s\tremaining: 3.36s\n",
      "960:\tlearn: 0.8182961\ttest: 0.8044693\tbest: 0.8055866 (798)\ttotal: 1m 20s\tremaining: 3.28s\n",
      "961:\tlearn: 0.8182961\ttest: 0.8046089\tbest: 0.8055866 (798)\ttotal: 1m 20s\tremaining: 3.19s\n",
      "962:\tlearn: 0.8181564\ttest: 0.8048883\tbest: 0.8055866 (798)\ttotal: 1m 20s\tremaining: 3.11s\n",
      "963:\tlearn: 0.8180168\ttest: 0.8048883\tbest: 0.8055866 (798)\ttotal: 1m 20s\tremaining: 3.02s\n",
      "964:\tlearn: 0.8181564\ttest: 0.8047486\tbest: 0.8055866 (798)\ttotal: 1m 21s\tremaining: 2.94s\n",
      "965:\tlearn: 0.8178771\ttest: 0.8051676\tbest: 0.8055866 (798)\ttotal: 1m 21s\tremaining: 2.85s\n",
      "966:\tlearn: 0.8178771\ttest: 0.8048883\tbest: 0.8055866 (798)\ttotal: 1m 21s\tremaining: 2.77s\n",
      "967:\tlearn: 0.8178771\ttest: 0.8047486\tbest: 0.8055866 (798)\ttotal: 1m 21s\tremaining: 2.69s\n",
      "968:\tlearn: 0.8180168\ttest: 0.8048883\tbest: 0.8055866 (798)\ttotal: 1m 21s\tremaining: 2.6s\n",
      "969:\tlearn: 0.8182961\ttest: 0.8044693\tbest: 0.8055866 (798)\ttotal: 1m 21s\tremaining: 2.52s\n",
      "970:\tlearn: 0.8182961\ttest: 0.8044693\tbest: 0.8055866 (798)\ttotal: 1m 21s\tremaining: 2.43s\n",
      "971:\tlearn: 0.8181564\ttest: 0.8046089\tbest: 0.8055866 (798)\ttotal: 1m 21s\tremaining: 2.35s\n",
      "972:\tlearn: 0.8180168\ttest: 0.8041899\tbest: 0.8055866 (798)\ttotal: 1m 21s\tremaining: 2.27s\n",
      "973:\tlearn: 0.8181564\ttest: 0.8041899\tbest: 0.8055866 (798)\ttotal: 1m 21s\tremaining: 2.18s\n",
      "974:\tlearn: 0.8181564\ttest: 0.8043296\tbest: 0.8055866 (798)\ttotal: 1m 21s\tremaining: 2.1s\n",
      "975:\tlearn: 0.8181564\ttest: 0.8041899\tbest: 0.8055866 (798)\ttotal: 1m 21s\tremaining: 2.01s\n",
      "976:\tlearn: 0.8181564\ttest: 0.8041899\tbest: 0.8055866 (798)\ttotal: 1m 21s\tremaining: 1.93s\n",
      "977:\tlearn: 0.8184358\ttest: 0.8041899\tbest: 0.8055866 (798)\ttotal: 1m 22s\tremaining: 1.85s\n",
      "978:\tlearn: 0.8182961\ttest: 0.8043296\tbest: 0.8055866 (798)\ttotal: 1m 22s\tremaining: 1.76s\n",
      "979:\tlearn: 0.8181564\ttest: 0.8044693\tbest: 0.8055866 (798)\ttotal: 1m 22s\tremaining: 1.68s\n",
      "980:\tlearn: 0.8180168\ttest: 0.8044693\tbest: 0.8055866 (798)\ttotal: 1m 22s\tremaining: 1.59s\n",
      "981:\tlearn: 0.8181564\ttest: 0.8043296\tbest: 0.8055866 (798)\ttotal: 1m 22s\tremaining: 1.51s\n",
      "982:\tlearn: 0.8180168\ttest: 0.8043296\tbest: 0.8055866 (798)\ttotal: 1m 22s\tremaining: 1.43s\n",
      "983:\tlearn: 0.8178771\ttest: 0.8043296\tbest: 0.8055866 (798)\ttotal: 1m 22s\tremaining: 1.34s\n",
      "984:\tlearn: 0.8178771\ttest: 0.8043296\tbest: 0.8055866 (798)\ttotal: 1m 22s\tremaining: 1.26s\n",
      "985:\tlearn: 0.8178771\ttest: 0.8043296\tbest: 0.8055866 (798)\ttotal: 1m 22s\tremaining: 1.17s\n",
      "986:\tlearn: 0.8181564\ttest: 0.8041899\tbest: 0.8055866 (798)\ttotal: 1m 22s\tremaining: 1.09s\n",
      "987:\tlearn: 0.8182961\ttest: 0.8043296\tbest: 0.8055866 (798)\ttotal: 1m 22s\tremaining: 1.01s\n",
      "988:\tlearn: 0.8182961\ttest: 0.8044693\tbest: 0.8055866 (798)\ttotal: 1m 22s\tremaining: 922ms\n",
      "989:\tlearn: 0.8182961\ttest: 0.8044693\tbest: 0.8055866 (798)\ttotal: 1m 23s\tremaining: 838ms\n",
      "990:\tlearn: 0.8185754\ttest: 0.8046089\tbest: 0.8055866 (798)\ttotal: 1m 23s\tremaining: 754ms\n",
      "991:\tlearn: 0.8185754\ttest: 0.8044693\tbest: 0.8055866 (798)\ttotal: 1m 23s\tremaining: 671ms\n",
      "992:\tlearn: 0.8185754\ttest: 0.8044693\tbest: 0.8055866 (798)\ttotal: 1m 23s\tremaining: 587ms\n",
      "993:\tlearn: 0.8187151\ttest: 0.8044693\tbest: 0.8055866 (798)\ttotal: 1m 23s\tremaining: 503ms\n",
      "994:\tlearn: 0.8188547\ttest: 0.8044693\tbest: 0.8055866 (798)\ttotal: 1m 23s\tremaining: 419ms\n",
      "995:\tlearn: 0.8189944\ttest: 0.8048883\tbest: 0.8055866 (798)\ttotal: 1m 23s\tremaining: 335ms\n",
      "996:\tlearn: 0.8189944\ttest: 0.8048883\tbest: 0.8055866 (798)\ttotal: 1m 23s\tremaining: 251ms\n",
      "997:\tlearn: 0.8189944\ttest: 0.8048883\tbest: 0.8055866 (798)\ttotal: 1m 23s\tremaining: 168ms\n",
      "998:\tlearn: 0.8191341\ttest: 0.8048883\tbest: 0.8055866 (798)\ttotal: 1m 23s\tremaining: 83.8ms\n",
      "999:\tlearn: 0.8192737\ttest: 0.8048883\tbest: 0.8055866 (798)\ttotal: 1m 23s\tremaining: 0us\n",
      "\n",
      "bestTest = 0.8055865922\n",
      "bestIteration = 798\n",
      "\n",
      "Shrink model to first 799 iterations.\n"
     ]
    },
    {
     "data": {
      "text/plain": [
       "<catboost.core.CatBoostClassifier at 0x26b8f854128>"
      ]
     },
     "execution_count": 74,
     "metadata": {},
     "output_type": "execute_result"
    }
   ],
   "source": [
    "classifier = CatBoostClassifier(iterations=1000, depth=4, learning_rate=0.1, eval_metric ='Accuracy',use_best_model=True, random_seed=42)\n",
    "classifier.fit(X,y,cat_features=cate_features_index,eval_set=(X,y))"
   ]
  },
  {
   "cell_type": "code",
   "execution_count": 75,
   "metadata": {},
   "outputs": [],
   "source": [
    "pred = classifier.predict_proba(test)[:, 1].round(4)"
   ]
  },
  {
   "cell_type": "code",
   "execution_count": 76,
   "metadata": {},
   "outputs": [],
   "source": [
    "x_final =pd.DataFrame({'Customer Id': test['Customer Id']})\n",
    "y_final = pd.DataFrame ({'Claim' :pred})"
   ]
  },
  {
   "cell_type": "code",
   "execution_count": 77,
   "metadata": {},
   "outputs": [
    {
     "data": {
      "text/html": [
       "<div>\n",
       "<style scoped>\n",
       "    .dataframe tbody tr th:only-of-type {\n",
       "        vertical-align: middle;\n",
       "    }\n",
       "\n",
       "    .dataframe tbody tr th {\n",
       "        vertical-align: top;\n",
       "    }\n",
       "\n",
       "    .dataframe thead th {\n",
       "        text-align: right;\n",
       "    }\n",
       "</style>\n",
       "<table border=\"1\" class=\"dataframe\">\n",
       "  <thead>\n",
       "    <tr style=\"text-align: right;\">\n",
       "      <th></th>\n",
       "      <th>Customer Id</th>\n",
       "      <th>Claim</th>\n",
       "    </tr>\n",
       "  </thead>\n",
       "  <tbody>\n",
       "    <tr>\n",
       "      <th>0</th>\n",
       "      <td>H11920</td>\n",
       "      <td>0.0891</td>\n",
       "    </tr>\n",
       "    <tr>\n",
       "      <th>1</th>\n",
       "      <td>H11921</td>\n",
       "      <td>0.0777</td>\n",
       "    </tr>\n",
       "    <tr>\n",
       "      <th>2</th>\n",
       "      <td>H9805</td>\n",
       "      <td>0.0839</td>\n",
       "    </tr>\n",
       "    <tr>\n",
       "      <th>3</th>\n",
       "      <td>H7493</td>\n",
       "      <td>0.1446</td>\n",
       "    </tr>\n",
       "    <tr>\n",
       "      <th>4</th>\n",
       "      <td>H7494</td>\n",
       "      <td>0.1283</td>\n",
       "    </tr>\n",
       "  </tbody>\n",
       "</table>\n",
       "</div>"
      ],
      "text/plain": [
       "  Customer Id   Claim\n",
       "0      H11920  0.0891\n",
       "1      H11921  0.0777\n",
       "2       H9805  0.0839\n",
       "3       H7493  0.1446\n",
       "4       H7494  0.1283"
      ]
     },
     "execution_count": 77,
     "metadata": {},
     "output_type": "execute_result"
    }
   ],
   "source": [
    "submission = pd.concat([x_final, y_final], axis ='columns')\n",
    "submission.head()"
   ]
  },
  {
   "cell_type": "code",
   "execution_count": 78,
   "metadata": {},
   "outputs": [],
   "source": [
    "submission.to_csv('axa8.csv', index =False)"
   ]
  },
  {
   "cell_type": "code",
   "execution_count": null,
   "metadata": {},
   "outputs": [],
   "source": []
  }
 ],
 "metadata": {
  "kernelspec": {
   "display_name": "Python 3",
   "language": "python",
   "name": "python3"
  },
  "language_info": {
   "codemirror_mode": {
    "name": "ipython",
    "version": 3
   },
   "file_extension": ".py",
   "mimetype": "text/x-python",
   "name": "python",
   "nbconvert_exporter": "python",
   "pygments_lexer": "ipython3",
   "version": "3.7.1"
  }
 },
 "nbformat": 4,
 "nbformat_minor": 4
}
